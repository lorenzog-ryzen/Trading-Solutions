{
 "cells": [
  {
   "cell_type": "code",
   "execution_count": 8,
   "metadata": {},
   "outputs": [],
   "source": [
    "from typing import List, Tuple, Any\n",
    "from datetime import datetime\n",
    "import os\n",
    "import numpy as np\n",
    "import pandas as pd\n",
    "import plotly.express as px\n",
    "import plotly.graph_objects as go\n",
    "import plotly.io as pio\n",
    "import gym\n",
    "from gym import wrappers\n",
    "import matplotlib.pyplot as plt\n",
    "from pprint import pprint\n",
    "from datetime import datetime, timedelta"
   ]
  },
  {
   "cell_type": "code",
   "execution_count": 2,
   "metadata": {},
   "outputs": [],
   "source": [
    "def get_unix(date: str, time: str) -> int:\n",
    "    format_date = \"%d/%m/%Y\"\n",
    "    format_time = \"%H:%M:%S.%f000\"\n",
    "    date_obj = datetime.strptime(date, format_date)\n",
    "    time_obj = datetime.strptime(time, format_time)\n",
    "    almost = datetime.combine(date_obj.date(), time_obj.time())\n",
    "    return int(almost.timestamp())\n",
    "class Tick:\n",
    "    def __init__(self, line: str) -> None:\n",
    "        splitted_line = line.split(',')\n",
    "        self.date = splitted_line[0]\n",
    "        self.time = splitted_line[1]\n",
    "        self.bid = float(splitted_line[2].strip())\n",
    "        self.ask = float(splitted_line[4].strip())\n",
    "        self.unix_code = get_unix(splitted_line[0], splitted_line[1])\n",
    "class Strategy:\n",
    "    def __init__(self) -> None:\n",
    "        self.num_strats = 4\n",
    "        pass \n",
    "\n",
    "    def invertedMnP( self, id, prices : List[float], acumulated_side_bool : bool) -> int : \n",
    "        try : \n",
    "            last_50_mean = np.mean(prices[len(prices)-50:]) \n",
    "            up50_diff = abs(np.max(prices)-last_50_mean) \n",
    "            down50_diff = abs(np.min(prices)-last_50_mean)\n",
    "            up_diff = abs(np.max(prices) - np.mean(prices))\n",
    "            \n",
    "            down_diff = abs(np.min(prices) - np.mean(prices))\n",
    "            if acumulated_side_bool and id > 0 :\n",
    "                if up_diff < down_diff and up50_diff < down50_diff :\n",
    "                    return -1 #inverted\n",
    "                elif up_diff > down_diff and up50_diff > down50_diff :\n",
    "                    return 1 #inverted\n",
    "                else :\n",
    "                    return 0\n",
    "            elif acumulated_side_bool is False or id == 0 :\n",
    "                if up_diff > down_diff and up50_diff > down50_diff :\n",
    "                    return -1 #inverted\n",
    "                else :\n",
    "                    return 0\n",
    "        except ValueError as ve:\n",
    "            return 0\n",
    "\n",
    "                \n",
    "def compute_balance(orders_list: List[Any], tick: Tick) -> float:\n",
    "    \n",
    "    open_balance = 0\n",
    "    for line in orders_list:\n",
    "        if len(line) > 2:\n",
    "            side = line[ 0 ]\n",
    "            number_units = line[1]\n",
    "            bid_price, ask_price = line[2], line[3]\n",
    "            last_bid, last_ask = tick.bid, tick.ask\n",
    "            profit_loss = 0\n",
    "            if side == -1:\n",
    "                profit_loss = number_units * last_bid - number_units * ask_price\n",
    "            elif side == 1:\n",
    "                profit_loss = number_units * bid_price - number_units * last_ask\n",
    "            open_balance += profit_loss\n",
    "    return open_balance * 1\n",
    "def compute_drawdown(path_to_use: str, orders_list: List[Any], tick: Tick) -> float:\n",
    "    if len(orders_list) > 1 :\n",
    "        last_balance = compute_balance(orders_list, tick)\n",
    "        balances = []\n",
    "        with open(path_to_use, 'r') as file_reader:\n",
    "            for line in file_reader:\n",
    "                balances.append(float(line.split(':')[6]))\n",
    "        balances.append(last_balance)\n",
    "        max_drawdown = 0\n",
    "        drawdown = 0\n",
    "        peak = balances[0]\n",
    "        for balance in balances:\n",
    "            if balance > peak:\n",
    "                peak = balance\n",
    "            drawdown = peak - balance\n",
    "            if drawdown > max_drawdown:\n",
    "                max_drawdown = drawdown\n",
    "        return max_drawdown\n",
    "    else:\n",
    "        return 0\n",
    "def Register(path_to_use: str, line: List[Any]) -> None:\n",
    "    with open(path_to_use, 'a') as file_in_process:\n",
    "        for value in line:\n",
    "            file_in_process.writelines(f'{value}:')\n",
    "        file_in_process.writelines('\\n')\n",
    " \n",
    "def file_content(path_to_use: str) -> str:\n",
    "    if os.path.exists(path_to_use):\n",
    "        with open(path_to_use, 'r') as file_in_process:\n",
    "            return file_in_process.read()\n",
    "    else:\n",
    "        return \"\"\n",
    "def time_signal_detector( current_tick: Tick, previous_tick: Tick, pivot_unix: int ) -> bool:\n",
    "    current_unix = current_tick.unix_code\n",
    "    previous_unix = previous_tick.unix_code\n",
    "    if current_unix <= pivot_unix:\n",
    "        return True\n",
    "    elif previous_unix <= pivot_unix < current_unix:\n",
    "        return False\n",
    "def State_detector(acumulated_side) -> bool:\n",
    "    if acumulated_side >= 0 :\n",
    "          return False\n",
    "    else :\n",
    "          return True\n",
    "time_frames = [7, 14, 21, 28, 35, 42, 49, 56, 63, 70, 77, 84, 91, \n",
    "               98, 105, 112, 119, 126, 133, 140, 147, 154, 161, 168, \n",
    "               175, 182, 189, 196, 203, 210, 217, 224, 231, 238, 245,\n",
    "               252, 259, 266, 273, 280, 287, 294, 301, 308, 315, 322,\n",
    "               329, 336, 343, 350, 357, 364, 371, 378, 385, 392, 399,\n",
    "               406, 413, 420, 427, 434, 441, 448, 455, 462, 469, 476,\n",
    "               483, 490, 497, 504, 511, 518, 525, 532, 539, 546, 553,\n",
    "               560, 567, 574, 581, 588, 595, 602, 609, 616, 623, 630,\n",
    "               637, 644, 651, 658, 665, 672, 679, 686, 693]\n",
    "dict_for_tres_hold = {  0.07: 'A',\n",
    "                        0.08: 'B',\n",
    "                        0.09: 'C',\n",
    "                        0.1: 'D',\n",
    "                        0.15: 'E',\n",
    "                        0.16: 'F',\n",
    "                        0.17: 'G',\n",
    "                        0.18: 'H',\n",
    "                        0.19: 'I',\n",
    "                        0.2: 'J',\n",
    "                        0.25: 'K' }\n",
    "dict_for_decision =  {  1: 'sell',\n",
    "                       -1: 'buy'  }\n",
    "dict_for_time_frames = {}\n",
    "for i,x in enumerate(time_frames):\n",
    "    dict_for_time_frames[f'{x}'] = f'Tf_{i}'\n",
    "\n",
    "def Process_day(time_frame: str, path_of_current_day: str, day: str, folder_for_results : str ,Strat: Strategy, sum_side_by_day = 0) -> None:\n",
    "    list_for_balance = []\n",
    "    prices = []\n",
    "    saving_path ='InvMnP_'+ dict_for_time_frames[time_frame]+'_'+day\n",
    "    \n",
    "    with open(path_of_current_day, 'r') as current_day:\n",
    "        current_day_list = current_day.readlines()\n",
    "        last_hour = int(current_day_list[-2].split(',')[1].split(':')[0]) + 1\n",
    "        current_hour = 0\n",
    "        int_part, *decimal_part = map(int, time_frame.split('.'))\n",
    "        increment_minutes = int_part\n",
    "        increment_seconds = decimal_part[0] * 6 if decimal_part else 0\n",
    "\n",
    "        current_minute = 0\n",
    "        current_seconds = 0\n",
    "        pivot_time = f'{current_hour:02}:{current_minute:02}:{current_seconds:02}.000000000'\n",
    "        id = 0\n",
    "\n",
    "        for index in range(1, len(current_day_list)):\n",
    "            current_tick = Tick(current_day_list[index])\n",
    "            previous_tick = Tick(current_day_list[index - 1])\n",
    "            pivot_unix = get_unix(current_tick.date, pivot_time)\n",
    "\n",
    "            if time_signal_detector(current_tick, previous_tick, pivot_unix):\n",
    "                prices.append(np.random.choice([previous_tick.bid, current_tick.ask]))\n",
    "            else:\n",
    "                side = Strat.invertedMnP(id, prices, State_detector(sum_side_by_day))\n",
    "                sum_side_by_day += side\n",
    "                if side != 0:\n",
    "                    list_for_balance.append([side, 1, previous_tick.bid, previous_tick.ask])\n",
    "                    P_L = compute_balance(list_for_balance, previous_tick)\n",
    "                    drawdown = compute_drawdown(saving_path, list_for_balance, previous_tick)\n",
    "                    Register(saving_path, [id, dict_for_decision[side], 1, previous_tick.bid, previous_tick.ask, P_L , drawdown ])\n",
    "                    id += 1\n",
    "\n",
    "                \n",
    "                current_seconds += increment_seconds\n",
    "                if current_seconds >= 60:\n",
    "                    current_seconds -= 60\n",
    "                    current_minute += 1\n",
    "\n",
    "                current_minute += increment_minutes\n",
    "                if current_minute >= 60:\n",
    "                    current_hour += current_minute // 60\n",
    "                    current_minute %= 60\n",
    "\n",
    "                if current_hour >= last_hour:\n",
    "                    print( os.path.join(folder_for_results,saving_path))\n",
    "                    with open( os.path.join(folder_for_results,saving_path),'w') as exit_file :\n",
    "                        exit_file.write(file_content(saving_path))\n",
    "                    if os.path.exists(saving_path):\n",
    "                        os.remove(saving_path)\n",
    "                    return\n",
    "\n",
    "                pivot_time = f'{current_hour:02}:{current_minute:02}:{int(current_seconds):02}.000000000'\n",
    "                prices = []\n",
    "        #return \n",
    "                \n"
   ]
  },
  {
   "cell_type": "code",
   "execution_count": 3,
   "metadata": {},
   "outputs": [
    {
     "name": "stdout",
     "output_type": "stream",
     "text": [
      "7 : E:\\B-Module\\TXTs\\01-02-2023.txt\n"
     ]
    },
    {
     "name": "stderr",
     "output_type": "stream",
     "text": [
      "c:\\Users\\loren\\miniconda3\\envs\\venv_py\\lib\\site-packages\\numpy\\core\\fromnumeric.py:3504: RuntimeWarning: Mean of empty slice.\n",
      "  return _methods._mean(a, axis=axis, dtype=dtype,\n",
      "c:\\Users\\loren\\miniconda3\\envs\\venv_py\\lib\\site-packages\\numpy\\core\\_methods.py:129: RuntimeWarning: invalid value encountered in scalar divide\n",
      "  ret = ret.dtype.type(ret / rcount)\n"
     ]
    },
    {
     "name": "stdout",
     "output_type": "stream",
     "text": [
      "E:\\B-Module\\results\\Inverted_MeanP\\InvMnP_Tf_0_01-02-2023.txt\n",
      "14 : E:\\B-Module\\TXTs\\01-02-2023.txt\n",
      "E:\\B-Module\\results\\Inverted_MeanP\\InvMnP_Tf_1_01-02-2023.txt\n",
      "21 : E:\\B-Module\\TXTs\\01-02-2023.txt\n",
      "E:\\B-Module\\results\\Inverted_MeanP\\InvMnP_Tf_2_01-02-2023.txt\n",
      "28 : E:\\B-Module\\TXTs\\01-02-2023.txt\n",
      "E:\\B-Module\\results\\Inverted_MeanP\\InvMnP_Tf_3_01-02-2023.txt\n",
      "35 : E:\\B-Module\\TXTs\\01-02-2023.txt\n",
      "E:\\B-Module\\results\\Inverted_MeanP\\InvMnP_Tf_4_01-02-2023.txt\n",
      "42 : E:\\B-Module\\TXTs\\01-02-2023.txt\n",
      "E:\\B-Module\\results\\Inverted_MeanP\\InvMnP_Tf_5_01-02-2023.txt\n",
      "49 : E:\\B-Module\\TXTs\\01-02-2023.txt\n",
      "E:\\B-Module\\results\\Inverted_MeanP\\InvMnP_Tf_6_01-02-2023.txt\n",
      "56 : E:\\B-Module\\TXTs\\01-02-2023.txt\n",
      "E:\\B-Module\\results\\Inverted_MeanP\\InvMnP_Tf_7_01-02-2023.txt\n",
      "63 : E:\\B-Module\\TXTs\\01-02-2023.txt\n",
      "E:\\B-Module\\results\\Inverted_MeanP\\InvMnP_Tf_8_01-02-2023.txt\n",
      "70 : E:\\B-Module\\TXTs\\01-02-2023.txt\n",
      "E:\\B-Module\\results\\Inverted_MeanP\\InvMnP_Tf_9_01-02-2023.txt\n",
      "77 : E:\\B-Module\\TXTs\\01-02-2023.txt\n",
      "E:\\B-Module\\results\\Inverted_MeanP\\InvMnP_Tf_10_01-02-2023.txt\n",
      "84 : E:\\B-Module\\TXTs\\01-02-2023.txt\n",
      "E:\\B-Module\\results\\Inverted_MeanP\\InvMnP_Tf_11_01-02-2023.txt\n",
      "91 : E:\\B-Module\\TXTs\\01-02-2023.txt\n",
      "E:\\B-Module\\results\\Inverted_MeanP\\InvMnP_Tf_12_01-02-2023.txt\n",
      "98 : E:\\B-Module\\TXTs\\01-02-2023.txt\n",
      "E:\\B-Module\\results\\Inverted_MeanP\\InvMnP_Tf_13_01-02-2023.txt\n",
      "105 : E:\\B-Module\\TXTs\\01-02-2023.txt\n",
      "E:\\B-Module\\results\\Inverted_MeanP\\InvMnP_Tf_14_01-02-2023.txt\n",
      "112 : E:\\B-Module\\TXTs\\01-02-2023.txt\n",
      "E:\\B-Module\\results\\Inverted_MeanP\\InvMnP_Tf_15_01-02-2023.txt\n",
      "119 : E:\\B-Module\\TXTs\\01-02-2023.txt\n",
      "E:\\B-Module\\results\\Inverted_MeanP\\InvMnP_Tf_16_01-02-2023.txt\n",
      "126 : E:\\B-Module\\TXTs\\01-02-2023.txt\n",
      "E:\\B-Module\\results\\Inverted_MeanP\\InvMnP_Tf_17_01-02-2023.txt\n",
      "133 : E:\\B-Module\\TXTs\\01-02-2023.txt\n",
      "E:\\B-Module\\results\\Inverted_MeanP\\InvMnP_Tf_18_01-02-2023.txt\n",
      "140 : E:\\B-Module\\TXTs\\01-02-2023.txt\n",
      "E:\\B-Module\\results\\Inverted_MeanP\\InvMnP_Tf_19_01-02-2023.txt\n",
      "147 : E:\\B-Module\\TXTs\\01-02-2023.txt\n",
      "E:\\B-Module\\results\\Inverted_MeanP\\InvMnP_Tf_20_01-02-2023.txt\n",
      "154 : E:\\B-Module\\TXTs\\01-02-2023.txt\n",
      "E:\\B-Module\\results\\Inverted_MeanP\\InvMnP_Tf_21_01-02-2023.txt\n",
      "161 : E:\\B-Module\\TXTs\\01-02-2023.txt\n",
      "E:\\B-Module\\results\\Inverted_MeanP\\InvMnP_Tf_22_01-02-2023.txt\n",
      "168 : E:\\B-Module\\TXTs\\01-02-2023.txt\n",
      "E:\\B-Module\\results\\Inverted_MeanP\\InvMnP_Tf_23_01-02-2023.txt\n",
      "175 : E:\\B-Module\\TXTs\\01-02-2023.txt\n",
      "E:\\B-Module\\results\\Inverted_MeanP\\InvMnP_Tf_24_01-02-2023.txt\n",
      "182 : E:\\B-Module\\TXTs\\01-02-2023.txt\n",
      "E:\\B-Module\\results\\Inverted_MeanP\\InvMnP_Tf_25_01-02-2023.txt\n",
      "189 : E:\\B-Module\\TXTs\\01-02-2023.txt\n",
      "E:\\B-Module\\results\\Inverted_MeanP\\InvMnP_Tf_26_01-02-2023.txt\n",
      "196 : E:\\B-Module\\TXTs\\01-02-2023.txt\n",
      "E:\\B-Module\\results\\Inverted_MeanP\\InvMnP_Tf_27_01-02-2023.txt\n",
      "203 : E:\\B-Module\\TXTs\\01-02-2023.txt\n",
      "E:\\B-Module\\results\\Inverted_MeanP\\InvMnP_Tf_28_01-02-2023.txt\n",
      "210 : E:\\B-Module\\TXTs\\01-02-2023.txt\n",
      "E:\\B-Module\\results\\Inverted_MeanP\\InvMnP_Tf_29_01-02-2023.txt\n",
      "217 : E:\\B-Module\\TXTs\\01-02-2023.txt\n",
      "E:\\B-Module\\results\\Inverted_MeanP\\InvMnP_Tf_30_01-02-2023.txt\n",
      "224 : E:\\B-Module\\TXTs\\01-02-2023.txt\n",
      "E:\\B-Module\\results\\Inverted_MeanP\\InvMnP_Tf_31_01-02-2023.txt\n",
      "231 : E:\\B-Module\\TXTs\\01-02-2023.txt\n",
      "E:\\B-Module\\results\\Inverted_MeanP\\InvMnP_Tf_32_01-02-2023.txt\n",
      "238 : E:\\B-Module\\TXTs\\01-02-2023.txt\n",
      "E:\\B-Module\\results\\Inverted_MeanP\\InvMnP_Tf_33_01-02-2023.txt\n",
      "245 : E:\\B-Module\\TXTs\\01-02-2023.txt\n",
      "E:\\B-Module\\results\\Inverted_MeanP\\InvMnP_Tf_34_01-02-2023.txt\n",
      "252 : E:\\B-Module\\TXTs\\01-02-2023.txt\n",
      "E:\\B-Module\\results\\Inverted_MeanP\\InvMnP_Tf_35_01-02-2023.txt\n",
      "259 : E:\\B-Module\\TXTs\\01-02-2023.txt\n",
      "E:\\B-Module\\results\\Inverted_MeanP\\InvMnP_Tf_36_01-02-2023.txt\n",
      "266 : E:\\B-Module\\TXTs\\01-02-2023.txt\n",
      "E:\\B-Module\\results\\Inverted_MeanP\\InvMnP_Tf_37_01-02-2023.txt\n",
      "273 : E:\\B-Module\\TXTs\\01-02-2023.txt\n",
      "E:\\B-Module\\results\\Inverted_MeanP\\InvMnP_Tf_38_01-02-2023.txt\n",
      "280 : E:\\B-Module\\TXTs\\01-02-2023.txt\n",
      "E:\\B-Module\\results\\Inverted_MeanP\\InvMnP_Tf_39_01-02-2023.txt\n",
      "287 : E:\\B-Module\\TXTs\\01-02-2023.txt\n",
      "E:\\B-Module\\results\\Inverted_MeanP\\InvMnP_Tf_40_01-02-2023.txt\n",
      "294 : E:\\B-Module\\TXTs\\01-02-2023.txt\n",
      "E:\\B-Module\\results\\Inverted_MeanP\\InvMnP_Tf_41_01-02-2023.txt\n",
      "301 : E:\\B-Module\\TXTs\\01-02-2023.txt\n",
      "E:\\B-Module\\results\\Inverted_MeanP\\InvMnP_Tf_42_01-02-2023.txt\n",
      "308 : E:\\B-Module\\TXTs\\01-02-2023.txt\n",
      "E:\\B-Module\\results\\Inverted_MeanP\\InvMnP_Tf_43_01-02-2023.txt\n",
      "315 : E:\\B-Module\\TXTs\\01-02-2023.txt\n",
      "E:\\B-Module\\results\\Inverted_MeanP\\InvMnP_Tf_44_01-02-2023.txt\n",
      "322 : E:\\B-Module\\TXTs\\01-02-2023.txt\n",
      "E:\\B-Module\\results\\Inverted_MeanP\\InvMnP_Tf_45_01-02-2023.txt\n",
      "329 : E:\\B-Module\\TXTs\\01-02-2023.txt\n",
      "E:\\B-Module\\results\\Inverted_MeanP\\InvMnP_Tf_46_01-02-2023.txt\n",
      "336 : E:\\B-Module\\TXTs\\01-02-2023.txt\n",
      "E:\\B-Module\\results\\Inverted_MeanP\\InvMnP_Tf_47_01-02-2023.txt\n",
      "343 : E:\\B-Module\\TXTs\\01-02-2023.txt\n",
      "E:\\B-Module\\results\\Inverted_MeanP\\InvMnP_Tf_48_01-02-2023.txt\n",
      "350 : E:\\B-Module\\TXTs\\01-02-2023.txt\n",
      "E:\\B-Module\\results\\Inverted_MeanP\\InvMnP_Tf_49_01-02-2023.txt\n",
      "357 : E:\\B-Module\\TXTs\\01-02-2023.txt\n",
      "E:\\B-Module\\results\\Inverted_MeanP\\InvMnP_Tf_50_01-02-2023.txt\n",
      "364 : E:\\B-Module\\TXTs\\01-02-2023.txt\n",
      "E:\\B-Module\\results\\Inverted_MeanP\\InvMnP_Tf_51_01-02-2023.txt\n",
      "371 : E:\\B-Module\\TXTs\\01-02-2023.txt\n",
      "E:\\B-Module\\results\\Inverted_MeanP\\InvMnP_Tf_52_01-02-2023.txt\n",
      "378 : E:\\B-Module\\TXTs\\01-02-2023.txt\n",
      "E:\\B-Module\\results\\Inverted_MeanP\\InvMnP_Tf_53_01-02-2023.txt\n",
      "385 : E:\\B-Module\\TXTs\\01-02-2023.txt\n",
      "E:\\B-Module\\results\\Inverted_MeanP\\InvMnP_Tf_54_01-02-2023.txt\n",
      "392 : E:\\B-Module\\TXTs\\01-02-2023.txt\n",
      "E:\\B-Module\\results\\Inverted_MeanP\\InvMnP_Tf_55_01-02-2023.txt\n",
      "399 : E:\\B-Module\\TXTs\\01-02-2023.txt\n",
      "E:\\B-Module\\results\\Inverted_MeanP\\InvMnP_Tf_56_01-02-2023.txt\n",
      "406 : E:\\B-Module\\TXTs\\01-02-2023.txt\n",
      "E:\\B-Module\\results\\Inverted_MeanP\\InvMnP_Tf_57_01-02-2023.txt\n",
      "413 : E:\\B-Module\\TXTs\\01-02-2023.txt\n",
      "E:\\B-Module\\results\\Inverted_MeanP\\InvMnP_Tf_58_01-02-2023.txt\n",
      "420 : E:\\B-Module\\TXTs\\01-02-2023.txt\n",
      "E:\\B-Module\\results\\Inverted_MeanP\\InvMnP_Tf_59_01-02-2023.txt\n",
      "427 : E:\\B-Module\\TXTs\\01-02-2023.txt\n",
      "E:\\B-Module\\results\\Inverted_MeanP\\InvMnP_Tf_60_01-02-2023.txt\n",
      "434 : E:\\B-Module\\TXTs\\01-02-2023.txt\n",
      "E:\\B-Module\\results\\Inverted_MeanP\\InvMnP_Tf_61_01-02-2023.txt\n",
      "441 : E:\\B-Module\\TXTs\\01-02-2023.txt\n",
      "E:\\B-Module\\results\\Inverted_MeanP\\InvMnP_Tf_62_01-02-2023.txt\n",
      "448 : E:\\B-Module\\TXTs\\01-02-2023.txt\n",
      "E:\\B-Module\\results\\Inverted_MeanP\\InvMnP_Tf_63_01-02-2023.txt\n",
      "455 : E:\\B-Module\\TXTs\\01-02-2023.txt\n",
      "E:\\B-Module\\results\\Inverted_MeanP\\InvMnP_Tf_64_01-02-2023.txt\n",
      "462 : E:\\B-Module\\TXTs\\01-02-2023.txt\n",
      "E:\\B-Module\\results\\Inverted_MeanP\\InvMnP_Tf_65_01-02-2023.txt\n",
      "469 : E:\\B-Module\\TXTs\\01-02-2023.txt\n",
      "E:\\B-Module\\results\\Inverted_MeanP\\InvMnP_Tf_66_01-02-2023.txt\n",
      "476 : E:\\B-Module\\TXTs\\01-02-2023.txt\n",
      "E:\\B-Module\\results\\Inverted_MeanP\\InvMnP_Tf_67_01-02-2023.txt\n",
      "483 : E:\\B-Module\\TXTs\\01-02-2023.txt\n",
      "E:\\B-Module\\results\\Inverted_MeanP\\InvMnP_Tf_68_01-02-2023.txt\n",
      "490 : E:\\B-Module\\TXTs\\01-02-2023.txt\n",
      "E:\\B-Module\\results\\Inverted_MeanP\\InvMnP_Tf_69_01-02-2023.txt\n",
      "497 : E:\\B-Module\\TXTs\\01-02-2023.txt\n",
      "E:\\B-Module\\results\\Inverted_MeanP\\InvMnP_Tf_70_01-02-2023.txt\n",
      "504 : E:\\B-Module\\TXTs\\01-02-2023.txt\n",
      "E:\\B-Module\\results\\Inverted_MeanP\\InvMnP_Tf_71_01-02-2023.txt\n",
      "511 : E:\\B-Module\\TXTs\\01-02-2023.txt\n",
      "E:\\B-Module\\results\\Inverted_MeanP\\InvMnP_Tf_72_01-02-2023.txt\n",
      "518 : E:\\B-Module\\TXTs\\01-02-2023.txt\n",
      "E:\\B-Module\\results\\Inverted_MeanP\\InvMnP_Tf_73_01-02-2023.txt\n",
      "525 : E:\\B-Module\\TXTs\\01-02-2023.txt\n",
      "E:\\B-Module\\results\\Inverted_MeanP\\InvMnP_Tf_74_01-02-2023.txt\n",
      "532 : E:\\B-Module\\TXTs\\01-02-2023.txt\n",
      "E:\\B-Module\\results\\Inverted_MeanP\\InvMnP_Tf_75_01-02-2023.txt\n",
      "539 : E:\\B-Module\\TXTs\\01-02-2023.txt\n",
      "E:\\B-Module\\results\\Inverted_MeanP\\InvMnP_Tf_76_01-02-2023.txt\n",
      "546 : E:\\B-Module\\TXTs\\01-02-2023.txt\n",
      "E:\\B-Module\\results\\Inverted_MeanP\\InvMnP_Tf_77_01-02-2023.txt\n",
      "553 : E:\\B-Module\\TXTs\\01-02-2023.txt\n",
      "E:\\B-Module\\results\\Inverted_MeanP\\InvMnP_Tf_78_01-02-2023.txt\n",
      "560 : E:\\B-Module\\TXTs\\01-02-2023.txt\n",
      "E:\\B-Module\\results\\Inverted_MeanP\\InvMnP_Tf_79_01-02-2023.txt\n",
      "567 : E:\\B-Module\\TXTs\\01-02-2023.txt\n",
      "E:\\B-Module\\results\\Inverted_MeanP\\InvMnP_Tf_80_01-02-2023.txt\n",
      "574 : E:\\B-Module\\TXTs\\01-02-2023.txt\n",
      "E:\\B-Module\\results\\Inverted_MeanP\\InvMnP_Tf_81_01-02-2023.txt\n",
      "581 : E:\\B-Module\\TXTs\\01-02-2023.txt\n",
      "E:\\B-Module\\results\\Inverted_MeanP\\InvMnP_Tf_82_01-02-2023.txt\n",
      "588 : E:\\B-Module\\TXTs\\01-02-2023.txt\n",
      "E:\\B-Module\\results\\Inverted_MeanP\\InvMnP_Tf_83_01-02-2023.txt\n",
      "595 : E:\\B-Module\\TXTs\\01-02-2023.txt\n",
      "E:\\B-Module\\results\\Inverted_MeanP\\InvMnP_Tf_84_01-02-2023.txt\n",
      "602 : E:\\B-Module\\TXTs\\01-02-2023.txt\n",
      "E:\\B-Module\\results\\Inverted_MeanP\\InvMnP_Tf_85_01-02-2023.txt\n",
      "609 : E:\\B-Module\\TXTs\\01-02-2023.txt\n",
      "E:\\B-Module\\results\\Inverted_MeanP\\InvMnP_Tf_86_01-02-2023.txt\n",
      "616 : E:\\B-Module\\TXTs\\01-02-2023.txt\n",
      "E:\\B-Module\\results\\Inverted_MeanP\\InvMnP_Tf_87_01-02-2023.txt\n",
      "623 : E:\\B-Module\\TXTs\\01-02-2023.txt\n",
      "E:\\B-Module\\results\\Inverted_MeanP\\InvMnP_Tf_88_01-02-2023.txt\n",
      "630 : E:\\B-Module\\TXTs\\01-02-2023.txt\n",
      "E:\\B-Module\\results\\Inverted_MeanP\\InvMnP_Tf_89_01-02-2023.txt\n",
      "637 : E:\\B-Module\\TXTs\\01-02-2023.txt\n",
      "E:\\B-Module\\results\\Inverted_MeanP\\InvMnP_Tf_90_01-02-2023.txt\n",
      "644 : E:\\B-Module\\TXTs\\01-02-2023.txt\n",
      "E:\\B-Module\\results\\Inverted_MeanP\\InvMnP_Tf_91_01-02-2023.txt\n",
      "651 : E:\\B-Module\\TXTs\\01-02-2023.txt\n",
      "E:\\B-Module\\results\\Inverted_MeanP\\InvMnP_Tf_92_01-02-2023.txt\n",
      "658 : E:\\B-Module\\TXTs\\01-02-2023.txt\n",
      "E:\\B-Module\\results\\Inverted_MeanP\\InvMnP_Tf_93_01-02-2023.txt\n",
      "665 : E:\\B-Module\\TXTs\\01-02-2023.txt\n",
      "E:\\B-Module\\results\\Inverted_MeanP\\InvMnP_Tf_94_01-02-2023.txt\n",
      "672 : E:\\B-Module\\TXTs\\01-02-2023.txt\n",
      "E:\\B-Module\\results\\Inverted_MeanP\\InvMnP_Tf_95_01-02-2023.txt\n",
      "679 : E:\\B-Module\\TXTs\\01-02-2023.txt\n",
      "E:\\B-Module\\results\\Inverted_MeanP\\InvMnP_Tf_96_01-02-2023.txt\n",
      "686 : E:\\B-Module\\TXTs\\01-02-2023.txt\n",
      "E:\\B-Module\\results\\Inverted_MeanP\\InvMnP_Tf_97_01-02-2023.txt\n",
      "693 : E:\\B-Module\\TXTs\\01-02-2023.txt\n",
      "E:\\B-Module\\results\\Inverted_MeanP\\InvMnP_Tf_98_01-02-2023.txt\n",
      "7 : E:\\B-Module\\TXTs\\01-03-2023.txt\n",
      "E:\\B-Module\\results\\Inverted_MeanP\\InvMnP_Tf_0_01-03-2023.txt\n",
      "14 : E:\\B-Module\\TXTs\\01-03-2023.txt\n",
      "E:\\B-Module\\results\\Inverted_MeanP\\InvMnP_Tf_1_01-03-2023.txt\n",
      "21 : E:\\B-Module\\TXTs\\01-03-2023.txt\n",
      "E:\\B-Module\\results\\Inverted_MeanP\\InvMnP_Tf_2_01-03-2023.txt\n",
      "28 : E:\\B-Module\\TXTs\\01-03-2023.txt\n",
      "E:\\B-Module\\results\\Inverted_MeanP\\InvMnP_Tf_3_01-03-2023.txt\n",
      "35 : E:\\B-Module\\TXTs\\01-03-2023.txt\n",
      "E:\\B-Module\\results\\Inverted_MeanP\\InvMnP_Tf_4_01-03-2023.txt\n",
      "42 : E:\\B-Module\\TXTs\\01-03-2023.txt\n",
      "E:\\B-Module\\results\\Inverted_MeanP\\InvMnP_Tf_5_01-03-2023.txt\n",
      "49 : E:\\B-Module\\TXTs\\01-03-2023.txt\n",
      "E:\\B-Module\\results\\Inverted_MeanP\\InvMnP_Tf_6_01-03-2023.txt\n",
      "56 : E:\\B-Module\\TXTs\\01-03-2023.txt\n",
      "E:\\B-Module\\results\\Inverted_MeanP\\InvMnP_Tf_7_01-03-2023.txt\n",
      "63 : E:\\B-Module\\TXTs\\01-03-2023.txt\n",
      "E:\\B-Module\\results\\Inverted_MeanP\\InvMnP_Tf_8_01-03-2023.txt\n",
      "70 : E:\\B-Module\\TXTs\\01-03-2023.txt\n",
      "E:\\B-Module\\results\\Inverted_MeanP\\InvMnP_Tf_9_01-03-2023.txt\n",
      "77 : E:\\B-Module\\TXTs\\01-03-2023.txt\n",
      "E:\\B-Module\\results\\Inverted_MeanP\\InvMnP_Tf_10_01-03-2023.txt\n",
      "84 : E:\\B-Module\\TXTs\\01-03-2023.txt\n",
      "E:\\B-Module\\results\\Inverted_MeanP\\InvMnP_Tf_11_01-03-2023.txt\n",
      "91 : E:\\B-Module\\TXTs\\01-03-2023.txt\n",
      "E:\\B-Module\\results\\Inverted_MeanP\\InvMnP_Tf_12_01-03-2023.txt\n",
      "98 : E:\\B-Module\\TXTs\\01-03-2023.txt\n",
      "E:\\B-Module\\results\\Inverted_MeanP\\InvMnP_Tf_13_01-03-2023.txt\n",
      "105 : E:\\B-Module\\TXTs\\01-03-2023.txt\n",
      "E:\\B-Module\\results\\Inverted_MeanP\\InvMnP_Tf_14_01-03-2023.txt\n",
      "112 : E:\\B-Module\\TXTs\\01-03-2023.txt\n",
      "E:\\B-Module\\results\\Inverted_MeanP\\InvMnP_Tf_15_01-03-2023.txt\n",
      "119 : E:\\B-Module\\TXTs\\01-03-2023.txt\n",
      "E:\\B-Module\\results\\Inverted_MeanP\\InvMnP_Tf_16_01-03-2023.txt\n",
      "126 : E:\\B-Module\\TXTs\\01-03-2023.txt\n",
      "E:\\B-Module\\results\\Inverted_MeanP\\InvMnP_Tf_17_01-03-2023.txt\n",
      "133 : E:\\B-Module\\TXTs\\01-03-2023.txt\n",
      "E:\\B-Module\\results\\Inverted_MeanP\\InvMnP_Tf_18_01-03-2023.txt\n",
      "140 : E:\\B-Module\\TXTs\\01-03-2023.txt\n",
      "E:\\B-Module\\results\\Inverted_MeanP\\InvMnP_Tf_19_01-03-2023.txt\n",
      "147 : E:\\B-Module\\TXTs\\01-03-2023.txt\n",
      "E:\\B-Module\\results\\Inverted_MeanP\\InvMnP_Tf_20_01-03-2023.txt\n",
      "154 : E:\\B-Module\\TXTs\\01-03-2023.txt\n",
      "E:\\B-Module\\results\\Inverted_MeanP\\InvMnP_Tf_21_01-03-2023.txt\n",
      "161 : E:\\B-Module\\TXTs\\01-03-2023.txt\n",
      "E:\\B-Module\\results\\Inverted_MeanP\\InvMnP_Tf_22_01-03-2023.txt\n",
      "168 : E:\\B-Module\\TXTs\\01-03-2023.txt\n",
      "E:\\B-Module\\results\\Inverted_MeanP\\InvMnP_Tf_23_01-03-2023.txt\n",
      "175 : E:\\B-Module\\TXTs\\01-03-2023.txt\n",
      "E:\\B-Module\\results\\Inverted_MeanP\\InvMnP_Tf_24_01-03-2023.txt\n",
      "182 : E:\\B-Module\\TXTs\\01-03-2023.txt\n",
      "E:\\B-Module\\results\\Inverted_MeanP\\InvMnP_Tf_25_01-03-2023.txt\n",
      "189 : E:\\B-Module\\TXTs\\01-03-2023.txt\n",
      "E:\\B-Module\\results\\Inverted_MeanP\\InvMnP_Tf_26_01-03-2023.txt\n",
      "196 : E:\\B-Module\\TXTs\\01-03-2023.txt\n",
      "E:\\B-Module\\results\\Inverted_MeanP\\InvMnP_Tf_27_01-03-2023.txt\n",
      "203 : E:\\B-Module\\TXTs\\01-03-2023.txt\n",
      "E:\\B-Module\\results\\Inverted_MeanP\\InvMnP_Tf_28_01-03-2023.txt\n",
      "210 : E:\\B-Module\\TXTs\\01-03-2023.txt\n",
      "E:\\B-Module\\results\\Inverted_MeanP\\InvMnP_Tf_29_01-03-2023.txt\n",
      "217 : E:\\B-Module\\TXTs\\01-03-2023.txt\n",
      "E:\\B-Module\\results\\Inverted_MeanP\\InvMnP_Tf_30_01-03-2023.txt\n",
      "224 : E:\\B-Module\\TXTs\\01-03-2023.txt\n",
      "E:\\B-Module\\results\\Inverted_MeanP\\InvMnP_Tf_31_01-03-2023.txt\n",
      "231 : E:\\B-Module\\TXTs\\01-03-2023.txt\n",
      "E:\\B-Module\\results\\Inverted_MeanP\\InvMnP_Tf_32_01-03-2023.txt\n",
      "238 : E:\\B-Module\\TXTs\\01-03-2023.txt\n",
      "E:\\B-Module\\results\\Inverted_MeanP\\InvMnP_Tf_33_01-03-2023.txt\n",
      "245 : E:\\B-Module\\TXTs\\01-03-2023.txt\n",
      "E:\\B-Module\\results\\Inverted_MeanP\\InvMnP_Tf_34_01-03-2023.txt\n",
      "252 : E:\\B-Module\\TXTs\\01-03-2023.txt\n",
      "E:\\B-Module\\results\\Inverted_MeanP\\InvMnP_Tf_35_01-03-2023.txt\n",
      "259 : E:\\B-Module\\TXTs\\01-03-2023.txt\n",
      "E:\\B-Module\\results\\Inverted_MeanP\\InvMnP_Tf_36_01-03-2023.txt\n",
      "266 : E:\\B-Module\\TXTs\\01-03-2023.txt\n",
      "E:\\B-Module\\results\\Inverted_MeanP\\InvMnP_Tf_37_01-03-2023.txt\n",
      "273 : E:\\B-Module\\TXTs\\01-03-2023.txt\n",
      "E:\\B-Module\\results\\Inverted_MeanP\\InvMnP_Tf_38_01-03-2023.txt\n",
      "280 : E:\\B-Module\\TXTs\\01-03-2023.txt\n",
      "E:\\B-Module\\results\\Inverted_MeanP\\InvMnP_Tf_39_01-03-2023.txt\n",
      "287 : E:\\B-Module\\TXTs\\01-03-2023.txt\n",
      "E:\\B-Module\\results\\Inverted_MeanP\\InvMnP_Tf_40_01-03-2023.txt\n",
      "294 : E:\\B-Module\\TXTs\\01-03-2023.txt\n",
      "E:\\B-Module\\results\\Inverted_MeanP\\InvMnP_Tf_41_01-03-2023.txt\n",
      "301 : E:\\B-Module\\TXTs\\01-03-2023.txt\n",
      "E:\\B-Module\\results\\Inverted_MeanP\\InvMnP_Tf_42_01-03-2023.txt\n",
      "308 : E:\\B-Module\\TXTs\\01-03-2023.txt\n",
      "E:\\B-Module\\results\\Inverted_MeanP\\InvMnP_Tf_43_01-03-2023.txt\n",
      "315 : E:\\B-Module\\TXTs\\01-03-2023.txt\n",
      "E:\\B-Module\\results\\Inverted_MeanP\\InvMnP_Tf_44_01-03-2023.txt\n",
      "322 : E:\\B-Module\\TXTs\\01-03-2023.txt\n",
      "E:\\B-Module\\results\\Inverted_MeanP\\InvMnP_Tf_45_01-03-2023.txt\n",
      "329 : E:\\B-Module\\TXTs\\01-03-2023.txt\n",
      "E:\\B-Module\\results\\Inverted_MeanP\\InvMnP_Tf_46_01-03-2023.txt\n",
      "336 : E:\\B-Module\\TXTs\\01-03-2023.txt\n",
      "E:\\B-Module\\results\\Inverted_MeanP\\InvMnP_Tf_47_01-03-2023.txt\n",
      "343 : E:\\B-Module\\TXTs\\01-03-2023.txt\n",
      "E:\\B-Module\\results\\Inverted_MeanP\\InvMnP_Tf_48_01-03-2023.txt\n",
      "350 : E:\\B-Module\\TXTs\\01-03-2023.txt\n",
      "E:\\B-Module\\results\\Inverted_MeanP\\InvMnP_Tf_49_01-03-2023.txt\n",
      "357 : E:\\B-Module\\TXTs\\01-03-2023.txt\n",
      "E:\\B-Module\\results\\Inverted_MeanP\\InvMnP_Tf_50_01-03-2023.txt\n",
      "364 : E:\\B-Module\\TXTs\\01-03-2023.txt\n",
      "E:\\B-Module\\results\\Inverted_MeanP\\InvMnP_Tf_51_01-03-2023.txt\n",
      "371 : E:\\B-Module\\TXTs\\01-03-2023.txt\n",
      "E:\\B-Module\\results\\Inverted_MeanP\\InvMnP_Tf_52_01-03-2023.txt\n",
      "378 : E:\\B-Module\\TXTs\\01-03-2023.txt\n",
      "E:\\B-Module\\results\\Inverted_MeanP\\InvMnP_Tf_53_01-03-2023.txt\n",
      "385 : E:\\B-Module\\TXTs\\01-03-2023.txt\n",
      "E:\\B-Module\\results\\Inverted_MeanP\\InvMnP_Tf_54_01-03-2023.txt\n",
      "392 : E:\\B-Module\\TXTs\\01-03-2023.txt\n",
      "E:\\B-Module\\results\\Inverted_MeanP\\InvMnP_Tf_55_01-03-2023.txt\n",
      "399 : E:\\B-Module\\TXTs\\01-03-2023.txt\n",
      "E:\\B-Module\\results\\Inverted_MeanP\\InvMnP_Tf_56_01-03-2023.txt\n",
      "406 : E:\\B-Module\\TXTs\\01-03-2023.txt\n",
      "E:\\B-Module\\results\\Inverted_MeanP\\InvMnP_Tf_57_01-03-2023.txt\n",
      "413 : E:\\B-Module\\TXTs\\01-03-2023.txt\n",
      "E:\\B-Module\\results\\Inverted_MeanP\\InvMnP_Tf_58_01-03-2023.txt\n",
      "420 : E:\\B-Module\\TXTs\\01-03-2023.txt\n",
      "E:\\B-Module\\results\\Inverted_MeanP\\InvMnP_Tf_59_01-03-2023.txt\n",
      "427 : E:\\B-Module\\TXTs\\01-03-2023.txt\n",
      "E:\\B-Module\\results\\Inverted_MeanP\\InvMnP_Tf_60_01-03-2023.txt\n",
      "434 : E:\\B-Module\\TXTs\\01-03-2023.txt\n",
      "E:\\B-Module\\results\\Inverted_MeanP\\InvMnP_Tf_61_01-03-2023.txt\n",
      "441 : E:\\B-Module\\TXTs\\01-03-2023.txt\n",
      "E:\\B-Module\\results\\Inverted_MeanP\\InvMnP_Tf_62_01-03-2023.txt\n",
      "448 : E:\\B-Module\\TXTs\\01-03-2023.txt\n",
      "E:\\B-Module\\results\\Inverted_MeanP\\InvMnP_Tf_63_01-03-2023.txt\n",
      "455 : E:\\B-Module\\TXTs\\01-03-2023.txt\n",
      "E:\\B-Module\\results\\Inverted_MeanP\\InvMnP_Tf_64_01-03-2023.txt\n",
      "462 : E:\\B-Module\\TXTs\\01-03-2023.txt\n",
      "E:\\B-Module\\results\\Inverted_MeanP\\InvMnP_Tf_65_01-03-2023.txt\n",
      "469 : E:\\B-Module\\TXTs\\01-03-2023.txt\n",
      "E:\\B-Module\\results\\Inverted_MeanP\\InvMnP_Tf_66_01-03-2023.txt\n",
      "476 : E:\\B-Module\\TXTs\\01-03-2023.txt\n",
      "E:\\B-Module\\results\\Inverted_MeanP\\InvMnP_Tf_67_01-03-2023.txt\n",
      "483 : E:\\B-Module\\TXTs\\01-03-2023.txt\n",
      "E:\\B-Module\\results\\Inverted_MeanP\\InvMnP_Tf_68_01-03-2023.txt\n",
      "490 : E:\\B-Module\\TXTs\\01-03-2023.txt\n",
      "E:\\B-Module\\results\\Inverted_MeanP\\InvMnP_Tf_69_01-03-2023.txt\n",
      "497 : E:\\B-Module\\TXTs\\01-03-2023.txt\n",
      "E:\\B-Module\\results\\Inverted_MeanP\\InvMnP_Tf_70_01-03-2023.txt\n",
      "504 : E:\\B-Module\\TXTs\\01-03-2023.txt\n",
      "E:\\B-Module\\results\\Inverted_MeanP\\InvMnP_Tf_71_01-03-2023.txt\n",
      "511 : E:\\B-Module\\TXTs\\01-03-2023.txt\n",
      "E:\\B-Module\\results\\Inverted_MeanP\\InvMnP_Tf_72_01-03-2023.txt\n",
      "518 : E:\\B-Module\\TXTs\\01-03-2023.txt\n",
      "E:\\B-Module\\results\\Inverted_MeanP\\InvMnP_Tf_73_01-03-2023.txt\n",
      "525 : E:\\B-Module\\TXTs\\01-03-2023.txt\n",
      "E:\\B-Module\\results\\Inverted_MeanP\\InvMnP_Tf_74_01-03-2023.txt\n",
      "532 : E:\\B-Module\\TXTs\\01-03-2023.txt\n",
      "E:\\B-Module\\results\\Inverted_MeanP\\InvMnP_Tf_75_01-03-2023.txt\n",
      "539 : E:\\B-Module\\TXTs\\01-03-2023.txt\n",
      "E:\\B-Module\\results\\Inverted_MeanP\\InvMnP_Tf_76_01-03-2023.txt\n",
      "546 : E:\\B-Module\\TXTs\\01-03-2023.txt\n",
      "E:\\B-Module\\results\\Inverted_MeanP\\InvMnP_Tf_77_01-03-2023.txt\n",
      "553 : E:\\B-Module\\TXTs\\01-03-2023.txt\n",
      "E:\\B-Module\\results\\Inverted_MeanP\\InvMnP_Tf_78_01-03-2023.txt\n",
      "560 : E:\\B-Module\\TXTs\\01-03-2023.txt\n",
      "E:\\B-Module\\results\\Inverted_MeanP\\InvMnP_Tf_79_01-03-2023.txt\n",
      "567 : E:\\B-Module\\TXTs\\01-03-2023.txt\n",
      "E:\\B-Module\\results\\Inverted_MeanP\\InvMnP_Tf_80_01-03-2023.txt\n",
      "574 : E:\\B-Module\\TXTs\\01-03-2023.txt\n",
      "E:\\B-Module\\results\\Inverted_MeanP\\InvMnP_Tf_81_01-03-2023.txt\n",
      "581 : E:\\B-Module\\TXTs\\01-03-2023.txt\n",
      "E:\\B-Module\\results\\Inverted_MeanP\\InvMnP_Tf_82_01-03-2023.txt\n",
      "588 : E:\\B-Module\\TXTs\\01-03-2023.txt\n",
      "E:\\B-Module\\results\\Inverted_MeanP\\InvMnP_Tf_83_01-03-2023.txt\n",
      "595 : E:\\B-Module\\TXTs\\01-03-2023.txt\n",
      "E:\\B-Module\\results\\Inverted_MeanP\\InvMnP_Tf_84_01-03-2023.txt\n",
      "602 : E:\\B-Module\\TXTs\\01-03-2023.txt\n",
      "E:\\B-Module\\results\\Inverted_MeanP\\InvMnP_Tf_85_01-03-2023.txt\n",
      "609 : E:\\B-Module\\TXTs\\01-03-2023.txt\n",
      "E:\\B-Module\\results\\Inverted_MeanP\\InvMnP_Tf_86_01-03-2023.txt\n",
      "616 : E:\\B-Module\\TXTs\\01-03-2023.txt\n",
      "E:\\B-Module\\results\\Inverted_MeanP\\InvMnP_Tf_87_01-03-2023.txt\n",
      "623 : E:\\B-Module\\TXTs\\01-03-2023.txt\n",
      "E:\\B-Module\\results\\Inverted_MeanP\\InvMnP_Tf_88_01-03-2023.txt\n",
      "630 : E:\\B-Module\\TXTs\\01-03-2023.txt\n",
      "E:\\B-Module\\results\\Inverted_MeanP\\InvMnP_Tf_89_01-03-2023.txt\n",
      "637 : E:\\B-Module\\TXTs\\01-03-2023.txt\n",
      "E:\\B-Module\\results\\Inverted_MeanP\\InvMnP_Tf_90_01-03-2023.txt\n",
      "644 : E:\\B-Module\\TXTs\\01-03-2023.txt\n",
      "E:\\B-Module\\results\\Inverted_MeanP\\InvMnP_Tf_91_01-03-2023.txt\n",
      "651 : E:\\B-Module\\TXTs\\01-03-2023.txt\n",
      "E:\\B-Module\\results\\Inverted_MeanP\\InvMnP_Tf_92_01-03-2023.txt\n",
      "658 : E:\\B-Module\\TXTs\\01-03-2023.txt\n",
      "E:\\B-Module\\results\\Inverted_MeanP\\InvMnP_Tf_93_01-03-2023.txt\n",
      "665 : E:\\B-Module\\TXTs\\01-03-2023.txt\n",
      "E:\\B-Module\\results\\Inverted_MeanP\\InvMnP_Tf_94_01-03-2023.txt\n",
      "672 : E:\\B-Module\\TXTs\\01-03-2023.txt\n",
      "E:\\B-Module\\results\\Inverted_MeanP\\InvMnP_Tf_95_01-03-2023.txt\n",
      "679 : E:\\B-Module\\TXTs\\01-03-2023.txt\n",
      "E:\\B-Module\\results\\Inverted_MeanP\\InvMnP_Tf_96_01-03-2023.txt\n",
      "686 : E:\\B-Module\\TXTs\\01-03-2023.txt\n",
      "E:\\B-Module\\results\\Inverted_MeanP\\InvMnP_Tf_97_01-03-2023.txt\n",
      "693 : E:\\B-Module\\TXTs\\01-03-2023.txt\n",
      "E:\\B-Module\\results\\Inverted_MeanP\\InvMnP_Tf_98_01-03-2023.txt\n",
      "7 : E:\\B-Module\\TXTs\\01-05-2022.txt\n",
      "E:\\B-Module\\results\\Inverted_MeanP\\InvMnP_Tf_0_01-05-2022.txt\n",
      "14 : E:\\B-Module\\TXTs\\01-05-2022.txt\n",
      "E:\\B-Module\\results\\Inverted_MeanP\\InvMnP_Tf_1_01-05-2022.txt\n",
      "21 : E:\\B-Module\\TXTs\\01-05-2022.txt\n",
      "E:\\B-Module\\results\\Inverted_MeanP\\InvMnP_Tf_2_01-05-2022.txt\n",
      "28 : E:\\B-Module\\TXTs\\01-05-2022.txt\n",
      "E:\\B-Module\\results\\Inverted_MeanP\\InvMnP_Tf_3_01-05-2022.txt\n",
      "35 : E:\\B-Module\\TXTs\\01-05-2022.txt\n",
      "E:\\B-Module\\results\\Inverted_MeanP\\InvMnP_Tf_4_01-05-2022.txt\n",
      "42 : E:\\B-Module\\TXTs\\01-05-2022.txt\n",
      "E:\\B-Module\\results\\Inverted_MeanP\\InvMnP_Tf_5_01-05-2022.txt\n",
      "49 : E:\\B-Module\\TXTs\\01-05-2022.txt\n",
      "E:\\B-Module\\results\\Inverted_MeanP\\InvMnP_Tf_6_01-05-2022.txt\n",
      "56 : E:\\B-Module\\TXTs\\01-05-2022.txt\n",
      "E:\\B-Module\\results\\Inverted_MeanP\\InvMnP_Tf_7_01-05-2022.txt\n",
      "63 : E:\\B-Module\\TXTs\\01-05-2022.txt\n",
      "E:\\B-Module\\results\\Inverted_MeanP\\InvMnP_Tf_8_01-05-2022.txt\n",
      "70 : E:\\B-Module\\TXTs\\01-05-2022.txt\n",
      "E:\\B-Module\\results\\Inverted_MeanP\\InvMnP_Tf_9_01-05-2022.txt\n",
      "77 : E:\\B-Module\\TXTs\\01-05-2022.txt\n",
      "E:\\B-Module\\results\\Inverted_MeanP\\InvMnP_Tf_10_01-05-2022.txt\n",
      "84 : E:\\B-Module\\TXTs\\01-05-2022.txt\n",
      "E:\\B-Module\\results\\Inverted_MeanP\\InvMnP_Tf_11_01-05-2022.txt\n",
      "91 : E:\\B-Module\\TXTs\\01-05-2022.txt\n",
      "E:\\B-Module\\results\\Inverted_MeanP\\InvMnP_Tf_12_01-05-2022.txt\n",
      "98 : E:\\B-Module\\TXTs\\01-05-2022.txt\n",
      "E:\\B-Module\\results\\Inverted_MeanP\\InvMnP_Tf_13_01-05-2022.txt\n",
      "105 : E:\\B-Module\\TXTs\\01-05-2022.txt\n",
      "E:\\B-Module\\results\\Inverted_MeanP\\InvMnP_Tf_14_01-05-2022.txt\n",
      "112 : E:\\B-Module\\TXTs\\01-05-2022.txt\n",
      "E:\\B-Module\\results\\Inverted_MeanP\\InvMnP_Tf_15_01-05-2022.txt\n",
      "119 : E:\\B-Module\\TXTs\\01-05-2022.txt\n",
      "E:\\B-Module\\results\\Inverted_MeanP\\InvMnP_Tf_16_01-05-2022.txt\n",
      "126 : E:\\B-Module\\TXTs\\01-05-2022.txt\n",
      "E:\\B-Module\\results\\Inverted_MeanP\\InvMnP_Tf_17_01-05-2022.txt\n",
      "133 : E:\\B-Module\\TXTs\\01-05-2022.txt\n",
      "E:\\B-Module\\results\\Inverted_MeanP\\InvMnP_Tf_18_01-05-2022.txt\n",
      "140 : E:\\B-Module\\TXTs\\01-05-2022.txt\n",
      "E:\\B-Module\\results\\Inverted_MeanP\\InvMnP_Tf_19_01-05-2022.txt\n",
      "147 : E:\\B-Module\\TXTs\\01-05-2022.txt\n",
      "E:\\B-Module\\results\\Inverted_MeanP\\InvMnP_Tf_20_01-05-2022.txt\n",
      "154 : E:\\B-Module\\TXTs\\01-05-2022.txt\n",
      "E:\\B-Module\\results\\Inverted_MeanP\\InvMnP_Tf_21_01-05-2022.txt\n",
      "161 : E:\\B-Module\\TXTs\\01-05-2022.txt\n",
      "E:\\B-Module\\results\\Inverted_MeanP\\InvMnP_Tf_22_01-05-2022.txt\n",
      "168 : E:\\B-Module\\TXTs\\01-05-2022.txt\n",
      "E:\\B-Module\\results\\Inverted_MeanP\\InvMnP_Tf_23_01-05-2022.txt\n",
      "175 : E:\\B-Module\\TXTs\\01-05-2022.txt\n",
      "E:\\B-Module\\results\\Inverted_MeanP\\InvMnP_Tf_24_01-05-2022.txt\n",
      "182 : E:\\B-Module\\TXTs\\01-05-2022.txt\n",
      "E:\\B-Module\\results\\Inverted_MeanP\\InvMnP_Tf_25_01-05-2022.txt\n",
      "189 : E:\\B-Module\\TXTs\\01-05-2022.txt\n",
      "E:\\B-Module\\results\\Inverted_MeanP\\InvMnP_Tf_26_01-05-2022.txt\n",
      "196 : E:\\B-Module\\TXTs\\01-05-2022.txt\n",
      "E:\\B-Module\\results\\Inverted_MeanP\\InvMnP_Tf_27_01-05-2022.txt\n",
      "203 : E:\\B-Module\\TXTs\\01-05-2022.txt\n",
      "E:\\B-Module\\results\\Inverted_MeanP\\InvMnP_Tf_28_01-05-2022.txt\n",
      "210 : E:\\B-Module\\TXTs\\01-05-2022.txt\n",
      "E:\\B-Module\\results\\Inverted_MeanP\\InvMnP_Tf_29_01-05-2022.txt\n",
      "217 : E:\\B-Module\\TXTs\\01-05-2022.txt\n",
      "E:\\B-Module\\results\\Inverted_MeanP\\InvMnP_Tf_30_01-05-2022.txt\n",
      "224 : E:\\B-Module\\TXTs\\01-05-2022.txt\n",
      "E:\\B-Module\\results\\Inverted_MeanP\\InvMnP_Tf_31_01-05-2022.txt\n",
      "231 : E:\\B-Module\\TXTs\\01-05-2022.txt\n",
      "E:\\B-Module\\results\\Inverted_MeanP\\InvMnP_Tf_32_01-05-2022.txt\n",
      "238 : E:\\B-Module\\TXTs\\01-05-2022.txt\n",
      "E:\\B-Module\\results\\Inverted_MeanP\\InvMnP_Tf_33_01-05-2022.txt\n",
      "245 : E:\\B-Module\\TXTs\\01-05-2022.txt\n",
      "E:\\B-Module\\results\\Inverted_MeanP\\InvMnP_Tf_34_01-05-2022.txt\n",
      "252 : E:\\B-Module\\TXTs\\01-05-2022.txt\n",
      "E:\\B-Module\\results\\Inverted_MeanP\\InvMnP_Tf_35_01-05-2022.txt\n",
      "259 : E:\\B-Module\\TXTs\\01-05-2022.txt\n",
      "E:\\B-Module\\results\\Inverted_MeanP\\InvMnP_Tf_36_01-05-2022.txt\n",
      "266 : E:\\B-Module\\TXTs\\01-05-2022.txt\n",
      "E:\\B-Module\\results\\Inverted_MeanP\\InvMnP_Tf_37_01-05-2022.txt\n",
      "273 : E:\\B-Module\\TXTs\\01-05-2022.txt\n",
      "E:\\B-Module\\results\\Inverted_MeanP\\InvMnP_Tf_38_01-05-2022.txt\n",
      "280 : E:\\B-Module\\TXTs\\01-05-2022.txt\n",
      "E:\\B-Module\\results\\Inverted_MeanP\\InvMnP_Tf_39_01-05-2022.txt\n",
      "287 : E:\\B-Module\\TXTs\\01-05-2022.txt\n",
      "E:\\B-Module\\results\\Inverted_MeanP\\InvMnP_Tf_40_01-05-2022.txt\n",
      "294 : E:\\B-Module\\TXTs\\01-05-2022.txt\n",
      "E:\\B-Module\\results\\Inverted_MeanP\\InvMnP_Tf_41_01-05-2022.txt\n",
      "301 : E:\\B-Module\\TXTs\\01-05-2022.txt\n",
      "E:\\B-Module\\results\\Inverted_MeanP\\InvMnP_Tf_42_01-05-2022.txt\n",
      "308 : E:\\B-Module\\TXTs\\01-05-2022.txt\n",
      "E:\\B-Module\\results\\Inverted_MeanP\\InvMnP_Tf_43_01-05-2022.txt\n",
      "315 : E:\\B-Module\\TXTs\\01-05-2022.txt\n",
      "E:\\B-Module\\results\\Inverted_MeanP\\InvMnP_Tf_44_01-05-2022.txt\n",
      "322 : E:\\B-Module\\TXTs\\01-05-2022.txt\n",
      "E:\\B-Module\\results\\Inverted_MeanP\\InvMnP_Tf_45_01-05-2022.txt\n",
      "329 : E:\\B-Module\\TXTs\\01-05-2022.txt\n",
      "E:\\B-Module\\results\\Inverted_MeanP\\InvMnP_Tf_46_01-05-2022.txt\n",
      "336 : E:\\B-Module\\TXTs\\01-05-2022.txt\n",
      "E:\\B-Module\\results\\Inverted_MeanP\\InvMnP_Tf_47_01-05-2022.txt\n",
      "343 : E:\\B-Module\\TXTs\\01-05-2022.txt\n",
      "E:\\B-Module\\results\\Inverted_MeanP\\InvMnP_Tf_48_01-05-2022.txt\n",
      "350 : E:\\B-Module\\TXTs\\01-05-2022.txt\n",
      "E:\\B-Module\\results\\Inverted_MeanP\\InvMnP_Tf_49_01-05-2022.txt\n",
      "357 : E:\\B-Module\\TXTs\\01-05-2022.txt\n",
      "E:\\B-Module\\results\\Inverted_MeanP\\InvMnP_Tf_50_01-05-2022.txt\n",
      "364 : E:\\B-Module\\TXTs\\01-05-2022.txt\n",
      "E:\\B-Module\\results\\Inverted_MeanP\\InvMnP_Tf_51_01-05-2022.txt\n",
      "371 : E:\\B-Module\\TXTs\\01-05-2022.txt\n",
      "E:\\B-Module\\results\\Inverted_MeanP\\InvMnP_Tf_52_01-05-2022.txt\n",
      "378 : E:\\B-Module\\TXTs\\01-05-2022.txt\n",
      "E:\\B-Module\\results\\Inverted_MeanP\\InvMnP_Tf_53_01-05-2022.txt\n",
      "385 : E:\\B-Module\\TXTs\\01-05-2022.txt\n",
      "E:\\B-Module\\results\\Inverted_MeanP\\InvMnP_Tf_54_01-05-2022.txt\n",
      "392 : E:\\B-Module\\TXTs\\01-05-2022.txt\n",
      "E:\\B-Module\\results\\Inverted_MeanP\\InvMnP_Tf_55_01-05-2022.txt\n",
      "399 : E:\\B-Module\\TXTs\\01-05-2022.txt\n",
      "E:\\B-Module\\results\\Inverted_MeanP\\InvMnP_Tf_56_01-05-2022.txt\n",
      "406 : E:\\B-Module\\TXTs\\01-05-2022.txt\n",
      "E:\\B-Module\\results\\Inverted_MeanP\\InvMnP_Tf_57_01-05-2022.txt\n",
      "413 : E:\\B-Module\\TXTs\\01-05-2022.txt\n",
      "E:\\B-Module\\results\\Inverted_MeanP\\InvMnP_Tf_58_01-05-2022.txt\n",
      "420 : E:\\B-Module\\TXTs\\01-05-2022.txt\n",
      "E:\\B-Module\\results\\Inverted_MeanP\\InvMnP_Tf_59_01-05-2022.txt\n",
      "427 : E:\\B-Module\\TXTs\\01-05-2022.txt\n",
      "E:\\B-Module\\results\\Inverted_MeanP\\InvMnP_Tf_60_01-05-2022.txt\n",
      "434 : E:\\B-Module\\TXTs\\01-05-2022.txt\n",
      "E:\\B-Module\\results\\Inverted_MeanP\\InvMnP_Tf_61_01-05-2022.txt\n",
      "441 : E:\\B-Module\\TXTs\\01-05-2022.txt\n",
      "E:\\B-Module\\results\\Inverted_MeanP\\InvMnP_Tf_62_01-05-2022.txt\n",
      "448 : E:\\B-Module\\TXTs\\01-05-2022.txt\n",
      "E:\\B-Module\\results\\Inverted_MeanP\\InvMnP_Tf_63_01-05-2022.txt\n",
      "455 : E:\\B-Module\\TXTs\\01-05-2022.txt\n",
      "E:\\B-Module\\results\\Inverted_MeanP\\InvMnP_Tf_64_01-05-2022.txt\n",
      "462 : E:\\B-Module\\TXTs\\01-05-2022.txt\n",
      "E:\\B-Module\\results\\Inverted_MeanP\\InvMnP_Tf_65_01-05-2022.txt\n",
      "469 : E:\\B-Module\\TXTs\\01-05-2022.txt\n",
      "E:\\B-Module\\results\\Inverted_MeanP\\InvMnP_Tf_66_01-05-2022.txt\n",
      "476 : E:\\B-Module\\TXTs\\01-05-2022.txt\n",
      "E:\\B-Module\\results\\Inverted_MeanP\\InvMnP_Tf_67_01-05-2022.txt\n",
      "483 : E:\\B-Module\\TXTs\\01-05-2022.txt\n",
      "E:\\B-Module\\results\\Inverted_MeanP\\InvMnP_Tf_68_01-05-2022.txt\n",
      "490 : E:\\B-Module\\TXTs\\01-05-2022.txt\n",
      "E:\\B-Module\\results\\Inverted_MeanP\\InvMnP_Tf_69_01-05-2022.txt\n",
      "497 : E:\\B-Module\\TXTs\\01-05-2022.txt\n",
      "E:\\B-Module\\results\\Inverted_MeanP\\InvMnP_Tf_70_01-05-2022.txt\n",
      "504 : E:\\B-Module\\TXTs\\01-05-2022.txt\n",
      "E:\\B-Module\\results\\Inverted_MeanP\\InvMnP_Tf_71_01-05-2022.txt\n",
      "511 : E:\\B-Module\\TXTs\\01-05-2022.txt\n",
      "E:\\B-Module\\results\\Inverted_MeanP\\InvMnP_Tf_72_01-05-2022.txt\n",
      "518 : E:\\B-Module\\TXTs\\01-05-2022.txt\n",
      "E:\\B-Module\\results\\Inverted_MeanP\\InvMnP_Tf_73_01-05-2022.txt\n",
      "525 : E:\\B-Module\\TXTs\\01-05-2022.txt\n",
      "E:\\B-Module\\results\\Inverted_MeanP\\InvMnP_Tf_74_01-05-2022.txt\n",
      "532 : E:\\B-Module\\TXTs\\01-05-2022.txt\n",
      "E:\\B-Module\\results\\Inverted_MeanP\\InvMnP_Tf_75_01-05-2022.txt\n",
      "539 : E:\\B-Module\\TXTs\\01-05-2022.txt\n",
      "E:\\B-Module\\results\\Inverted_MeanP\\InvMnP_Tf_76_01-05-2022.txt\n",
      "546 : E:\\B-Module\\TXTs\\01-05-2022.txt\n",
      "E:\\B-Module\\results\\Inverted_MeanP\\InvMnP_Tf_77_01-05-2022.txt\n",
      "553 : E:\\B-Module\\TXTs\\01-05-2022.txt\n",
      "E:\\B-Module\\results\\Inverted_MeanP\\InvMnP_Tf_78_01-05-2022.txt\n",
      "560 : E:\\B-Module\\TXTs\\01-05-2022.txt\n",
      "E:\\B-Module\\results\\Inverted_MeanP\\InvMnP_Tf_79_01-05-2022.txt\n",
      "567 : E:\\B-Module\\TXTs\\01-05-2022.txt\n",
      "E:\\B-Module\\results\\Inverted_MeanP\\InvMnP_Tf_80_01-05-2022.txt\n",
      "574 : E:\\B-Module\\TXTs\\01-05-2022.txt\n",
      "E:\\B-Module\\results\\Inverted_MeanP\\InvMnP_Tf_81_01-05-2022.txt\n",
      "581 : E:\\B-Module\\TXTs\\01-05-2022.txt\n",
      "E:\\B-Module\\results\\Inverted_MeanP\\InvMnP_Tf_82_01-05-2022.txt\n",
      "588 : E:\\B-Module\\TXTs\\01-05-2022.txt\n",
      "E:\\B-Module\\results\\Inverted_MeanP\\InvMnP_Tf_83_01-05-2022.txt\n",
      "595 : E:\\B-Module\\TXTs\\01-05-2022.txt\n",
      "E:\\B-Module\\results\\Inverted_MeanP\\InvMnP_Tf_84_01-05-2022.txt\n",
      "602 : E:\\B-Module\\TXTs\\01-05-2022.txt\n",
      "E:\\B-Module\\results\\Inverted_MeanP\\InvMnP_Tf_85_01-05-2022.txt\n",
      "609 : E:\\B-Module\\TXTs\\01-05-2022.txt\n",
      "E:\\B-Module\\results\\Inverted_MeanP\\InvMnP_Tf_86_01-05-2022.txt\n",
      "616 : E:\\B-Module\\TXTs\\01-05-2022.txt\n",
      "E:\\B-Module\\results\\Inverted_MeanP\\InvMnP_Tf_87_01-05-2022.txt\n",
      "623 : E:\\B-Module\\TXTs\\01-05-2022.txt\n",
      "E:\\B-Module\\results\\Inverted_MeanP\\InvMnP_Tf_88_01-05-2022.txt\n",
      "630 : E:\\B-Module\\TXTs\\01-05-2022.txt\n",
      "E:\\B-Module\\results\\Inverted_MeanP\\InvMnP_Tf_89_01-05-2022.txt\n",
      "637 : E:\\B-Module\\TXTs\\01-05-2022.txt\n",
      "E:\\B-Module\\results\\Inverted_MeanP\\InvMnP_Tf_90_01-05-2022.txt\n",
      "644 : E:\\B-Module\\TXTs\\01-05-2022.txt\n",
      "E:\\B-Module\\results\\Inverted_MeanP\\InvMnP_Tf_91_01-05-2022.txt\n",
      "651 : E:\\B-Module\\TXTs\\01-05-2022.txt\n",
      "E:\\B-Module\\results\\Inverted_MeanP\\InvMnP_Tf_92_01-05-2022.txt\n",
      "658 : E:\\B-Module\\TXTs\\01-05-2022.txt\n",
      "E:\\B-Module\\results\\Inverted_MeanP\\InvMnP_Tf_93_01-05-2022.txt\n",
      "665 : E:\\B-Module\\TXTs\\01-05-2022.txt\n",
      "E:\\B-Module\\results\\Inverted_MeanP\\InvMnP_Tf_94_01-05-2022.txt\n",
      "672 : E:\\B-Module\\TXTs\\01-05-2022.txt\n",
      "E:\\B-Module\\results\\Inverted_MeanP\\InvMnP_Tf_95_01-05-2022.txt\n",
      "679 : E:\\B-Module\\TXTs\\01-05-2022.txt\n",
      "E:\\B-Module\\results\\Inverted_MeanP\\InvMnP_Tf_96_01-05-2022.txt\n",
      "686 : E:\\B-Module\\TXTs\\01-05-2022.txt\n",
      "E:\\B-Module\\results\\Inverted_MeanP\\InvMnP_Tf_97_01-05-2022.txt\n",
      "693 : E:\\B-Module\\TXTs\\01-05-2022.txt\n",
      "E:\\B-Module\\results\\Inverted_MeanP\\InvMnP_Tf_98_01-05-2022.txt\n",
      "7 : E:\\B-Module\\TXTs\\01-07-2022.txt\n",
      "E:\\B-Module\\results\\Inverted_MeanP\\InvMnP_Tf_0_01-07-2022.txt\n",
      "14 : E:\\B-Module\\TXTs\\01-07-2022.txt\n",
      "E:\\B-Module\\results\\Inverted_MeanP\\InvMnP_Tf_1_01-07-2022.txt\n",
      "21 : E:\\B-Module\\TXTs\\01-07-2022.txt\n",
      "E:\\B-Module\\results\\Inverted_MeanP\\InvMnP_Tf_2_01-07-2022.txt\n",
      "28 : E:\\B-Module\\TXTs\\01-07-2022.txt\n",
      "E:\\B-Module\\results\\Inverted_MeanP\\InvMnP_Tf_3_01-07-2022.txt\n",
      "35 : E:\\B-Module\\TXTs\\01-07-2022.txt\n",
      "E:\\B-Module\\results\\Inverted_MeanP\\InvMnP_Tf_4_01-07-2022.txt\n",
      "42 : E:\\B-Module\\TXTs\\01-07-2022.txt\n",
      "E:\\B-Module\\results\\Inverted_MeanP\\InvMnP_Tf_5_01-07-2022.txt\n",
      "49 : E:\\B-Module\\TXTs\\01-07-2022.txt\n",
      "E:\\B-Module\\results\\Inverted_MeanP\\InvMnP_Tf_6_01-07-2022.txt\n",
      "56 : E:\\B-Module\\TXTs\\01-07-2022.txt\n",
      "E:\\B-Module\\results\\Inverted_MeanP\\InvMnP_Tf_7_01-07-2022.txt\n",
      "63 : E:\\B-Module\\TXTs\\01-07-2022.txt\n",
      "E:\\B-Module\\results\\Inverted_MeanP\\InvMnP_Tf_8_01-07-2022.txt\n",
      "70 : E:\\B-Module\\TXTs\\01-07-2022.txt\n",
      "E:\\B-Module\\results\\Inverted_MeanP\\InvMnP_Tf_9_01-07-2022.txt\n",
      "77 : E:\\B-Module\\TXTs\\01-07-2022.txt\n",
      "E:\\B-Module\\results\\Inverted_MeanP\\InvMnP_Tf_10_01-07-2022.txt\n",
      "84 : E:\\B-Module\\TXTs\\01-07-2022.txt\n",
      "E:\\B-Module\\results\\Inverted_MeanP\\InvMnP_Tf_11_01-07-2022.txt\n",
      "91 : E:\\B-Module\\TXTs\\01-07-2022.txt\n",
      "E:\\B-Module\\results\\Inverted_MeanP\\InvMnP_Tf_12_01-07-2022.txt\n",
      "98 : E:\\B-Module\\TXTs\\01-07-2022.txt\n",
      "E:\\B-Module\\results\\Inverted_MeanP\\InvMnP_Tf_13_01-07-2022.txt\n",
      "105 : E:\\B-Module\\TXTs\\01-07-2022.txt\n",
      "E:\\B-Module\\results\\Inverted_MeanP\\InvMnP_Tf_14_01-07-2022.txt\n",
      "112 : E:\\B-Module\\TXTs\\01-07-2022.txt\n",
      "E:\\B-Module\\results\\Inverted_MeanP\\InvMnP_Tf_15_01-07-2022.txt\n",
      "119 : E:\\B-Module\\TXTs\\01-07-2022.txt\n",
      "E:\\B-Module\\results\\Inverted_MeanP\\InvMnP_Tf_16_01-07-2022.txt\n",
      "126 : E:\\B-Module\\TXTs\\01-07-2022.txt\n",
      "E:\\B-Module\\results\\Inverted_MeanP\\InvMnP_Tf_17_01-07-2022.txt\n",
      "133 : E:\\B-Module\\TXTs\\01-07-2022.txt\n",
      "E:\\B-Module\\results\\Inverted_MeanP\\InvMnP_Tf_18_01-07-2022.txt\n",
      "140 : E:\\B-Module\\TXTs\\01-07-2022.txt\n",
      "E:\\B-Module\\results\\Inverted_MeanP\\InvMnP_Tf_19_01-07-2022.txt\n",
      "147 : E:\\B-Module\\TXTs\\01-07-2022.txt\n",
      "E:\\B-Module\\results\\Inverted_MeanP\\InvMnP_Tf_20_01-07-2022.txt\n",
      "154 : E:\\B-Module\\TXTs\\01-07-2022.txt\n",
      "E:\\B-Module\\results\\Inverted_MeanP\\InvMnP_Tf_21_01-07-2022.txt\n",
      "161 : E:\\B-Module\\TXTs\\01-07-2022.txt\n",
      "E:\\B-Module\\results\\Inverted_MeanP\\InvMnP_Tf_22_01-07-2022.txt\n",
      "168 : E:\\B-Module\\TXTs\\01-07-2022.txt\n",
      "E:\\B-Module\\results\\Inverted_MeanP\\InvMnP_Tf_23_01-07-2022.txt\n",
      "175 : E:\\B-Module\\TXTs\\01-07-2022.txt\n",
      "E:\\B-Module\\results\\Inverted_MeanP\\InvMnP_Tf_24_01-07-2022.txt\n",
      "182 : E:\\B-Module\\TXTs\\01-07-2022.txt\n",
      "E:\\B-Module\\results\\Inverted_MeanP\\InvMnP_Tf_25_01-07-2022.txt\n",
      "189 : E:\\B-Module\\TXTs\\01-07-2022.txt\n",
      "E:\\B-Module\\results\\Inverted_MeanP\\InvMnP_Tf_26_01-07-2022.txt\n",
      "196 : E:\\B-Module\\TXTs\\01-07-2022.txt\n",
      "E:\\B-Module\\results\\Inverted_MeanP\\InvMnP_Tf_27_01-07-2022.txt\n",
      "203 : E:\\B-Module\\TXTs\\01-07-2022.txt\n",
      "E:\\B-Module\\results\\Inverted_MeanP\\InvMnP_Tf_28_01-07-2022.txt\n",
      "210 : E:\\B-Module\\TXTs\\01-07-2022.txt\n",
      "E:\\B-Module\\results\\Inverted_MeanP\\InvMnP_Tf_29_01-07-2022.txt\n",
      "217 : E:\\B-Module\\TXTs\\01-07-2022.txt\n",
      "E:\\B-Module\\results\\Inverted_MeanP\\InvMnP_Tf_30_01-07-2022.txt\n",
      "224 : E:\\B-Module\\TXTs\\01-07-2022.txt\n",
      "E:\\B-Module\\results\\Inverted_MeanP\\InvMnP_Tf_31_01-07-2022.txt\n",
      "231 : E:\\B-Module\\TXTs\\01-07-2022.txt\n",
      "E:\\B-Module\\results\\Inverted_MeanP\\InvMnP_Tf_32_01-07-2022.txt\n",
      "238 : E:\\B-Module\\TXTs\\01-07-2022.txt\n",
      "E:\\B-Module\\results\\Inverted_MeanP\\InvMnP_Tf_33_01-07-2022.txt\n",
      "245 : E:\\B-Module\\TXTs\\01-07-2022.txt\n",
      "E:\\B-Module\\results\\Inverted_MeanP\\InvMnP_Tf_34_01-07-2022.txt\n",
      "252 : E:\\B-Module\\TXTs\\01-07-2022.txt\n",
      "E:\\B-Module\\results\\Inverted_MeanP\\InvMnP_Tf_35_01-07-2022.txt\n",
      "259 : E:\\B-Module\\TXTs\\01-07-2022.txt\n",
      "E:\\B-Module\\results\\Inverted_MeanP\\InvMnP_Tf_36_01-07-2022.txt\n",
      "266 : E:\\B-Module\\TXTs\\01-07-2022.txt\n",
      "E:\\B-Module\\results\\Inverted_MeanP\\InvMnP_Tf_37_01-07-2022.txt\n",
      "273 : E:\\B-Module\\TXTs\\01-07-2022.txt\n",
      "E:\\B-Module\\results\\Inverted_MeanP\\InvMnP_Tf_38_01-07-2022.txt\n",
      "280 : E:\\B-Module\\TXTs\\01-07-2022.txt\n",
      "E:\\B-Module\\results\\Inverted_MeanP\\InvMnP_Tf_39_01-07-2022.txt\n",
      "287 : E:\\B-Module\\TXTs\\01-07-2022.txt\n",
      "E:\\B-Module\\results\\Inverted_MeanP\\InvMnP_Tf_40_01-07-2022.txt\n",
      "294 : E:\\B-Module\\TXTs\\01-07-2022.txt\n",
      "E:\\B-Module\\results\\Inverted_MeanP\\InvMnP_Tf_41_01-07-2022.txt\n",
      "301 : E:\\B-Module\\TXTs\\01-07-2022.txt\n",
      "E:\\B-Module\\results\\Inverted_MeanP\\InvMnP_Tf_42_01-07-2022.txt\n",
      "308 : E:\\B-Module\\TXTs\\01-07-2022.txt\n",
      "E:\\B-Module\\results\\Inverted_MeanP\\InvMnP_Tf_43_01-07-2022.txt\n",
      "315 : E:\\B-Module\\TXTs\\01-07-2022.txt\n",
      "E:\\B-Module\\results\\Inverted_MeanP\\InvMnP_Tf_44_01-07-2022.txt\n",
      "322 : E:\\B-Module\\TXTs\\01-07-2022.txt\n",
      "E:\\B-Module\\results\\Inverted_MeanP\\InvMnP_Tf_45_01-07-2022.txt\n",
      "329 : E:\\B-Module\\TXTs\\01-07-2022.txt\n",
      "E:\\B-Module\\results\\Inverted_MeanP\\InvMnP_Tf_46_01-07-2022.txt\n",
      "336 : E:\\B-Module\\TXTs\\01-07-2022.txt\n",
      "E:\\B-Module\\results\\Inverted_MeanP\\InvMnP_Tf_47_01-07-2022.txt\n",
      "343 : E:\\B-Module\\TXTs\\01-07-2022.txt\n",
      "E:\\B-Module\\results\\Inverted_MeanP\\InvMnP_Tf_48_01-07-2022.txt\n",
      "350 : E:\\B-Module\\TXTs\\01-07-2022.txt\n",
      "E:\\B-Module\\results\\Inverted_MeanP\\InvMnP_Tf_49_01-07-2022.txt\n",
      "357 : E:\\B-Module\\TXTs\\01-07-2022.txt\n",
      "E:\\B-Module\\results\\Inverted_MeanP\\InvMnP_Tf_50_01-07-2022.txt\n",
      "364 : E:\\B-Module\\TXTs\\01-07-2022.txt\n",
      "E:\\B-Module\\results\\Inverted_MeanP\\InvMnP_Tf_51_01-07-2022.txt\n",
      "371 : E:\\B-Module\\TXTs\\01-07-2022.txt\n",
      "E:\\B-Module\\results\\Inverted_MeanP\\InvMnP_Tf_52_01-07-2022.txt\n",
      "378 : E:\\B-Module\\TXTs\\01-07-2022.txt\n",
      "E:\\B-Module\\results\\Inverted_MeanP\\InvMnP_Tf_53_01-07-2022.txt\n",
      "385 : E:\\B-Module\\TXTs\\01-07-2022.txt\n",
      "E:\\B-Module\\results\\Inverted_MeanP\\InvMnP_Tf_54_01-07-2022.txt\n",
      "392 : E:\\B-Module\\TXTs\\01-07-2022.txt\n",
      "E:\\B-Module\\results\\Inverted_MeanP\\InvMnP_Tf_55_01-07-2022.txt\n",
      "399 : E:\\B-Module\\TXTs\\01-07-2022.txt\n",
      "E:\\B-Module\\results\\Inverted_MeanP\\InvMnP_Tf_56_01-07-2022.txt\n",
      "406 : E:\\B-Module\\TXTs\\01-07-2022.txt\n",
      "E:\\B-Module\\results\\Inverted_MeanP\\InvMnP_Tf_57_01-07-2022.txt\n",
      "413 : E:\\B-Module\\TXTs\\01-07-2022.txt\n",
      "E:\\B-Module\\results\\Inverted_MeanP\\InvMnP_Tf_58_01-07-2022.txt\n",
      "420 : E:\\B-Module\\TXTs\\01-07-2022.txt\n",
      "E:\\B-Module\\results\\Inverted_MeanP\\InvMnP_Tf_59_01-07-2022.txt\n",
      "427 : E:\\B-Module\\TXTs\\01-07-2022.txt\n",
      "E:\\B-Module\\results\\Inverted_MeanP\\InvMnP_Tf_60_01-07-2022.txt\n",
      "434 : E:\\B-Module\\TXTs\\01-07-2022.txt\n",
      "E:\\B-Module\\results\\Inverted_MeanP\\InvMnP_Tf_61_01-07-2022.txt\n",
      "441 : E:\\B-Module\\TXTs\\01-07-2022.txt\n",
      "E:\\B-Module\\results\\Inverted_MeanP\\InvMnP_Tf_62_01-07-2022.txt\n",
      "448 : E:\\B-Module\\TXTs\\01-07-2022.txt\n",
      "E:\\B-Module\\results\\Inverted_MeanP\\InvMnP_Tf_63_01-07-2022.txt\n",
      "455 : E:\\B-Module\\TXTs\\01-07-2022.txt\n",
      "E:\\B-Module\\results\\Inverted_MeanP\\InvMnP_Tf_64_01-07-2022.txt\n",
      "462 : E:\\B-Module\\TXTs\\01-07-2022.txt\n",
      "E:\\B-Module\\results\\Inverted_MeanP\\InvMnP_Tf_65_01-07-2022.txt\n",
      "469 : E:\\B-Module\\TXTs\\01-07-2022.txt\n",
      "E:\\B-Module\\results\\Inverted_MeanP\\InvMnP_Tf_66_01-07-2022.txt\n",
      "476 : E:\\B-Module\\TXTs\\01-07-2022.txt\n",
      "E:\\B-Module\\results\\Inverted_MeanP\\InvMnP_Tf_67_01-07-2022.txt\n",
      "483 : E:\\B-Module\\TXTs\\01-07-2022.txt\n",
      "E:\\B-Module\\results\\Inverted_MeanP\\InvMnP_Tf_68_01-07-2022.txt\n",
      "490 : E:\\B-Module\\TXTs\\01-07-2022.txt\n",
      "E:\\B-Module\\results\\Inverted_MeanP\\InvMnP_Tf_69_01-07-2022.txt\n",
      "497 : E:\\B-Module\\TXTs\\01-07-2022.txt\n",
      "E:\\B-Module\\results\\Inverted_MeanP\\InvMnP_Tf_70_01-07-2022.txt\n",
      "504 : E:\\B-Module\\TXTs\\01-07-2022.txt\n",
      "E:\\B-Module\\results\\Inverted_MeanP\\InvMnP_Tf_71_01-07-2022.txt\n",
      "511 : E:\\B-Module\\TXTs\\01-07-2022.txt\n",
      "E:\\B-Module\\results\\Inverted_MeanP\\InvMnP_Tf_72_01-07-2022.txt\n",
      "518 : E:\\B-Module\\TXTs\\01-07-2022.txt\n",
      "E:\\B-Module\\results\\Inverted_MeanP\\InvMnP_Tf_73_01-07-2022.txt\n",
      "525 : E:\\B-Module\\TXTs\\01-07-2022.txt\n",
      "E:\\B-Module\\results\\Inverted_MeanP\\InvMnP_Tf_74_01-07-2022.txt\n",
      "532 : E:\\B-Module\\TXTs\\01-07-2022.txt\n",
      "E:\\B-Module\\results\\Inverted_MeanP\\InvMnP_Tf_75_01-07-2022.txt\n",
      "539 : E:\\B-Module\\TXTs\\01-07-2022.txt\n",
      "E:\\B-Module\\results\\Inverted_MeanP\\InvMnP_Tf_76_01-07-2022.txt\n",
      "546 : E:\\B-Module\\TXTs\\01-07-2022.txt\n",
      "E:\\B-Module\\results\\Inverted_MeanP\\InvMnP_Tf_77_01-07-2022.txt\n",
      "553 : E:\\B-Module\\TXTs\\01-07-2022.txt\n",
      "E:\\B-Module\\results\\Inverted_MeanP\\InvMnP_Tf_78_01-07-2022.txt\n",
      "560 : E:\\B-Module\\TXTs\\01-07-2022.txt\n",
      "E:\\B-Module\\results\\Inverted_MeanP\\InvMnP_Tf_79_01-07-2022.txt\n",
      "567 : E:\\B-Module\\TXTs\\01-07-2022.txt\n",
      "E:\\B-Module\\results\\Inverted_MeanP\\InvMnP_Tf_80_01-07-2022.txt\n",
      "574 : E:\\B-Module\\TXTs\\01-07-2022.txt\n",
      "E:\\B-Module\\results\\Inverted_MeanP\\InvMnP_Tf_81_01-07-2022.txt\n",
      "581 : E:\\B-Module\\TXTs\\01-07-2022.txt\n",
      "E:\\B-Module\\results\\Inverted_MeanP\\InvMnP_Tf_82_01-07-2022.txt\n",
      "588 : E:\\B-Module\\TXTs\\01-07-2022.txt\n",
      "E:\\B-Module\\results\\Inverted_MeanP\\InvMnP_Tf_83_01-07-2022.txt\n",
      "595 : E:\\B-Module\\TXTs\\01-07-2022.txt\n",
      "E:\\B-Module\\results\\Inverted_MeanP\\InvMnP_Tf_84_01-07-2022.txt\n",
      "602 : E:\\B-Module\\TXTs\\01-07-2022.txt\n",
      "E:\\B-Module\\results\\Inverted_MeanP\\InvMnP_Tf_85_01-07-2022.txt\n",
      "609 : E:\\B-Module\\TXTs\\01-07-2022.txt\n",
      "E:\\B-Module\\results\\Inverted_MeanP\\InvMnP_Tf_86_01-07-2022.txt\n",
      "616 : E:\\B-Module\\TXTs\\01-07-2022.txt\n",
      "E:\\B-Module\\results\\Inverted_MeanP\\InvMnP_Tf_87_01-07-2022.txt\n",
      "623 : E:\\B-Module\\TXTs\\01-07-2022.txt\n",
      "E:\\B-Module\\results\\Inverted_MeanP\\InvMnP_Tf_88_01-07-2022.txt\n",
      "630 : E:\\B-Module\\TXTs\\01-07-2022.txt\n",
      "E:\\B-Module\\results\\Inverted_MeanP\\InvMnP_Tf_89_01-07-2022.txt\n",
      "637 : E:\\B-Module\\TXTs\\01-07-2022.txt\n",
      "E:\\B-Module\\results\\Inverted_MeanP\\InvMnP_Tf_90_01-07-2022.txt\n",
      "644 : E:\\B-Module\\TXTs\\01-07-2022.txt\n",
      "E:\\B-Module\\results\\Inverted_MeanP\\InvMnP_Tf_91_01-07-2022.txt\n",
      "651 : E:\\B-Module\\TXTs\\01-07-2022.txt\n",
      "E:\\B-Module\\results\\Inverted_MeanP\\InvMnP_Tf_92_01-07-2022.txt\n",
      "658 : E:\\B-Module\\TXTs\\01-07-2022.txt\n",
      "E:\\B-Module\\results\\Inverted_MeanP\\InvMnP_Tf_93_01-07-2022.txt\n",
      "665 : E:\\B-Module\\TXTs\\01-07-2022.txt\n",
      "E:\\B-Module\\results\\Inverted_MeanP\\InvMnP_Tf_94_01-07-2022.txt\n",
      "672 : E:\\B-Module\\TXTs\\01-07-2022.txt\n",
      "E:\\B-Module\\results\\Inverted_MeanP\\InvMnP_Tf_95_01-07-2022.txt\n",
      "679 : E:\\B-Module\\TXTs\\01-07-2022.txt\n",
      "E:\\B-Module\\results\\Inverted_MeanP\\InvMnP_Tf_96_01-07-2022.txt\n",
      "686 : E:\\B-Module\\TXTs\\01-07-2022.txt\n",
      "E:\\B-Module\\results\\Inverted_MeanP\\InvMnP_Tf_97_01-07-2022.txt\n",
      "693 : E:\\B-Module\\TXTs\\01-07-2022.txt\n",
      "E:\\B-Module\\results\\Inverted_MeanP\\InvMnP_Tf_98_01-07-2022.txt\n",
      "7 : E:\\B-Module\\TXTs\\01-09-2022.txt\n",
      "E:\\B-Module\\results\\Inverted_MeanP\\InvMnP_Tf_0_01-09-2022.txt\n",
      "14 : E:\\B-Module\\TXTs\\01-09-2022.txt\n",
      "E:\\B-Module\\results\\Inverted_MeanP\\InvMnP_Tf_1_01-09-2022.txt\n",
      "21 : E:\\B-Module\\TXTs\\01-09-2022.txt\n",
      "E:\\B-Module\\results\\Inverted_MeanP\\InvMnP_Tf_2_01-09-2022.txt\n",
      "28 : E:\\B-Module\\TXTs\\01-09-2022.txt\n",
      "E:\\B-Module\\results\\Inverted_MeanP\\InvMnP_Tf_3_01-09-2022.txt\n",
      "35 : E:\\B-Module\\TXTs\\01-09-2022.txt\n",
      "E:\\B-Module\\results\\Inverted_MeanP\\InvMnP_Tf_4_01-09-2022.txt\n",
      "42 : E:\\B-Module\\TXTs\\01-09-2022.txt\n",
      "E:\\B-Module\\results\\Inverted_MeanP\\InvMnP_Tf_5_01-09-2022.txt\n",
      "49 : E:\\B-Module\\TXTs\\01-09-2022.txt\n",
      "E:\\B-Module\\results\\Inverted_MeanP\\InvMnP_Tf_6_01-09-2022.txt\n",
      "56 : E:\\B-Module\\TXTs\\01-09-2022.txt\n",
      "E:\\B-Module\\results\\Inverted_MeanP\\InvMnP_Tf_7_01-09-2022.txt\n",
      "63 : E:\\B-Module\\TXTs\\01-09-2022.txt\n",
      "E:\\B-Module\\results\\Inverted_MeanP\\InvMnP_Tf_8_01-09-2022.txt\n",
      "70 : E:\\B-Module\\TXTs\\01-09-2022.txt\n",
      "E:\\B-Module\\results\\Inverted_MeanP\\InvMnP_Tf_9_01-09-2022.txt\n",
      "77 : E:\\B-Module\\TXTs\\01-09-2022.txt\n",
      "E:\\B-Module\\results\\Inverted_MeanP\\InvMnP_Tf_10_01-09-2022.txt\n",
      "84 : E:\\B-Module\\TXTs\\01-09-2022.txt\n",
      "E:\\B-Module\\results\\Inverted_MeanP\\InvMnP_Tf_11_01-09-2022.txt\n",
      "91 : E:\\B-Module\\TXTs\\01-09-2022.txt\n",
      "E:\\B-Module\\results\\Inverted_MeanP\\InvMnP_Tf_12_01-09-2022.txt\n",
      "98 : E:\\B-Module\\TXTs\\01-09-2022.txt\n",
      "E:\\B-Module\\results\\Inverted_MeanP\\InvMnP_Tf_13_01-09-2022.txt\n",
      "105 : E:\\B-Module\\TXTs\\01-09-2022.txt\n",
      "E:\\B-Module\\results\\Inverted_MeanP\\InvMnP_Tf_14_01-09-2022.txt\n",
      "112 : E:\\B-Module\\TXTs\\01-09-2022.txt\n",
      "E:\\B-Module\\results\\Inverted_MeanP\\InvMnP_Tf_15_01-09-2022.txt\n",
      "119 : E:\\B-Module\\TXTs\\01-09-2022.txt\n",
      "E:\\B-Module\\results\\Inverted_MeanP\\InvMnP_Tf_16_01-09-2022.txt\n",
      "126 : E:\\B-Module\\TXTs\\01-09-2022.txt\n",
      "E:\\B-Module\\results\\Inverted_MeanP\\InvMnP_Tf_17_01-09-2022.txt\n",
      "133 : E:\\B-Module\\TXTs\\01-09-2022.txt\n",
      "E:\\B-Module\\results\\Inverted_MeanP\\InvMnP_Tf_18_01-09-2022.txt\n",
      "140 : E:\\B-Module\\TXTs\\01-09-2022.txt\n",
      "E:\\B-Module\\results\\Inverted_MeanP\\InvMnP_Tf_19_01-09-2022.txt\n",
      "147 : E:\\B-Module\\TXTs\\01-09-2022.txt\n",
      "E:\\B-Module\\results\\Inverted_MeanP\\InvMnP_Tf_20_01-09-2022.txt\n",
      "154 : E:\\B-Module\\TXTs\\01-09-2022.txt\n",
      "E:\\B-Module\\results\\Inverted_MeanP\\InvMnP_Tf_21_01-09-2022.txt\n",
      "161 : E:\\B-Module\\TXTs\\01-09-2022.txt\n",
      "E:\\B-Module\\results\\Inverted_MeanP\\InvMnP_Tf_22_01-09-2022.txt\n",
      "168 : E:\\B-Module\\TXTs\\01-09-2022.txt\n",
      "E:\\B-Module\\results\\Inverted_MeanP\\InvMnP_Tf_23_01-09-2022.txt\n",
      "175 : E:\\B-Module\\TXTs\\01-09-2022.txt\n",
      "E:\\B-Module\\results\\Inverted_MeanP\\InvMnP_Tf_24_01-09-2022.txt\n",
      "182 : E:\\B-Module\\TXTs\\01-09-2022.txt\n",
      "E:\\B-Module\\results\\Inverted_MeanP\\InvMnP_Tf_25_01-09-2022.txt\n",
      "189 : E:\\B-Module\\TXTs\\01-09-2022.txt\n",
      "E:\\B-Module\\results\\Inverted_MeanP\\InvMnP_Tf_26_01-09-2022.txt\n",
      "196 : E:\\B-Module\\TXTs\\01-09-2022.txt\n",
      "E:\\B-Module\\results\\Inverted_MeanP\\InvMnP_Tf_27_01-09-2022.txt\n",
      "203 : E:\\B-Module\\TXTs\\01-09-2022.txt\n",
      "E:\\B-Module\\results\\Inverted_MeanP\\InvMnP_Tf_28_01-09-2022.txt\n",
      "210 : E:\\B-Module\\TXTs\\01-09-2022.txt\n",
      "E:\\B-Module\\results\\Inverted_MeanP\\InvMnP_Tf_29_01-09-2022.txt\n",
      "217 : E:\\B-Module\\TXTs\\01-09-2022.txt\n",
      "E:\\B-Module\\results\\Inverted_MeanP\\InvMnP_Tf_30_01-09-2022.txt\n",
      "224 : E:\\B-Module\\TXTs\\01-09-2022.txt\n",
      "E:\\B-Module\\results\\Inverted_MeanP\\InvMnP_Tf_31_01-09-2022.txt\n",
      "231 : E:\\B-Module\\TXTs\\01-09-2022.txt\n",
      "E:\\B-Module\\results\\Inverted_MeanP\\InvMnP_Tf_32_01-09-2022.txt\n",
      "238 : E:\\B-Module\\TXTs\\01-09-2022.txt\n",
      "E:\\B-Module\\results\\Inverted_MeanP\\InvMnP_Tf_33_01-09-2022.txt\n",
      "245 : E:\\B-Module\\TXTs\\01-09-2022.txt\n",
      "E:\\B-Module\\results\\Inverted_MeanP\\InvMnP_Tf_34_01-09-2022.txt\n",
      "252 : E:\\B-Module\\TXTs\\01-09-2022.txt\n",
      "E:\\B-Module\\results\\Inverted_MeanP\\InvMnP_Tf_35_01-09-2022.txt\n",
      "259 : E:\\B-Module\\TXTs\\01-09-2022.txt\n",
      "E:\\B-Module\\results\\Inverted_MeanP\\InvMnP_Tf_36_01-09-2022.txt\n",
      "266 : E:\\B-Module\\TXTs\\01-09-2022.txt\n",
      "E:\\B-Module\\results\\Inverted_MeanP\\InvMnP_Tf_37_01-09-2022.txt\n",
      "273 : E:\\B-Module\\TXTs\\01-09-2022.txt\n",
      "E:\\B-Module\\results\\Inverted_MeanP\\InvMnP_Tf_38_01-09-2022.txt\n",
      "280 : E:\\B-Module\\TXTs\\01-09-2022.txt\n",
      "E:\\B-Module\\results\\Inverted_MeanP\\InvMnP_Tf_39_01-09-2022.txt\n",
      "287 : E:\\B-Module\\TXTs\\01-09-2022.txt\n",
      "E:\\B-Module\\results\\Inverted_MeanP\\InvMnP_Tf_40_01-09-2022.txt\n",
      "294 : E:\\B-Module\\TXTs\\01-09-2022.txt\n",
      "E:\\B-Module\\results\\Inverted_MeanP\\InvMnP_Tf_41_01-09-2022.txt\n",
      "301 : E:\\B-Module\\TXTs\\01-09-2022.txt\n",
      "E:\\B-Module\\results\\Inverted_MeanP\\InvMnP_Tf_42_01-09-2022.txt\n",
      "308 : E:\\B-Module\\TXTs\\01-09-2022.txt\n",
      "E:\\B-Module\\results\\Inverted_MeanP\\InvMnP_Tf_43_01-09-2022.txt\n",
      "315 : E:\\B-Module\\TXTs\\01-09-2022.txt\n",
      "E:\\B-Module\\results\\Inverted_MeanP\\InvMnP_Tf_44_01-09-2022.txt\n",
      "322 : E:\\B-Module\\TXTs\\01-09-2022.txt\n",
      "E:\\B-Module\\results\\Inverted_MeanP\\InvMnP_Tf_45_01-09-2022.txt\n",
      "329 : E:\\B-Module\\TXTs\\01-09-2022.txt\n",
      "E:\\B-Module\\results\\Inverted_MeanP\\InvMnP_Tf_46_01-09-2022.txt\n",
      "336 : E:\\B-Module\\TXTs\\01-09-2022.txt\n",
      "E:\\B-Module\\results\\Inverted_MeanP\\InvMnP_Tf_47_01-09-2022.txt\n",
      "343 : E:\\B-Module\\TXTs\\01-09-2022.txt\n",
      "E:\\B-Module\\results\\Inverted_MeanP\\InvMnP_Tf_48_01-09-2022.txt\n",
      "350 : E:\\B-Module\\TXTs\\01-09-2022.txt\n",
      "E:\\B-Module\\results\\Inverted_MeanP\\InvMnP_Tf_49_01-09-2022.txt\n",
      "357 : E:\\B-Module\\TXTs\\01-09-2022.txt\n",
      "E:\\B-Module\\results\\Inverted_MeanP\\InvMnP_Tf_50_01-09-2022.txt\n",
      "364 : E:\\B-Module\\TXTs\\01-09-2022.txt\n",
      "E:\\B-Module\\results\\Inverted_MeanP\\InvMnP_Tf_51_01-09-2022.txt\n",
      "371 : E:\\B-Module\\TXTs\\01-09-2022.txt\n",
      "E:\\B-Module\\results\\Inverted_MeanP\\InvMnP_Tf_52_01-09-2022.txt\n",
      "378 : E:\\B-Module\\TXTs\\01-09-2022.txt\n",
      "E:\\B-Module\\results\\Inverted_MeanP\\InvMnP_Tf_53_01-09-2022.txt\n",
      "385 : E:\\B-Module\\TXTs\\01-09-2022.txt\n",
      "E:\\B-Module\\results\\Inverted_MeanP\\InvMnP_Tf_54_01-09-2022.txt\n",
      "392 : E:\\B-Module\\TXTs\\01-09-2022.txt\n",
      "E:\\B-Module\\results\\Inverted_MeanP\\InvMnP_Tf_55_01-09-2022.txt\n",
      "399 : E:\\B-Module\\TXTs\\01-09-2022.txt\n",
      "E:\\B-Module\\results\\Inverted_MeanP\\InvMnP_Tf_56_01-09-2022.txt\n",
      "406 : E:\\B-Module\\TXTs\\01-09-2022.txt\n",
      "E:\\B-Module\\results\\Inverted_MeanP\\InvMnP_Tf_57_01-09-2022.txt\n",
      "413 : E:\\B-Module\\TXTs\\01-09-2022.txt\n",
      "E:\\B-Module\\results\\Inverted_MeanP\\InvMnP_Tf_58_01-09-2022.txt\n",
      "420 : E:\\B-Module\\TXTs\\01-09-2022.txt\n",
      "E:\\B-Module\\results\\Inverted_MeanP\\InvMnP_Tf_59_01-09-2022.txt\n",
      "427 : E:\\B-Module\\TXTs\\01-09-2022.txt\n",
      "E:\\B-Module\\results\\Inverted_MeanP\\InvMnP_Tf_60_01-09-2022.txt\n",
      "434 : E:\\B-Module\\TXTs\\01-09-2022.txt\n",
      "E:\\B-Module\\results\\Inverted_MeanP\\InvMnP_Tf_61_01-09-2022.txt\n",
      "441 : E:\\B-Module\\TXTs\\01-09-2022.txt\n",
      "E:\\B-Module\\results\\Inverted_MeanP\\InvMnP_Tf_62_01-09-2022.txt\n",
      "448 : E:\\B-Module\\TXTs\\01-09-2022.txt\n",
      "E:\\B-Module\\results\\Inverted_MeanP\\InvMnP_Tf_63_01-09-2022.txt\n",
      "455 : E:\\B-Module\\TXTs\\01-09-2022.txt\n",
      "E:\\B-Module\\results\\Inverted_MeanP\\InvMnP_Tf_64_01-09-2022.txt\n",
      "462 : E:\\B-Module\\TXTs\\01-09-2022.txt\n",
      "E:\\B-Module\\results\\Inverted_MeanP\\InvMnP_Tf_65_01-09-2022.txt\n",
      "469 : E:\\B-Module\\TXTs\\01-09-2022.txt\n",
      "E:\\B-Module\\results\\Inverted_MeanP\\InvMnP_Tf_66_01-09-2022.txt\n",
      "476 : E:\\B-Module\\TXTs\\01-09-2022.txt\n",
      "E:\\B-Module\\results\\Inverted_MeanP\\InvMnP_Tf_67_01-09-2022.txt\n",
      "483 : E:\\B-Module\\TXTs\\01-09-2022.txt\n",
      "E:\\B-Module\\results\\Inverted_MeanP\\InvMnP_Tf_68_01-09-2022.txt\n",
      "490 : E:\\B-Module\\TXTs\\01-09-2022.txt\n",
      "E:\\B-Module\\results\\Inverted_MeanP\\InvMnP_Tf_69_01-09-2022.txt\n",
      "497 : E:\\B-Module\\TXTs\\01-09-2022.txt\n",
      "E:\\B-Module\\results\\Inverted_MeanP\\InvMnP_Tf_70_01-09-2022.txt\n",
      "504 : E:\\B-Module\\TXTs\\01-09-2022.txt\n",
      "E:\\B-Module\\results\\Inverted_MeanP\\InvMnP_Tf_71_01-09-2022.txt\n",
      "511 : E:\\B-Module\\TXTs\\01-09-2022.txt\n",
      "E:\\B-Module\\results\\Inverted_MeanP\\InvMnP_Tf_72_01-09-2022.txt\n",
      "518 : E:\\B-Module\\TXTs\\01-09-2022.txt\n",
      "E:\\B-Module\\results\\Inverted_MeanP\\InvMnP_Tf_73_01-09-2022.txt\n",
      "525 : E:\\B-Module\\TXTs\\01-09-2022.txt\n",
      "E:\\B-Module\\results\\Inverted_MeanP\\InvMnP_Tf_74_01-09-2022.txt\n",
      "532 : E:\\B-Module\\TXTs\\01-09-2022.txt\n",
      "E:\\B-Module\\results\\Inverted_MeanP\\InvMnP_Tf_75_01-09-2022.txt\n",
      "539 : E:\\B-Module\\TXTs\\01-09-2022.txt\n",
      "E:\\B-Module\\results\\Inverted_MeanP\\InvMnP_Tf_76_01-09-2022.txt\n",
      "546 : E:\\B-Module\\TXTs\\01-09-2022.txt\n",
      "E:\\B-Module\\results\\Inverted_MeanP\\InvMnP_Tf_77_01-09-2022.txt\n",
      "553 : E:\\B-Module\\TXTs\\01-09-2022.txt\n",
      "E:\\B-Module\\results\\Inverted_MeanP\\InvMnP_Tf_78_01-09-2022.txt\n",
      "560 : E:\\B-Module\\TXTs\\01-09-2022.txt\n",
      "E:\\B-Module\\results\\Inverted_MeanP\\InvMnP_Tf_79_01-09-2022.txt\n",
      "567 : E:\\B-Module\\TXTs\\01-09-2022.txt\n",
      "E:\\B-Module\\results\\Inverted_MeanP\\InvMnP_Tf_80_01-09-2022.txt\n",
      "574 : E:\\B-Module\\TXTs\\01-09-2022.txt\n",
      "E:\\B-Module\\results\\Inverted_MeanP\\InvMnP_Tf_81_01-09-2022.txt\n",
      "581 : E:\\B-Module\\TXTs\\01-09-2022.txt\n",
      "E:\\B-Module\\results\\Inverted_MeanP\\InvMnP_Tf_82_01-09-2022.txt\n",
      "588 : E:\\B-Module\\TXTs\\01-09-2022.txt\n",
      "E:\\B-Module\\results\\Inverted_MeanP\\InvMnP_Tf_83_01-09-2022.txt\n",
      "595 : E:\\B-Module\\TXTs\\01-09-2022.txt\n",
      "E:\\B-Module\\results\\Inverted_MeanP\\InvMnP_Tf_84_01-09-2022.txt\n",
      "602 : E:\\B-Module\\TXTs\\01-09-2022.txt\n",
      "E:\\B-Module\\results\\Inverted_MeanP\\InvMnP_Tf_85_01-09-2022.txt\n",
      "609 : E:\\B-Module\\TXTs\\01-09-2022.txt\n",
      "E:\\B-Module\\results\\Inverted_MeanP\\InvMnP_Tf_86_01-09-2022.txt\n",
      "616 : E:\\B-Module\\TXTs\\01-09-2022.txt\n",
      "E:\\B-Module\\results\\Inverted_MeanP\\InvMnP_Tf_87_01-09-2022.txt\n",
      "623 : E:\\B-Module\\TXTs\\01-09-2022.txt\n",
      "E:\\B-Module\\results\\Inverted_MeanP\\InvMnP_Tf_88_01-09-2022.txt\n",
      "630 : E:\\B-Module\\TXTs\\01-09-2022.txt\n",
      "E:\\B-Module\\results\\Inverted_MeanP\\InvMnP_Tf_89_01-09-2022.txt\n",
      "637 : E:\\B-Module\\TXTs\\01-09-2022.txt\n",
      "E:\\B-Module\\results\\Inverted_MeanP\\InvMnP_Tf_90_01-09-2022.txt\n",
      "644 : E:\\B-Module\\TXTs\\01-09-2022.txt\n",
      "E:\\B-Module\\results\\Inverted_MeanP\\InvMnP_Tf_91_01-09-2022.txt\n",
      "651 : E:\\B-Module\\TXTs\\01-09-2022.txt\n",
      "E:\\B-Module\\results\\Inverted_MeanP\\InvMnP_Tf_92_01-09-2022.txt\n",
      "658 : E:\\B-Module\\TXTs\\01-09-2022.txt\n",
      "E:\\B-Module\\results\\Inverted_MeanP\\InvMnP_Tf_93_01-09-2022.txt\n",
      "665 : E:\\B-Module\\TXTs\\01-09-2022.txt\n",
      "E:\\B-Module\\results\\Inverted_MeanP\\InvMnP_Tf_94_01-09-2022.txt\n",
      "672 : E:\\B-Module\\TXTs\\01-09-2022.txt\n",
      "E:\\B-Module\\results\\Inverted_MeanP\\InvMnP_Tf_95_01-09-2022.txt\n",
      "679 : E:\\B-Module\\TXTs\\01-09-2022.txt\n",
      "E:\\B-Module\\results\\Inverted_MeanP\\InvMnP_Tf_96_01-09-2022.txt\n",
      "686 : E:\\B-Module\\TXTs\\01-09-2022.txt\n",
      "E:\\B-Module\\results\\Inverted_MeanP\\InvMnP_Tf_97_01-09-2022.txt\n",
      "693 : E:\\B-Module\\TXTs\\01-09-2022.txt\n",
      "E:\\B-Module\\results\\Inverted_MeanP\\InvMnP_Tf_98_01-09-2022.txt\n",
      "7 : E:\\B-Module\\TXTs\\02-01-2023.txt\n",
      "E:\\B-Module\\results\\Inverted_MeanP\\InvMnP_Tf_0_02-01-2023.txt\n",
      "14 : E:\\B-Module\\TXTs\\02-01-2023.txt\n",
      "E:\\B-Module\\results\\Inverted_MeanP\\InvMnP_Tf_1_02-01-2023.txt\n",
      "21 : E:\\B-Module\\TXTs\\02-01-2023.txt\n",
      "E:\\B-Module\\results\\Inverted_MeanP\\InvMnP_Tf_2_02-01-2023.txt\n",
      "28 : E:\\B-Module\\TXTs\\02-01-2023.txt\n",
      "E:\\B-Module\\results\\Inverted_MeanP\\InvMnP_Tf_3_02-01-2023.txt\n",
      "35 : E:\\B-Module\\TXTs\\02-01-2023.txt\n",
      "E:\\B-Module\\results\\Inverted_MeanP\\InvMnP_Tf_4_02-01-2023.txt\n",
      "42 : E:\\B-Module\\TXTs\\02-01-2023.txt\n",
      "E:\\B-Module\\results\\Inverted_MeanP\\InvMnP_Tf_5_02-01-2023.txt\n",
      "49 : E:\\B-Module\\TXTs\\02-01-2023.txt\n",
      "E:\\B-Module\\results\\Inverted_MeanP\\InvMnP_Tf_6_02-01-2023.txt\n",
      "56 : E:\\B-Module\\TXTs\\02-01-2023.txt\n",
      "E:\\B-Module\\results\\Inverted_MeanP\\InvMnP_Tf_7_02-01-2023.txt\n",
      "63 : E:\\B-Module\\TXTs\\02-01-2023.txt\n",
      "E:\\B-Module\\results\\Inverted_MeanP\\InvMnP_Tf_8_02-01-2023.txt\n",
      "70 : E:\\B-Module\\TXTs\\02-01-2023.txt\n",
      "E:\\B-Module\\results\\Inverted_MeanP\\InvMnP_Tf_9_02-01-2023.txt\n",
      "77 : E:\\B-Module\\TXTs\\02-01-2023.txt\n",
      "E:\\B-Module\\results\\Inverted_MeanP\\InvMnP_Tf_10_02-01-2023.txt\n",
      "84 : E:\\B-Module\\TXTs\\02-01-2023.txt\n",
      "E:\\B-Module\\results\\Inverted_MeanP\\InvMnP_Tf_11_02-01-2023.txt\n",
      "91 : E:\\B-Module\\TXTs\\02-01-2023.txt\n",
      "E:\\B-Module\\results\\Inverted_MeanP\\InvMnP_Tf_12_02-01-2023.txt\n",
      "98 : E:\\B-Module\\TXTs\\02-01-2023.txt\n",
      "E:\\B-Module\\results\\Inverted_MeanP\\InvMnP_Tf_13_02-01-2023.txt\n",
      "105 : E:\\B-Module\\TXTs\\02-01-2023.txt\n",
      "E:\\B-Module\\results\\Inverted_MeanP\\InvMnP_Tf_14_02-01-2023.txt\n",
      "112 : E:\\B-Module\\TXTs\\02-01-2023.txt\n",
      "E:\\B-Module\\results\\Inverted_MeanP\\InvMnP_Tf_15_02-01-2023.txt\n",
      "119 : E:\\B-Module\\TXTs\\02-01-2023.txt\n",
      "E:\\B-Module\\results\\Inverted_MeanP\\InvMnP_Tf_16_02-01-2023.txt\n",
      "126 : E:\\B-Module\\TXTs\\02-01-2023.txt\n",
      "E:\\B-Module\\results\\Inverted_MeanP\\InvMnP_Tf_17_02-01-2023.txt\n",
      "133 : E:\\B-Module\\TXTs\\02-01-2023.txt\n",
      "E:\\B-Module\\results\\Inverted_MeanP\\InvMnP_Tf_18_02-01-2023.txt\n",
      "140 : E:\\B-Module\\TXTs\\02-01-2023.txt\n",
      "E:\\B-Module\\results\\Inverted_MeanP\\InvMnP_Tf_19_02-01-2023.txt\n",
      "147 : E:\\B-Module\\TXTs\\02-01-2023.txt\n",
      "E:\\B-Module\\results\\Inverted_MeanP\\InvMnP_Tf_20_02-01-2023.txt\n",
      "154 : E:\\B-Module\\TXTs\\02-01-2023.txt\n",
      "E:\\B-Module\\results\\Inverted_MeanP\\InvMnP_Tf_21_02-01-2023.txt\n",
      "161 : E:\\B-Module\\TXTs\\02-01-2023.txt\n",
      "E:\\B-Module\\results\\Inverted_MeanP\\InvMnP_Tf_22_02-01-2023.txt\n",
      "168 : E:\\B-Module\\TXTs\\02-01-2023.txt\n",
      "E:\\B-Module\\results\\Inverted_MeanP\\InvMnP_Tf_23_02-01-2023.txt\n",
      "175 : E:\\B-Module\\TXTs\\02-01-2023.txt\n",
      "E:\\B-Module\\results\\Inverted_MeanP\\InvMnP_Tf_24_02-01-2023.txt\n",
      "182 : E:\\B-Module\\TXTs\\02-01-2023.txt\n",
      "E:\\B-Module\\results\\Inverted_MeanP\\InvMnP_Tf_25_02-01-2023.txt\n",
      "189 : E:\\B-Module\\TXTs\\02-01-2023.txt\n",
      "E:\\B-Module\\results\\Inverted_MeanP\\InvMnP_Tf_26_02-01-2023.txt\n",
      "196 : E:\\B-Module\\TXTs\\02-01-2023.txt\n",
      "E:\\B-Module\\results\\Inverted_MeanP\\InvMnP_Tf_27_02-01-2023.txt\n",
      "203 : E:\\B-Module\\TXTs\\02-01-2023.txt\n",
      "E:\\B-Module\\results\\Inverted_MeanP\\InvMnP_Tf_28_02-01-2023.txt\n",
      "210 : E:\\B-Module\\TXTs\\02-01-2023.txt\n",
      "E:\\B-Module\\results\\Inverted_MeanP\\InvMnP_Tf_29_02-01-2023.txt\n",
      "217 : E:\\B-Module\\TXTs\\02-01-2023.txt\n",
      "E:\\B-Module\\results\\Inverted_MeanP\\InvMnP_Tf_30_02-01-2023.txt\n",
      "224 : E:\\B-Module\\TXTs\\02-01-2023.txt\n",
      "E:\\B-Module\\results\\Inverted_MeanP\\InvMnP_Tf_31_02-01-2023.txt\n",
      "231 : E:\\B-Module\\TXTs\\02-01-2023.txt\n",
      "E:\\B-Module\\results\\Inverted_MeanP\\InvMnP_Tf_32_02-01-2023.txt\n",
      "238 : E:\\B-Module\\TXTs\\02-01-2023.txt\n",
      "E:\\B-Module\\results\\Inverted_MeanP\\InvMnP_Tf_33_02-01-2023.txt\n",
      "245 : E:\\B-Module\\TXTs\\02-01-2023.txt\n",
      "E:\\B-Module\\results\\Inverted_MeanP\\InvMnP_Tf_34_02-01-2023.txt\n",
      "252 : E:\\B-Module\\TXTs\\02-01-2023.txt\n",
      "E:\\B-Module\\results\\Inverted_MeanP\\InvMnP_Tf_35_02-01-2023.txt\n",
      "259 : E:\\B-Module\\TXTs\\02-01-2023.txt\n",
      "E:\\B-Module\\results\\Inverted_MeanP\\InvMnP_Tf_36_02-01-2023.txt\n",
      "266 : E:\\B-Module\\TXTs\\02-01-2023.txt\n",
      "E:\\B-Module\\results\\Inverted_MeanP\\InvMnP_Tf_37_02-01-2023.txt\n",
      "273 : E:\\B-Module\\TXTs\\02-01-2023.txt\n",
      "E:\\B-Module\\results\\Inverted_MeanP\\InvMnP_Tf_38_02-01-2023.txt\n",
      "280 : E:\\B-Module\\TXTs\\02-01-2023.txt\n",
      "E:\\B-Module\\results\\Inverted_MeanP\\InvMnP_Tf_39_02-01-2023.txt\n",
      "287 : E:\\B-Module\\TXTs\\02-01-2023.txt\n",
      "E:\\B-Module\\results\\Inverted_MeanP\\InvMnP_Tf_40_02-01-2023.txt\n",
      "294 : E:\\B-Module\\TXTs\\02-01-2023.txt\n",
      "E:\\B-Module\\results\\Inverted_MeanP\\InvMnP_Tf_41_02-01-2023.txt\n",
      "301 : E:\\B-Module\\TXTs\\02-01-2023.txt\n",
      "E:\\B-Module\\results\\Inverted_MeanP\\InvMnP_Tf_42_02-01-2023.txt\n",
      "308 : E:\\B-Module\\TXTs\\02-01-2023.txt\n",
      "E:\\B-Module\\results\\Inverted_MeanP\\InvMnP_Tf_43_02-01-2023.txt\n",
      "315 : E:\\B-Module\\TXTs\\02-01-2023.txt\n",
      "E:\\B-Module\\results\\Inverted_MeanP\\InvMnP_Tf_44_02-01-2023.txt\n",
      "322 : E:\\B-Module\\TXTs\\02-01-2023.txt\n",
      "E:\\B-Module\\results\\Inverted_MeanP\\InvMnP_Tf_45_02-01-2023.txt\n",
      "329 : E:\\B-Module\\TXTs\\02-01-2023.txt\n",
      "E:\\B-Module\\results\\Inverted_MeanP\\InvMnP_Tf_46_02-01-2023.txt\n",
      "336 : E:\\B-Module\\TXTs\\02-01-2023.txt\n",
      "E:\\B-Module\\results\\Inverted_MeanP\\InvMnP_Tf_47_02-01-2023.txt\n",
      "343 : E:\\B-Module\\TXTs\\02-01-2023.txt\n",
      "E:\\B-Module\\results\\Inverted_MeanP\\InvMnP_Tf_48_02-01-2023.txt\n",
      "350 : E:\\B-Module\\TXTs\\02-01-2023.txt\n",
      "E:\\B-Module\\results\\Inverted_MeanP\\InvMnP_Tf_49_02-01-2023.txt\n",
      "357 : E:\\B-Module\\TXTs\\02-01-2023.txt\n",
      "E:\\B-Module\\results\\Inverted_MeanP\\InvMnP_Tf_50_02-01-2023.txt\n",
      "364 : E:\\B-Module\\TXTs\\02-01-2023.txt\n",
      "E:\\B-Module\\results\\Inverted_MeanP\\InvMnP_Tf_51_02-01-2023.txt\n",
      "371 : E:\\B-Module\\TXTs\\02-01-2023.txt\n",
      "E:\\B-Module\\results\\Inverted_MeanP\\InvMnP_Tf_52_02-01-2023.txt\n",
      "378 : E:\\B-Module\\TXTs\\02-01-2023.txt\n",
      "E:\\B-Module\\results\\Inverted_MeanP\\InvMnP_Tf_53_02-01-2023.txt\n",
      "385 : E:\\B-Module\\TXTs\\02-01-2023.txt\n",
      "E:\\B-Module\\results\\Inverted_MeanP\\InvMnP_Tf_54_02-01-2023.txt\n",
      "392 : E:\\B-Module\\TXTs\\02-01-2023.txt\n",
      "E:\\B-Module\\results\\Inverted_MeanP\\InvMnP_Tf_55_02-01-2023.txt\n",
      "399 : E:\\B-Module\\TXTs\\02-01-2023.txt\n",
      "E:\\B-Module\\results\\Inverted_MeanP\\InvMnP_Tf_56_02-01-2023.txt\n",
      "406 : E:\\B-Module\\TXTs\\02-01-2023.txt\n",
      "E:\\B-Module\\results\\Inverted_MeanP\\InvMnP_Tf_57_02-01-2023.txt\n",
      "413 : E:\\B-Module\\TXTs\\02-01-2023.txt\n",
      "E:\\B-Module\\results\\Inverted_MeanP\\InvMnP_Tf_58_02-01-2023.txt\n",
      "420 : E:\\B-Module\\TXTs\\02-01-2023.txt\n",
      "E:\\B-Module\\results\\Inverted_MeanP\\InvMnP_Tf_59_02-01-2023.txt\n",
      "427 : E:\\B-Module\\TXTs\\02-01-2023.txt\n",
      "E:\\B-Module\\results\\Inverted_MeanP\\InvMnP_Tf_60_02-01-2023.txt\n",
      "434 : E:\\B-Module\\TXTs\\02-01-2023.txt\n",
      "E:\\B-Module\\results\\Inverted_MeanP\\InvMnP_Tf_61_02-01-2023.txt\n",
      "441 : E:\\B-Module\\TXTs\\02-01-2023.txt\n",
      "E:\\B-Module\\results\\Inverted_MeanP\\InvMnP_Tf_62_02-01-2023.txt\n",
      "448 : E:\\B-Module\\TXTs\\02-01-2023.txt\n",
      "E:\\B-Module\\results\\Inverted_MeanP\\InvMnP_Tf_63_02-01-2023.txt\n",
      "455 : E:\\B-Module\\TXTs\\02-01-2023.txt\n",
      "E:\\B-Module\\results\\Inverted_MeanP\\InvMnP_Tf_64_02-01-2023.txt\n",
      "462 : E:\\B-Module\\TXTs\\02-01-2023.txt\n",
      "E:\\B-Module\\results\\Inverted_MeanP\\InvMnP_Tf_65_02-01-2023.txt\n",
      "469 : E:\\B-Module\\TXTs\\02-01-2023.txt\n",
      "E:\\B-Module\\results\\Inverted_MeanP\\InvMnP_Tf_66_02-01-2023.txt\n",
      "476 : E:\\B-Module\\TXTs\\02-01-2023.txt\n",
      "E:\\B-Module\\results\\Inverted_MeanP\\InvMnP_Tf_67_02-01-2023.txt\n",
      "483 : E:\\B-Module\\TXTs\\02-01-2023.txt\n",
      "E:\\B-Module\\results\\Inverted_MeanP\\InvMnP_Tf_68_02-01-2023.txt\n",
      "490 : E:\\B-Module\\TXTs\\02-01-2023.txt\n",
      "E:\\B-Module\\results\\Inverted_MeanP\\InvMnP_Tf_69_02-01-2023.txt\n",
      "497 : E:\\B-Module\\TXTs\\02-01-2023.txt\n",
      "E:\\B-Module\\results\\Inverted_MeanP\\InvMnP_Tf_70_02-01-2023.txt\n",
      "504 : E:\\B-Module\\TXTs\\02-01-2023.txt\n",
      "E:\\B-Module\\results\\Inverted_MeanP\\InvMnP_Tf_71_02-01-2023.txt\n",
      "511 : E:\\B-Module\\TXTs\\02-01-2023.txt\n",
      "E:\\B-Module\\results\\Inverted_MeanP\\InvMnP_Tf_72_02-01-2023.txt\n",
      "518 : E:\\B-Module\\TXTs\\02-01-2023.txt\n",
      "E:\\B-Module\\results\\Inverted_MeanP\\InvMnP_Tf_73_02-01-2023.txt\n",
      "525 : E:\\B-Module\\TXTs\\02-01-2023.txt\n",
      "E:\\B-Module\\results\\Inverted_MeanP\\InvMnP_Tf_74_02-01-2023.txt\n",
      "532 : E:\\B-Module\\TXTs\\02-01-2023.txt\n",
      "E:\\B-Module\\results\\Inverted_MeanP\\InvMnP_Tf_75_02-01-2023.txt\n",
      "539 : E:\\B-Module\\TXTs\\02-01-2023.txt\n",
      "E:\\B-Module\\results\\Inverted_MeanP\\InvMnP_Tf_76_02-01-2023.txt\n",
      "546 : E:\\B-Module\\TXTs\\02-01-2023.txt\n",
      "E:\\B-Module\\results\\Inverted_MeanP\\InvMnP_Tf_77_02-01-2023.txt\n",
      "553 : E:\\B-Module\\TXTs\\02-01-2023.txt\n",
      "E:\\B-Module\\results\\Inverted_MeanP\\InvMnP_Tf_78_02-01-2023.txt\n",
      "560 : E:\\B-Module\\TXTs\\02-01-2023.txt\n",
      "E:\\B-Module\\results\\Inverted_MeanP\\InvMnP_Tf_79_02-01-2023.txt\n",
      "567 : E:\\B-Module\\TXTs\\02-01-2023.txt\n",
      "E:\\B-Module\\results\\Inverted_MeanP\\InvMnP_Tf_80_02-01-2023.txt\n",
      "574 : E:\\B-Module\\TXTs\\02-01-2023.txt\n",
      "E:\\B-Module\\results\\Inverted_MeanP\\InvMnP_Tf_81_02-01-2023.txt\n",
      "581 : E:\\B-Module\\TXTs\\02-01-2023.txt\n",
      "E:\\B-Module\\results\\Inverted_MeanP\\InvMnP_Tf_82_02-01-2023.txt\n",
      "588 : E:\\B-Module\\TXTs\\02-01-2023.txt\n",
      "E:\\B-Module\\results\\Inverted_MeanP\\InvMnP_Tf_83_02-01-2023.txt\n",
      "595 : E:\\B-Module\\TXTs\\02-01-2023.txt\n",
      "E:\\B-Module\\results\\Inverted_MeanP\\InvMnP_Tf_84_02-01-2023.txt\n",
      "602 : E:\\B-Module\\TXTs\\02-01-2023.txt\n",
      "E:\\B-Module\\results\\Inverted_MeanP\\InvMnP_Tf_85_02-01-2023.txt\n",
      "609 : E:\\B-Module\\TXTs\\02-01-2023.txt\n",
      "E:\\B-Module\\results\\Inverted_MeanP\\InvMnP_Tf_86_02-01-2023.txt\n",
      "616 : E:\\B-Module\\TXTs\\02-01-2023.txt\n",
      "E:\\B-Module\\results\\Inverted_MeanP\\InvMnP_Tf_87_02-01-2023.txt\n",
      "623 : E:\\B-Module\\TXTs\\02-01-2023.txt\n",
      "E:\\B-Module\\results\\Inverted_MeanP\\InvMnP_Tf_88_02-01-2023.txt\n",
      "630 : E:\\B-Module\\TXTs\\02-01-2023.txt\n",
      "E:\\B-Module\\results\\Inverted_MeanP\\InvMnP_Tf_89_02-01-2023.txt\n",
      "637 : E:\\B-Module\\TXTs\\02-01-2023.txt\n",
      "E:\\B-Module\\results\\Inverted_MeanP\\InvMnP_Tf_90_02-01-2023.txt\n",
      "644 : E:\\B-Module\\TXTs\\02-01-2023.txt\n",
      "E:\\B-Module\\results\\Inverted_MeanP\\InvMnP_Tf_91_02-01-2023.txt\n",
      "651 : E:\\B-Module\\TXTs\\02-01-2023.txt\n",
      "E:\\B-Module\\results\\Inverted_MeanP\\InvMnP_Tf_92_02-01-2023.txt\n",
      "658 : E:\\B-Module\\TXTs\\02-01-2023.txt\n",
      "E:\\B-Module\\results\\Inverted_MeanP\\InvMnP_Tf_93_02-01-2023.txt\n",
      "665 : E:\\B-Module\\TXTs\\02-01-2023.txt\n",
      "E:\\B-Module\\results\\Inverted_MeanP\\InvMnP_Tf_94_02-01-2023.txt\n",
      "672 : E:\\B-Module\\TXTs\\02-01-2023.txt\n",
      "E:\\B-Module\\results\\Inverted_MeanP\\InvMnP_Tf_95_02-01-2023.txt\n",
      "679 : E:\\B-Module\\TXTs\\02-01-2023.txt\n",
      "E:\\B-Module\\results\\Inverted_MeanP\\InvMnP_Tf_96_02-01-2023.txt\n",
      "686 : E:\\B-Module\\TXTs\\02-01-2023.txt\n",
      "E:\\B-Module\\results\\Inverted_MeanP\\InvMnP_Tf_97_02-01-2023.txt\n",
      "693 : E:\\B-Module\\TXTs\\02-01-2023.txt\n",
      "E:\\B-Module\\results\\Inverted_MeanP\\InvMnP_Tf_98_02-01-2023.txt\n",
      "7 : E:\\B-Module\\TXTs\\02-02-2023.txt\n",
      "E:\\B-Module\\results\\Inverted_MeanP\\InvMnP_Tf_0_02-02-2023.txt\n",
      "14 : E:\\B-Module\\TXTs\\02-02-2023.txt\n",
      "E:\\B-Module\\results\\Inverted_MeanP\\InvMnP_Tf_1_02-02-2023.txt\n",
      "21 : E:\\B-Module\\TXTs\\02-02-2023.txt\n",
      "E:\\B-Module\\results\\Inverted_MeanP\\InvMnP_Tf_2_02-02-2023.txt\n",
      "28 : E:\\B-Module\\TXTs\\02-02-2023.txt\n",
      "E:\\B-Module\\results\\Inverted_MeanP\\InvMnP_Tf_3_02-02-2023.txt\n",
      "35 : E:\\B-Module\\TXTs\\02-02-2023.txt\n",
      "E:\\B-Module\\results\\Inverted_MeanP\\InvMnP_Tf_4_02-02-2023.txt\n",
      "42 : E:\\B-Module\\TXTs\\02-02-2023.txt\n",
      "E:\\B-Module\\results\\Inverted_MeanP\\InvMnP_Tf_5_02-02-2023.txt\n",
      "49 : E:\\B-Module\\TXTs\\02-02-2023.txt\n",
      "E:\\B-Module\\results\\Inverted_MeanP\\InvMnP_Tf_6_02-02-2023.txt\n",
      "56 : E:\\B-Module\\TXTs\\02-02-2023.txt\n",
      "E:\\B-Module\\results\\Inverted_MeanP\\InvMnP_Tf_7_02-02-2023.txt\n",
      "63 : E:\\B-Module\\TXTs\\02-02-2023.txt\n",
      "E:\\B-Module\\results\\Inverted_MeanP\\InvMnP_Tf_8_02-02-2023.txt\n",
      "70 : E:\\B-Module\\TXTs\\02-02-2023.txt\n",
      "E:\\B-Module\\results\\Inverted_MeanP\\InvMnP_Tf_9_02-02-2023.txt\n",
      "77 : E:\\B-Module\\TXTs\\02-02-2023.txt\n",
      "E:\\B-Module\\results\\Inverted_MeanP\\InvMnP_Tf_10_02-02-2023.txt\n",
      "84 : E:\\B-Module\\TXTs\\02-02-2023.txt\n",
      "E:\\B-Module\\results\\Inverted_MeanP\\InvMnP_Tf_11_02-02-2023.txt\n",
      "91 : E:\\B-Module\\TXTs\\02-02-2023.txt\n",
      "E:\\B-Module\\results\\Inverted_MeanP\\InvMnP_Tf_12_02-02-2023.txt\n",
      "98 : E:\\B-Module\\TXTs\\02-02-2023.txt\n",
      "E:\\B-Module\\results\\Inverted_MeanP\\InvMnP_Tf_13_02-02-2023.txt\n",
      "105 : E:\\B-Module\\TXTs\\02-02-2023.txt\n",
      "E:\\B-Module\\results\\Inverted_MeanP\\InvMnP_Tf_14_02-02-2023.txt\n",
      "112 : E:\\B-Module\\TXTs\\02-02-2023.txt\n",
      "E:\\B-Module\\results\\Inverted_MeanP\\InvMnP_Tf_15_02-02-2023.txt\n",
      "119 : E:\\B-Module\\TXTs\\02-02-2023.txt\n",
      "E:\\B-Module\\results\\Inverted_MeanP\\InvMnP_Tf_16_02-02-2023.txt\n",
      "126 : E:\\B-Module\\TXTs\\02-02-2023.txt\n",
      "E:\\B-Module\\results\\Inverted_MeanP\\InvMnP_Tf_17_02-02-2023.txt\n",
      "133 : E:\\B-Module\\TXTs\\02-02-2023.txt\n",
      "E:\\B-Module\\results\\Inverted_MeanP\\InvMnP_Tf_18_02-02-2023.txt\n",
      "140 : E:\\B-Module\\TXTs\\02-02-2023.txt\n",
      "E:\\B-Module\\results\\Inverted_MeanP\\InvMnP_Tf_19_02-02-2023.txt\n",
      "147 : E:\\B-Module\\TXTs\\02-02-2023.txt\n",
      "E:\\B-Module\\results\\Inverted_MeanP\\InvMnP_Tf_20_02-02-2023.txt\n",
      "154 : E:\\B-Module\\TXTs\\02-02-2023.txt\n",
      "E:\\B-Module\\results\\Inverted_MeanP\\InvMnP_Tf_21_02-02-2023.txt\n",
      "161 : E:\\B-Module\\TXTs\\02-02-2023.txt\n",
      "E:\\B-Module\\results\\Inverted_MeanP\\InvMnP_Tf_22_02-02-2023.txt\n",
      "168 : E:\\B-Module\\TXTs\\02-02-2023.txt\n",
      "E:\\B-Module\\results\\Inverted_MeanP\\InvMnP_Tf_23_02-02-2023.txt\n",
      "175 : E:\\B-Module\\TXTs\\02-02-2023.txt\n",
      "E:\\B-Module\\results\\Inverted_MeanP\\InvMnP_Tf_24_02-02-2023.txt\n",
      "182 : E:\\B-Module\\TXTs\\02-02-2023.txt\n",
      "E:\\B-Module\\results\\Inverted_MeanP\\InvMnP_Tf_25_02-02-2023.txt\n",
      "189 : E:\\B-Module\\TXTs\\02-02-2023.txt\n",
      "E:\\B-Module\\results\\Inverted_MeanP\\InvMnP_Tf_26_02-02-2023.txt\n",
      "196 : E:\\B-Module\\TXTs\\02-02-2023.txt\n",
      "E:\\B-Module\\results\\Inverted_MeanP\\InvMnP_Tf_27_02-02-2023.txt\n",
      "203 : E:\\B-Module\\TXTs\\02-02-2023.txt\n",
      "E:\\B-Module\\results\\Inverted_MeanP\\InvMnP_Tf_28_02-02-2023.txt\n",
      "210 : E:\\B-Module\\TXTs\\02-02-2023.txt\n",
      "E:\\B-Module\\results\\Inverted_MeanP\\InvMnP_Tf_29_02-02-2023.txt\n",
      "217 : E:\\B-Module\\TXTs\\02-02-2023.txt\n",
      "E:\\B-Module\\results\\Inverted_MeanP\\InvMnP_Tf_30_02-02-2023.txt\n",
      "224 : E:\\B-Module\\TXTs\\02-02-2023.txt\n",
      "E:\\B-Module\\results\\Inverted_MeanP\\InvMnP_Tf_31_02-02-2023.txt\n",
      "231 : E:\\B-Module\\TXTs\\02-02-2023.txt\n",
      "E:\\B-Module\\results\\Inverted_MeanP\\InvMnP_Tf_32_02-02-2023.txt\n",
      "238 : E:\\B-Module\\TXTs\\02-02-2023.txt\n",
      "E:\\B-Module\\results\\Inverted_MeanP\\InvMnP_Tf_33_02-02-2023.txt\n",
      "245 : E:\\B-Module\\TXTs\\02-02-2023.txt\n",
      "E:\\B-Module\\results\\Inverted_MeanP\\InvMnP_Tf_34_02-02-2023.txt\n",
      "252 : E:\\B-Module\\TXTs\\02-02-2023.txt\n",
      "E:\\B-Module\\results\\Inverted_MeanP\\InvMnP_Tf_35_02-02-2023.txt\n",
      "259 : E:\\B-Module\\TXTs\\02-02-2023.txt\n",
      "E:\\B-Module\\results\\Inverted_MeanP\\InvMnP_Tf_36_02-02-2023.txt\n",
      "266 : E:\\B-Module\\TXTs\\02-02-2023.txt\n",
      "E:\\B-Module\\results\\Inverted_MeanP\\InvMnP_Tf_37_02-02-2023.txt\n",
      "273 : E:\\B-Module\\TXTs\\02-02-2023.txt\n",
      "E:\\B-Module\\results\\Inverted_MeanP\\InvMnP_Tf_38_02-02-2023.txt\n",
      "280 : E:\\B-Module\\TXTs\\02-02-2023.txt\n",
      "E:\\B-Module\\results\\Inverted_MeanP\\InvMnP_Tf_39_02-02-2023.txt\n",
      "287 : E:\\B-Module\\TXTs\\02-02-2023.txt\n",
      "E:\\B-Module\\results\\Inverted_MeanP\\InvMnP_Tf_40_02-02-2023.txt\n",
      "294 : E:\\B-Module\\TXTs\\02-02-2023.txt\n",
      "E:\\B-Module\\results\\Inverted_MeanP\\InvMnP_Tf_41_02-02-2023.txt\n",
      "301 : E:\\B-Module\\TXTs\\02-02-2023.txt\n",
      "E:\\B-Module\\results\\Inverted_MeanP\\InvMnP_Tf_42_02-02-2023.txt\n",
      "308 : E:\\B-Module\\TXTs\\02-02-2023.txt\n",
      "E:\\B-Module\\results\\Inverted_MeanP\\InvMnP_Tf_43_02-02-2023.txt\n",
      "315 : E:\\B-Module\\TXTs\\02-02-2023.txt\n",
      "E:\\B-Module\\results\\Inverted_MeanP\\InvMnP_Tf_44_02-02-2023.txt\n",
      "322 : E:\\B-Module\\TXTs\\02-02-2023.txt\n",
      "E:\\B-Module\\results\\Inverted_MeanP\\InvMnP_Tf_45_02-02-2023.txt\n",
      "329 : E:\\B-Module\\TXTs\\02-02-2023.txt\n",
      "E:\\B-Module\\results\\Inverted_MeanP\\InvMnP_Tf_46_02-02-2023.txt\n",
      "336 : E:\\B-Module\\TXTs\\02-02-2023.txt\n",
      "E:\\B-Module\\results\\Inverted_MeanP\\InvMnP_Tf_47_02-02-2023.txt\n",
      "343 : E:\\B-Module\\TXTs\\02-02-2023.txt\n",
      "E:\\B-Module\\results\\Inverted_MeanP\\InvMnP_Tf_48_02-02-2023.txt\n",
      "350 : E:\\B-Module\\TXTs\\02-02-2023.txt\n",
      "E:\\B-Module\\results\\Inverted_MeanP\\InvMnP_Tf_49_02-02-2023.txt\n",
      "357 : E:\\B-Module\\TXTs\\02-02-2023.txt\n",
      "E:\\B-Module\\results\\Inverted_MeanP\\InvMnP_Tf_50_02-02-2023.txt\n",
      "364 : E:\\B-Module\\TXTs\\02-02-2023.txt\n",
      "E:\\B-Module\\results\\Inverted_MeanP\\InvMnP_Tf_51_02-02-2023.txt\n",
      "371 : E:\\B-Module\\TXTs\\02-02-2023.txt\n",
      "E:\\B-Module\\results\\Inverted_MeanP\\InvMnP_Tf_52_02-02-2023.txt\n",
      "378 : E:\\B-Module\\TXTs\\02-02-2023.txt\n",
      "E:\\B-Module\\results\\Inverted_MeanP\\InvMnP_Tf_53_02-02-2023.txt\n",
      "385 : E:\\B-Module\\TXTs\\02-02-2023.txt\n",
      "E:\\B-Module\\results\\Inverted_MeanP\\InvMnP_Tf_54_02-02-2023.txt\n",
      "392 : E:\\B-Module\\TXTs\\02-02-2023.txt\n",
      "E:\\B-Module\\results\\Inverted_MeanP\\InvMnP_Tf_55_02-02-2023.txt\n",
      "399 : E:\\B-Module\\TXTs\\02-02-2023.txt\n",
      "E:\\B-Module\\results\\Inverted_MeanP\\InvMnP_Tf_56_02-02-2023.txt\n",
      "406 : E:\\B-Module\\TXTs\\02-02-2023.txt\n",
      "E:\\B-Module\\results\\Inverted_MeanP\\InvMnP_Tf_57_02-02-2023.txt\n",
      "413 : E:\\B-Module\\TXTs\\02-02-2023.txt\n",
      "E:\\B-Module\\results\\Inverted_MeanP\\InvMnP_Tf_58_02-02-2023.txt\n",
      "420 : E:\\B-Module\\TXTs\\02-02-2023.txt\n"
     ]
    },
    {
     "ename": "KeyboardInterrupt",
     "evalue": "",
     "output_type": "error",
     "traceback": [
      "\u001b[1;31m---------------------------------------------------------------------------\u001b[0m",
      "\u001b[1;31mKeyboardInterrupt\u001b[0m                         Traceback (most recent call last)",
      "Cell \u001b[1;32mIn[3], line 10\u001b[0m\n\u001b[0;32m      8\u001b[0m \u001b[38;5;28mprint\u001b[39m(\u001b[38;5;124mf\u001b[39m\u001b[38;5;124m'\u001b[39m\u001b[38;5;132;01m{\u001b[39;00mtime_frame\u001b[38;5;132;01m}\u001b[39;00m\u001b[38;5;124m : \u001b[39m\u001b[38;5;132;01m{\u001b[39;00mcomplete_route\u001b[38;5;132;01m}\u001b[39;00m\u001b[38;5;124m'\u001b[39m)\n\u001b[0;32m      9\u001b[0m Strat \u001b[38;5;241m=\u001b[39m Strategy( )\n\u001b[1;32m---> 10\u001b[0m \u001b[43mProcess_day\u001b[49m\u001b[43m(\u001b[49m\u001b[38;5;28;43mstr\u001b[39;49m\u001b[43m(\u001b[49m\u001b[43mtime_frame\u001b[49m\u001b[43m)\u001b[49m\u001b[43m,\u001b[49m\u001b[43m \u001b[49m\u001b[43mcomplete_route\u001b[49m\u001b[43m,\u001b[49m\u001b[43m \u001b[49m\u001b[43marchive_name\u001b[49m\u001b[43m,\u001b[49m\u001b[43m \u001b[49m\u001b[43mfolder_for_results\u001b[49m\u001b[43m[\u001b[49m\u001b[38;5;241;43m0\u001b[39;49m\u001b[43m]\u001b[49m\u001b[43m,\u001b[49m\u001b[43m \u001b[49m\u001b[43mStrat\u001b[49m\u001b[43m)\u001b[49m\n\u001b[0;32m     11\u001b[0m \u001b[38;5;250m\u001b[39m\u001b[38;5;124;03m'''\u001b[39;00m\n\u001b[0;32m     12\u001b[0m \u001b[38;5;124;03mfor path_of_analized_day, folder_for_results in zip(group_path_of_analized_day, group_folder_for_results ) :\u001b[39;00m\n\u001b[0;32m     13\u001b[0m \u001b[38;5;124;03m    place_path = os.path.join(folder_for_results, path_of_analized_day)\u001b[39;00m\n\u001b[1;32m   (...)\u001b[0m\n\u001b[0;32m     20\u001b[0m \u001b[38;5;124;03m        pass\u001b[39;00m\n\u001b[0;32m     21\u001b[0m \u001b[38;5;124;03m'''\u001b[39;00m\n",
      "Cell \u001b[1;32mIn[2], line 155\u001b[0m, in \u001b[0;36mProcess_day\u001b[1;34m(time_frame, path_of_current_day, day, folder_for_results, Strat, sum_side_by_day)\u001b[0m\n\u001b[0;32m    152\u001b[0m pivot_unix \u001b[38;5;241m=\u001b[39m get_unix(current_tick\u001b[38;5;241m.\u001b[39mdate, pivot_time)\n\u001b[0;32m    154\u001b[0m \u001b[38;5;28;01mif\u001b[39;00m time_signal_detector(current_tick, previous_tick, pivot_unix):\n\u001b[1;32m--> 155\u001b[0m     prices\u001b[38;5;241m.\u001b[39mappend(\u001b[43mnp\u001b[49m\u001b[38;5;241;43m.\u001b[39;49m\u001b[43mrandom\u001b[49m\u001b[38;5;241;43m.\u001b[39;49m\u001b[43mchoice\u001b[49m\u001b[43m(\u001b[49m\u001b[43m[\u001b[49m\u001b[43mprevious_tick\u001b[49m\u001b[38;5;241;43m.\u001b[39;49m\u001b[43mbid\u001b[49m\u001b[43m,\u001b[49m\u001b[43m \u001b[49m\u001b[43mcurrent_tick\u001b[49m\u001b[38;5;241;43m.\u001b[39;49m\u001b[43mask\u001b[49m\u001b[43m]\u001b[49m\u001b[43m)\u001b[49m)\n\u001b[0;32m    156\u001b[0m \u001b[38;5;28;01melse\u001b[39;00m:\n\u001b[0;32m    157\u001b[0m     side \u001b[38;5;241m=\u001b[39m Strat\u001b[38;5;241m.\u001b[39minvertedMnP(\u001b[38;5;28mid\u001b[39m, prices, State_detector(sum_side_by_day))\n",
      "\u001b[1;31mKeyboardInterrupt\u001b[0m: "
     ]
    }
   ],
   "source": [
    "folder = \"E:\\\\B-Module\\\\TXTs\"\n",
    "folder_for_results = [ \"E:\\\\B-Module\\\\results\\\\Inverted_MeanP\" ]\n",
    "archives_in_folder = os.listdir( folder )\n",
    "for archive_name in archives_in_folder:\n",
    "    if archive_name.endswith('.txt'):\n",
    "        complete_route = os.path.join(folder, archive_name)\n",
    "        for time_frame in time_frames:\n",
    "            print(f'{time_frame} : {complete_route}')\n",
    "            Strat = Strategy( )\n",
    "            Process_day(str(time_frame), complete_route, archive_name, folder_for_results[0], Strat)\n",
    "            '''\n",
    "            for path_of_analized_day, folder_for_results in zip(group_path_of_analized_day, group_folder_for_results ) :\n",
    "                place_path = os.path.join(folder_for_results, path_of_analized_day)\n",
    "                with open(place_path, 'w') as archive:\n",
    "                        archive.write(file_content(path_of_analized_day))\n",
    "                print(f'The following path has been saved : {place_path}')\n",
    "                if os.path.exists(path_of_analized_day):\n",
    "                    os.remove(path_of_analized_day)\n",
    "                else:\n",
    "                    pass\n",
    "            '''"
   ]
  },
  {
   "cell_type": "code",
   "execution_count": 9,
   "metadata": {},
   "outputs": [
    {
     "name": "stdout",
     "output_type": "stream",
     "text": [
      "653\n"
     ]
    }
   ],
   "source": [
    "results_Inv_MnP = \"E:\\\\B-Module\\\\results\\\\Inverted_MeanP\"\n",
    "archives_in_folder = os.listdir( results_Inv_MnP )\n",
    "print(len(archives_in_folder))\n",
    "for archive_name in archives_in_folder :\n",
    "    if archive_name.endswith('.txt') :\n",
    "        complete_route = os.path.join(results_Inv_MnP, archive_name)"
   ]
  },
  {
   "cell_type": "code",
   "execution_count": 10,
   "metadata": {},
   "outputs": [],
   "source": [
    "def compute_balance_for_big_file(orders_list: List[Any], last_bid : float,  last_ask : float ) -> float :\n",
    "    open_balance = 0\n",
    "    for line in orders_list:\n",
    "        if len(line) > 2:\n",
    "            side = line[0]\n",
    "            number_units = int(line[1])\n",
    "            bid_price, ask_price = float(line[2]), float(line[3])\n",
    "            profit_loss = 0\n",
    "            last_bid = float( last_bid )\n",
    "            last_ask = float(last_ask)\n",
    "            if side == 'buy' :\n",
    "                profit_loss = number_units * (last_bid) - number_units * ask_price\n",
    "            elif side == 'sell' :\n",
    "                profit_loss = number_units * bid_price - number_units * last_ask\n",
    "            open_balance += profit_loss\n",
    "    return open_balance * 12500\n",
    "\n",
    "def compute_drawdown_for_big_file( balances : List[float] ) -> float:\n",
    "    if len( balances ) > 1 :\n",
    "                max_drawdown = 0\n",
    "                drawdown = 0\n",
    "                peak = balances[0]\n",
    "                for balance in balances :\n",
    "                    if balance > peak :\n",
    "                        peak = balance\n",
    "                    drawdown = peak - balance\n",
    "                    if drawdown > max_drawdown:\n",
    "                        max_drawdown = drawdown\n",
    "                return max_drawdown\n",
    "    else:\n",
    "        return 0\n",
    "def Register(path_to_use: str, line: List[Any]) -> None:\n",
    "    with open(path_to_use, 'a') as file_in_process:\n",
    "        for value in line:\n",
    "            file_in_process.writelines(f'{value}:')\n",
    "        file_in_process.writelines('\\n')\n",
    "def file_content(path_to_use: str) -> str:\n",
    "    if os.path.exists(path_to_use):\n",
    "        with open(path_to_use, 'r') as file_in_process:\n",
    "            return file_in_process.read()\n",
    "    else:\n",
    "        return \"\"\n",
    "def chronological_organizer(*, module_id, folder) :\n",
    "    if module_id == 'MeanP' :\n",
    "        archives_in_folder = os.listdir( folder )####\n",
    "        df = { 'Archive':[ ], 'Month':[ ],'Year':[],'Day':[] }\n",
    "        for archive in archives_in_folder :\n",
    "            if archive.endswith('.txt') :\n",
    "                rout = os.path.join( folder, archive )\n",
    "                with open( rout, 'r' ) as reading_analysis :\n",
    "                    lines = reading_analysis.readlines( )\n",
    "                    if len(lines) > 0:\n",
    "                            df['Archive'].append(archive)\n",
    "                            if len(archive) == 26 :\n",
    "                                df['Day'].append(archive[9+3:11+3])\n",
    "                                df['Month'].append(archive[12+3:14+3])\n",
    "                                df['Year'].append(archive[15+3:19+3])\n",
    "                            else :\n",
    "                                df['Day'].append(archive[10+4:12+4])\n",
    "                                df['Month'].append(archive[13+4:15+4])\n",
    "                                df['Year'].append(archive[16+4:20+4])\n",
    "        df= pd.DataFrame(df)\n",
    "        df= df.sort_values( by= ['Year','Month','Day'])\n",
    "        return df.Archive\n",
    "def merge_txt_files(*,chronological_order, Tf, folder) :\n",
    "\n",
    "    content = \"\"   \n",
    "    list_for_balance = [ ]\n",
    "    list_for_drawdown = [ ]\n",
    "    for archive_name in chronological_order :\n",
    "        \n",
    "        if len(archive_name) == 26:\n",
    "            \n",
    "            if archive_name.endswith('.txt') and Tf == (archive_name)[10:11]:\n",
    "\n",
    "                complete_route = os.path.join( folder, archive_name )\n",
    "                with open( complete_route, 'r' ) as current_day :\n",
    "                    lines = current_day.readlines( )\n",
    "                    if len( lines ) > 0 :\n",
    "                        for order in lines :\n",
    "                            splitted = order.split( ':' )\n",
    "                            list_for_balance.append( splitted[ 1: 5 ] )\n",
    "                            P_L = compute_balance_for_big_file(list_for_balance, splitted[4], splitted[5] )\n",
    "                            list_for_drawdown.append(P_L)\n",
    "                            drawdown = compute_drawdown_for_big_file( list_for_drawdown )\n",
    "                            content +=f'{splitted[0]}:{splitted[1]}:{splitted[2]}:{splitted[3]}:{splitted[4]}:{P_L}:{drawdown}\\n'\n",
    "                            #content +=f'{splitted[0]}:{splitted[1]}:{splitted[2]}:{splitted[3]}:{splitted[4]}:{splitted[5]}:{P_L}:{drawdown}\\n'\n",
    "        if len(archive_name) == 27:\n",
    "\n",
    "            if archive_name.endswith('.txt') and Tf == (archive_name)[10:12]:\n",
    "\n",
    "                complete_route = os.path.join( folder, archive_name )\n",
    "                with open( complete_route, 'r' ) as current_day :\n",
    "                    lines = current_day.readlines( )\n",
    "                    if len( lines ) > 0 :\n",
    "                        for order in lines :\n",
    "                            splitted = order.split( ':' )\n",
    "                            list_for_balance.append( splitted[ 1: 5 ] )\n",
    "                            P_L = compute_balance_for_big_file(list_for_balance, splitted[4], splitted[5] )\n",
    "                            list_for_drawdown.append(P_L)\n",
    "                            drawdown = compute_drawdown_for_big_file( list_for_drawdown )\n",
    "                            content +=f'{splitted[0]}:{splitted[1]}:{splitted[2]}:{splitted[3]}:{splitted[4]}:{P_L}:{drawdown}\\n'\n",
    "                            #content +=f'{splitted[0]}:{splitted[1]}:{splitted[2]}:{splitted[3]}:{splitted[4]}:{splitted[5]}:{P_L}:{drawdown}\\n'\n",
    "\n",
    "    return content"
   ]
  },
  {
   "cell_type": "code",
   "execution_count": 12,
   "metadata": {},
   "outputs": [],
   "source": [
    "order = chronological_organizer( module_id = 'MeanP', folder = results_Inv_MnP )\n",
    "for i in range(99):\n",
    "    path_of_analized_day = f'Inv_MnP_Tf_{i}_sum.txt'\n",
    "    content = merge_txt_files(chronological_order = order, Tf = str(i), folder = results_Inv_MnP  )\n",
    "    with open(os.path.join(results_Inv_MnP ,path_of_analized_day),'w') as writing_archive :\n",
    "        writing_archive.write(content)\n"
   ]
  },
  {
   "cell_type": "code",
   "execution_count": 15,
   "metadata": {},
   "outputs": [
    {
     "data": {
      "text/plain": [
       "'2_sum.txt'"
      ]
     },
     "execution_count": 15,
     "metadata": {},
     "output_type": "execute_result"
    }
   ],
   "source": [
    "('Inv_MnP_Tf_2_sum.txt')[11:]"
   ]
  },
  {
   "cell_type": "code",
   "execution_count": 20,
   "metadata": {},
   "outputs": [
    {
     "data": {
      "text/html": [
       "<div>\n",
       "<style scoped>\n",
       "    .dataframe tbody tr th:only-of-type {\n",
       "        vertical-align: middle;\n",
       "    }\n",
       "\n",
       "    .dataframe tbody tr th {\n",
       "        vertical-align: top;\n",
       "    }\n",
       "\n",
       "    .dataframe thead th {\n",
       "        text-align: right;\n",
       "    }\n",
       "</style>\n",
       "<table border=\"1\" class=\"dataframe\">\n",
       "  <thead>\n",
       "    <tr style=\"text-align: right;\">\n",
       "      <th></th>\n",
       "      <th>Profile</th>\n",
       "      <th>Drawdown</th>\n",
       "      <th>Balance</th>\n",
       "    </tr>\n",
       "  </thead>\n",
       "  <tbody>\n",
       "    <tr>\n",
       "      <th>0</th>\n",
       "      <td>0_</td>\n",
       "      <td>238550.00</td>\n",
       "      <td>3399197.50</td>\n",
       "    </tr>\n",
       "    <tr>\n",
       "      <th>10</th>\n",
       "      <td>10</td>\n",
       "      <td>11810.00</td>\n",
       "      <td>256642.50</td>\n",
       "    </tr>\n",
       "    <tr>\n",
       "      <th>11</th>\n",
       "      <td>11</td>\n",
       "      <td>9320.00</td>\n",
       "      <td>188728.75</td>\n",
       "    </tr>\n",
       "    <tr>\n",
       "      <th>12</th>\n",
       "      <td>12</td>\n",
       "      <td>15052.50</td>\n",
       "      <td>172062.50</td>\n",
       "    </tr>\n",
       "    <tr>\n",
       "      <th>13</th>\n",
       "      <td>13</td>\n",
       "      <td>8068.75</td>\n",
       "      <td>226052.50</td>\n",
       "    </tr>\n",
       "    <tr>\n",
       "      <th>...</th>\n",
       "      <td>...</td>\n",
       "      <td>...</td>\n",
       "      <td>...</td>\n",
       "    </tr>\n",
       "    <tr>\n",
       "      <th>82</th>\n",
       "      <td>82</td>\n",
       "      <td>755.00</td>\n",
       "      <td>-755.00</td>\n",
       "    </tr>\n",
       "    <tr>\n",
       "      <th>83</th>\n",
       "      <td>83</td>\n",
       "      <td>0.00</td>\n",
       "      <td>880.00</td>\n",
       "    </tr>\n",
       "    <tr>\n",
       "      <th>84</th>\n",
       "      <td>84</td>\n",
       "      <td>2602.50</td>\n",
       "      <td>1366.25</td>\n",
       "    </tr>\n",
       "    <tr>\n",
       "      <th>85</th>\n",
       "      <td>85</td>\n",
       "      <td>747.50</td>\n",
       "      <td>2046.25</td>\n",
       "    </tr>\n",
       "    <tr>\n",
       "      <th>86</th>\n",
       "      <td>86</td>\n",
       "      <td>750.00</td>\n",
       "      <td>2980.00</td>\n",
       "    </tr>\n",
       "  </tbody>\n",
       "</table>\n",
       "<p>85 rows × 3 columns</p>\n",
       "</div>"
      ],
      "text/plain": [
       "   Profile   Drawdown     Balance\n",
       "0       0_  238550.00  3399197.50\n",
       "10      10   11810.00   256642.50\n",
       "11      11    9320.00   188728.75\n",
       "12      12   15052.50   172062.50\n",
       "13      13    8068.75   226052.50\n",
       "..     ...        ...         ...\n",
       "82      82     755.00     -755.00\n",
       "83      83       0.00      880.00\n",
       "84      84    2602.50     1366.25\n",
       "85      85     747.50     2046.25\n",
       "86      86     750.00     2980.00\n",
       "\n",
       "[85 rows x 3 columns]"
      ]
     },
     "execution_count": 20,
     "metadata": {},
     "output_type": "execute_result"
    }
   ],
   "source": [
    "df = {'Profile':[],'Drawdown':[],'Balance':[]}\n",
    "for index in range(99):\n",
    "  archive = f'Inv_MnP_Tf_{index}_sum.txt'  \n",
    "  if archive.endswith('.txt') :\n",
    "    complete_route = os.path.join(results_Inv_MnP,archive)\n",
    "    with open(complete_route, 'r') as reading :\n",
    "      all_list = reading.readlines()\n",
    "      if len(all_list) > 0 :\n",
    "        last_line_splitted = all_list[-1].split(':')\n",
    "        if len(archive)==19 :\n",
    "          profile = archive[11:12]\n",
    "        else :\n",
    "          profile = archive[11:13]\n",
    "        df['Profile'].append((profile))\n",
    "        df['Balance'].append(float(last_line_splitted[5]))\n",
    "        df['Drawdown'].append(float(last_line_splitted[6]))\n",
    "      else :\n",
    "        print(all_list)\n",
    "df = pd.DataFrame(df)\n",
    "df = df.sort_values(by=\"Profile\")\n",
    "df.head(85)"
   ]
  },
  {
   "cell_type": "code",
   "execution_count": 21,
   "metadata": {},
   "outputs": [
    {
     "name": "stdout",
     "output_type": "stream",
     "text": [
      "centroide X: 134936.33838383842, Y: 9131.805555555682\n"
     ]
    },
    {
     "data": {
      "application/vnd.plotly.v1+json": {
       "config": {
        "plotlyServerURL": "https://plot.ly"
       },
       "data": [
        {
         "hovertemplate": "<b>%{hovertext}</b><br><br>Profile=0_<br>Balance=%{x}<br>Drawdown=%{y}<extra></extra>",
         "hovertext": [
          "0_"
         ],
         "legendgroup": "0_",
         "marker": {
          "color": "#636efa",
          "symbol": "circle"
         },
         "mode": "markers",
         "name": "0_",
         "orientation": "v",
         "showlegend": true,
         "type": "scatter",
         "x": [
          3399197.500000002
         ],
         "xaxis": "x",
         "y": [
          238549.99999999953
         ],
         "yaxis": "y"
        },
        {
         "hovertemplate": "<b>%{hovertext}</b><br><br>Profile=10<br>Balance=%{x}<br>Drawdown=%{y}<extra></extra>",
         "hovertext": [
          "10"
         ],
         "legendgroup": "10",
         "marker": {
          "color": "#EF553B",
          "symbol": "circle"
         },
         "mode": "markers",
         "name": "10",
         "orientation": "v",
         "showlegend": true,
         "type": "scatter",
         "x": [
          256642.49999999997
         ],
         "xaxis": "x",
         "y": [
          11810.000000000087
         ],
         "yaxis": "y"
        },
        {
         "hovertemplate": "<b>%{hovertext}</b><br><br>Profile=11<br>Balance=%{x}<br>Drawdown=%{y}<extra></extra>",
         "hovertext": [
          "11"
         ],
         "legendgroup": "11",
         "marker": {
          "color": "#00cc96",
          "symbol": "circle"
         },
         "mode": "markers",
         "name": "11",
         "orientation": "v",
         "showlegend": true,
         "type": "scatter",
         "x": [
          188728.75
         ],
         "xaxis": "x",
         "y": [
          9320.000000000058
         ],
         "yaxis": "y"
        },
        {
         "hovertemplate": "<b>%{hovertext}</b><br><br>Profile=12<br>Balance=%{x}<br>Drawdown=%{y}<extra></extra>",
         "hovertext": [
          "12"
         ],
         "legendgroup": "12",
         "marker": {
          "color": "#ab63fa",
          "symbol": "circle"
         },
         "mode": "markers",
         "name": "12",
         "orientation": "v",
         "showlegend": true,
         "type": "scatter",
         "x": [
          172062.49999999997
         ],
         "xaxis": "x",
         "y": [
          15052.499999999942
         ],
         "yaxis": "y"
        },
        {
         "hovertemplate": "<b>%{hovertext}</b><br><br>Profile=13<br>Balance=%{x}<br>Drawdown=%{y}<extra></extra>",
         "hovertext": [
          "13"
         ],
         "legendgroup": "13",
         "marker": {
          "color": "#FFA15A",
          "symbol": "circle"
         },
         "mode": "markers",
         "name": "13",
         "orientation": "v",
         "showlegend": true,
         "type": "scatter",
         "x": [
          226052.50000000026
         ],
         "xaxis": "x",
         "y": [
          8068.750000000029
         ],
         "yaxis": "y"
        },
        {
         "hovertemplate": "<b>%{hovertext}</b><br><br>Profile=14<br>Balance=%{x}<br>Drawdown=%{y}<extra></extra>",
         "hovertext": [
          "14"
         ],
         "legendgroup": "14",
         "marker": {
          "color": "#19d3f3",
          "symbol": "circle"
         },
         "mode": "markers",
         "name": "14",
         "orientation": "v",
         "showlegend": true,
         "type": "scatter",
         "x": [
          144693.75
         ],
         "xaxis": "x",
         "y": [
          6881.25
         ],
         "yaxis": "y"
        },
        {
         "hovertemplate": "<b>%{hovertext}</b><br><br>Profile=15<br>Balance=%{x}<br>Drawdown=%{y}<extra></extra>",
         "hovertext": [
          "15"
         ],
         "legendgroup": "15",
         "marker": {
          "color": "#FF6692",
          "symbol": "circle"
         },
         "mode": "markers",
         "name": "15",
         "orientation": "v",
         "showlegend": true,
         "type": "scatter",
         "x": [
          112111.2500000001
         ],
         "xaxis": "x",
         "y": [
          5276.250000000015
         ],
         "yaxis": "y"
        },
        {
         "hovertemplate": "<b>%{hovertext}</b><br><br>Profile=16<br>Balance=%{x}<br>Drawdown=%{y}<extra></extra>",
         "hovertext": [
          "16"
         ],
         "legendgroup": "16",
         "marker": {
          "color": "#B6E880",
          "symbol": "circle"
         },
         "mode": "markers",
         "name": "16",
         "orientation": "v",
         "showlegend": true,
         "type": "scatter",
         "x": [
          132652.50000000003
         ],
         "xaxis": "x",
         "y": [
          7796.249999999971
         ],
         "yaxis": "y"
        },
        {
         "hovertemplate": "<b>%{hovertext}</b><br><br>Profile=17<br>Balance=%{x}<br>Drawdown=%{y}<extra></extra>",
         "hovertext": [
          "17"
         ],
         "legendgroup": "17",
         "marker": {
          "color": "#FF97FF",
          "symbol": "circle"
         },
         "mode": "markers",
         "name": "17",
         "orientation": "v",
         "showlegend": true,
         "type": "scatter",
         "x": [
          170018.75000000003
         ],
         "xaxis": "x",
         "y": [
          9889.999999999985
         ],
         "yaxis": "y"
        },
        {
         "hovertemplate": "<b>%{hovertext}</b><br><br>Profile=18<br>Balance=%{x}<br>Drawdown=%{y}<extra></extra>",
         "hovertext": [
          "18"
         ],
         "legendgroup": "18",
         "marker": {
          "color": "#FECB52",
          "symbol": "circle"
         },
         "mode": "markers",
         "name": "18",
         "orientation": "v",
         "showlegend": true,
         "type": "scatter",
         "x": [
          117874.99999999997
         ],
         "xaxis": "x",
         "y": [
          5394.999999999971
         ],
         "yaxis": "y"
        },
        {
         "hovertemplate": "<b>%{hovertext}</b><br><br>Profile=19<br>Balance=%{x}<br>Drawdown=%{y}<extra></extra>",
         "hovertext": [
          "19"
         ],
         "legendgroup": "19",
         "marker": {
          "color": "#636efa",
          "symbol": "circle"
         },
         "mode": "markers",
         "name": "19",
         "orientation": "v",
         "showlegend": true,
         "type": "scatter",
         "x": [
          133582.49999999997
         ],
         "xaxis": "x",
         "y": [
          7545
         ],
         "yaxis": "y"
        },
        {
         "hovertemplate": "<b>%{hovertext}</b><br><br>Profile=1_<br>Balance=%{x}<br>Drawdown=%{y}<extra></extra>",
         "hovertext": [
          "1_"
         ],
         "legendgroup": "1_",
         "marker": {
          "color": "#EF553B",
          "symbol": "circle"
         },
         "mode": "markers",
         "name": "1_",
         "orientation": "v",
         "showlegend": true,
         "type": "scatter",
         "x": [
          1724216.2500000007
         ],
         "xaxis": "x",
         "y": [
          152571.25000000815
         ],
         "yaxis": "y"
        },
        {
         "hovertemplate": "<b>%{hovertext}</b><br><br>Profile=20<br>Balance=%{x}<br>Drawdown=%{y}<extra></extra>",
         "hovertext": [
          "20"
         ],
         "legendgroup": "20",
         "marker": {
          "color": "#00cc96",
          "symbol": "circle"
         },
         "mode": "markers",
         "name": "20",
         "orientation": "v",
         "showlegend": true,
         "type": "scatter",
         "x": [
          78947.49999999999
         ],
         "xaxis": "x",
         "y": [
          5066.249999999985
         ],
         "yaxis": "y"
        },
        {
         "hovertemplate": "<b>%{hovertext}</b><br><br>Profile=21<br>Balance=%{x}<br>Drawdown=%{y}<extra></extra>",
         "hovertext": [
          "21"
         ],
         "legendgroup": "21",
         "marker": {
          "color": "#ab63fa",
          "symbol": "circle"
         },
         "mode": "markers",
         "name": "21",
         "orientation": "v",
         "showlegend": true,
         "type": "scatter",
         "x": [
          104375
         ],
         "xaxis": "x",
         "y": [
          6900.000000000073
         ],
         "yaxis": "y"
        },
        {
         "hovertemplate": "<b>%{hovertext}</b><br><br>Profile=22<br>Balance=%{x}<br>Drawdown=%{y}<extra></extra>",
         "hovertext": [
          "22"
         ],
         "legendgroup": "22",
         "marker": {
          "color": "#FFA15A",
          "symbol": "circle"
         },
         "mode": "markers",
         "name": "22",
         "orientation": "v",
         "showlegend": true,
         "type": "scatter",
         "x": [
          120245.00000000009
         ],
         "xaxis": "x",
         "y": [
          5822.499999999971
         ],
         "yaxis": "y"
        },
        {
         "hovertemplate": "<b>%{hovertext}</b><br><br>Profile=23<br>Balance=%{x}<br>Drawdown=%{y}<extra></extra>",
         "hovertext": [
          "23"
         ],
         "legendgroup": "23",
         "marker": {
          "color": "#19d3f3",
          "symbol": "circle"
         },
         "mode": "markers",
         "name": "23",
         "orientation": "v",
         "showlegend": true,
         "type": "scatter",
         "x": [
          94465.00000000012
         ],
         "xaxis": "x",
         "y": [
          7329.999999999971
         ],
         "yaxis": "y"
        },
        {
         "hovertemplate": "<b>%{hovertext}</b><br><br>Profile=24<br>Balance=%{x}<br>Drawdown=%{y}<extra></extra>",
         "hovertext": [
          "24"
         ],
         "legendgroup": "24",
         "marker": {
          "color": "#FF6692",
          "symbol": "circle"
         },
         "mode": "markers",
         "name": "24",
         "orientation": "v",
         "showlegend": true,
         "type": "scatter",
         "x": [
          107329.99999999997
         ],
         "xaxis": "x",
         "y": [
          6175.000000000073
         ],
         "yaxis": "y"
        },
        {
         "hovertemplate": "<b>%{hovertext}</b><br><br>Profile=25<br>Balance=%{x}<br>Drawdown=%{y}<extra></extra>",
         "hovertext": [
          "25"
         ],
         "legendgroup": "25",
         "marker": {
          "color": "#B6E880",
          "symbol": "circle"
         },
         "mode": "markers",
         "name": "25",
         "orientation": "v",
         "showlegend": true,
         "type": "scatter",
         "x": [
          11148.749999999982
         ],
         "xaxis": "x",
         "y": [
          4088.7500000000055
         ],
         "yaxis": "y"
        },
        {
         "hovertemplate": "<b>%{hovertext}</b><br><br>Profile=26<br>Balance=%{x}<br>Drawdown=%{y}<extra></extra>",
         "hovertext": [
          "26"
         ],
         "legendgroup": "26",
         "marker": {
          "color": "#FF97FF",
          "symbol": "circle"
         },
         "mode": "markers",
         "name": "26",
         "orientation": "v",
         "showlegend": true,
         "type": "scatter",
         "x": [
          77421.24999999997
         ],
         "xaxis": "x",
         "y": [
          4216.250000000051
         ],
         "yaxis": "y"
        },
        {
         "hovertemplate": "<b>%{hovertext}</b><br><br>Profile=27<br>Balance=%{x}<br>Drawdown=%{y}<extra></extra>",
         "hovertext": [
          "27"
         ],
         "legendgroup": "27",
         "marker": {
          "color": "#FECB52",
          "symbol": "circle"
         },
         "mode": "markers",
         "name": "27",
         "orientation": "v",
         "showlegend": true,
         "type": "scatter",
         "x": [
          79332.50000000007
         ],
         "xaxis": "x",
         "y": [
          9253.749999999949
         ],
         "yaxis": "y"
        },
        {
         "hovertemplate": "<b>%{hovertext}</b><br><br>Profile=28<br>Balance=%{x}<br>Drawdown=%{y}<extra></extra>",
         "hovertext": [
          "28"
         ],
         "legendgroup": "28",
         "marker": {
          "color": "#636efa",
          "symbol": "circle"
         },
         "mode": "markers",
         "name": "28",
         "orientation": "v",
         "showlegend": true,
         "type": "scatter",
         "x": [
          107920
         ],
         "xaxis": "x",
         "y": [
          3981.249999999971
         ],
         "yaxis": "y"
        },
        {
         "hovertemplate": "<b>%{hovertext}</b><br><br>Profile=29<br>Balance=%{x}<br>Drawdown=%{y}<extra></extra>",
         "hovertext": [
          "29"
         ],
         "legendgroup": "29",
         "marker": {
          "color": "#EF553B",
          "symbol": "circle"
         },
         "mode": "markers",
         "name": "29",
         "orientation": "v",
         "showlegend": true,
         "type": "scatter",
         "x": [
          53522.50000000001
         ],
         "xaxis": "x",
         "y": [
          3201.249999999978
         ],
         "yaxis": "y"
        },
        {
         "hovertemplate": "<b>%{hovertext}</b><br><br>Profile=2_<br>Balance=%{x}<br>Drawdown=%{y}<extra></extra>",
         "hovertext": [
          "2_"
         ],
         "legendgroup": "2_",
         "marker": {
          "color": "#00cc96",
          "symbol": "circle"
         },
         "mode": "markers",
         "name": "2_",
         "orientation": "v",
         "showlegend": true,
         "type": "scatter",
         "x": [
          1090633.7500000007
         ],
         "xaxis": "x",
         "y": [
          63250.000000001164
         ],
         "yaxis": "y"
        },
        {
         "hovertemplate": "<b>%{hovertext}</b><br><br>Profile=30<br>Balance=%{x}<br>Drawdown=%{y}<extra></extra>",
         "hovertext": [
          "30"
         ],
         "legendgroup": "30",
         "marker": {
          "color": "#ab63fa",
          "symbol": "circle"
         },
         "mode": "markers",
         "name": "30",
         "orientation": "v",
         "showlegend": true,
         "type": "scatter",
         "x": [
          67167.49999999999
         ],
         "xaxis": "x",
         "y": [
          5158.750000000007
         ],
         "yaxis": "y"
        },
        {
         "hovertemplate": "<b>%{hovertext}</b><br><br>Profile=31<br>Balance=%{x}<br>Drawdown=%{y}<extra></extra>",
         "hovertext": [
          "31"
         ],
         "legendgroup": "31",
         "marker": {
          "color": "#FFA15A",
          "symbol": "circle"
         },
         "mode": "markers",
         "name": "31",
         "orientation": "v",
         "showlegend": true,
         "type": "scatter",
         "x": [
          66950.00000000006
         ],
         "xaxis": "x",
         "y": [
          3140.0000000000364
         ],
         "yaxis": "y"
        },
        {
         "hovertemplate": "<b>%{hovertext}</b><br><br>Profile=32<br>Balance=%{x}<br>Drawdown=%{y}<extra></extra>",
         "hovertext": [
          "32"
         ],
         "legendgroup": "32",
         "marker": {
          "color": "#19d3f3",
          "symbol": "circle"
         },
         "mode": "markers",
         "name": "32",
         "orientation": "v",
         "showlegend": true,
         "type": "scatter",
         "x": [
          51503.75000000001
         ],
         "xaxis": "x",
         "y": [
          6466.250000000036
         ],
         "yaxis": "y"
        },
        {
         "hovertemplate": "<b>%{hovertext}</b><br><br>Profile=33<br>Balance=%{x}<br>Drawdown=%{y}<extra></extra>",
         "hovertext": [
          "33"
         ],
         "legendgroup": "33",
         "marker": {
          "color": "#FF6692",
          "symbol": "circle"
         },
         "mode": "markers",
         "name": "33",
         "orientation": "v",
         "showlegend": true,
         "type": "scatter",
         "x": [
          30247.500000000004
         ],
         "xaxis": "x",
         "y": [
          3162.4999999999986
         ],
         "yaxis": "y"
        },
        {
         "hovertemplate": "<b>%{hovertext}</b><br><br>Profile=34<br>Balance=%{x}<br>Drawdown=%{y}<extra></extra>",
         "hovertext": [
          "34"
         ],
         "legendgroup": "34",
         "marker": {
          "color": "#B6E880",
          "symbol": "circle"
         },
         "mode": "markers",
         "name": "34",
         "orientation": "v",
         "showlegend": true,
         "type": "scatter",
         "x": [
          39955.00000000002
         ],
         "xaxis": "x",
         "y": [
          5605.000000000015
         ],
         "yaxis": "y"
        },
        {
         "hovertemplate": "<b>%{hovertext}</b><br><br>Profile=35<br>Balance=%{x}<br>Drawdown=%{y}<extra></extra>",
         "hovertext": [
          "35"
         ],
         "legendgroup": "35",
         "marker": {
          "color": "#FF97FF",
          "symbol": "circle"
         },
         "mode": "markers",
         "name": "35",
         "orientation": "v",
         "showlegend": true,
         "type": "scatter",
         "x": [
          38120.00000000001
         ],
         "xaxis": "x",
         "y": [
          4953.749999999978
         ],
         "yaxis": "y"
        },
        {
         "hovertemplate": "<b>%{hovertext}</b><br><br>Profile=36<br>Balance=%{x}<br>Drawdown=%{y}<extra></extra>",
         "hovertext": [
          "36"
         ],
         "legendgroup": "36",
         "marker": {
          "color": "#FECB52",
          "symbol": "circle"
         },
         "mode": "markers",
         "name": "36",
         "orientation": "v",
         "showlegend": true,
         "type": "scatter",
         "x": [
          39826.24999999999
         ],
         "xaxis": "x",
         "y": [
          3146.2500000000073
         ],
         "yaxis": "y"
        },
        {
         "hovertemplate": "<b>%{hovertext}</b><br><br>Profile=37<br>Balance=%{x}<br>Drawdown=%{y}<extra></extra>",
         "hovertext": [
          "37"
         ],
         "legendgroup": "37",
         "marker": {
          "color": "#636efa",
          "symbol": "circle"
         },
         "mode": "markers",
         "name": "37",
         "orientation": "v",
         "showlegend": true,
         "type": "scatter",
         "x": [
          28389.99999999999
         ],
         "xaxis": "x",
         "y": [
          4438.750000000004
         ],
         "yaxis": "y"
        },
        {
         "hovertemplate": "<b>%{hovertext}</b><br><br>Profile=38<br>Balance=%{x}<br>Drawdown=%{y}<extra></extra>",
         "hovertext": [
          "38"
         ],
         "legendgroup": "38",
         "marker": {
          "color": "#EF553B",
          "symbol": "circle"
         },
         "mode": "markers",
         "name": "38",
         "orientation": "v",
         "showlegend": true,
         "type": "scatter",
         "x": [
          28466.249999999993
         ],
         "xaxis": "x",
         "y": [
          3079.999999999989
         ],
         "yaxis": "y"
        },
        {
         "hovertemplate": "<b>%{hovertext}</b><br><br>Profile=39<br>Balance=%{x}<br>Drawdown=%{y}<extra></extra>",
         "hovertext": [
          "39"
         ],
         "legendgroup": "39",
         "marker": {
          "color": "#00cc96",
          "symbol": "circle"
         },
         "mode": "markers",
         "name": "39",
         "orientation": "v",
         "showlegend": true,
         "type": "scatter",
         "x": [
          42373.75
         ],
         "xaxis": "x",
         "y": [
          3499.9999999999854
         ],
         "yaxis": "y"
        },
        {
         "hovertemplate": "<b>%{hovertext}</b><br><br>Profile=3_<br>Balance=%{x}<br>Drawdown=%{y}<extra></extra>",
         "hovertext": [
          "3_"
         ],
         "legendgroup": "3_",
         "marker": {
          "color": "#ab63fa",
          "symbol": "circle"
         },
         "mode": "markers",
         "name": "3_",
         "orientation": "v",
         "showlegend": true,
         "type": "scatter",
         "x": [
          774311.2500000006
         ],
         "xaxis": "x",
         "y": [
          48602.50000000233
         ],
         "yaxis": "y"
        },
        {
         "hovertemplate": "<b>%{hovertext}</b><br><br>Profile=40<br>Balance=%{x}<br>Drawdown=%{y}<extra></extra>",
         "hovertext": [
          "40"
         ],
         "legendgroup": "40",
         "marker": {
          "color": "#FFA15A",
          "symbol": "circle"
         },
         "mode": "markers",
         "name": "40",
         "orientation": "v",
         "showlegend": true,
         "type": "scatter",
         "x": [
          24882.500000000007
         ],
         "xaxis": "x",
         "y": [
          5531.249999999985
         ],
         "yaxis": "y"
        },
        {
         "hovertemplate": "<b>%{hovertext}</b><br><br>Profile=41<br>Balance=%{x}<br>Drawdown=%{y}<extra></extra>",
         "hovertext": [
          "41"
         ],
         "legendgroup": "41",
         "marker": {
          "color": "#19d3f3",
          "symbol": "circle"
         },
         "mode": "markers",
         "name": "41",
         "orientation": "v",
         "showlegend": true,
         "type": "scatter",
         "x": [
          28781.250000000015
         ],
         "xaxis": "x",
         "y": [
          0
         ],
         "yaxis": "y"
        },
        {
         "hovertemplate": "<b>%{hovertext}</b><br><br>Profile=42<br>Balance=%{x}<br>Drawdown=%{y}<extra></extra>",
         "hovertext": [
          "42"
         ],
         "legendgroup": "42",
         "marker": {
          "color": "#FF6692",
          "symbol": "circle"
         },
         "mode": "markers",
         "name": "42",
         "orientation": "v",
         "showlegend": true,
         "type": "scatter",
         "x": [
          28937.499999999993
         ],
         "xaxis": "x",
         "y": [
          2810.0000000000146
         ],
         "yaxis": "y"
        },
        {
         "hovertemplate": "<b>%{hovertext}</b><br><br>Profile=43<br>Balance=%{x}<br>Drawdown=%{y}<extra></extra>",
         "hovertext": [
          "43"
         ],
         "legendgroup": "43",
         "marker": {
          "color": "#B6E880",
          "symbol": "circle"
         },
         "mode": "markers",
         "name": "43",
         "orientation": "v",
         "showlegend": true,
         "type": "scatter",
         "x": [
          79884.99999999999
         ],
         "xaxis": "x",
         "y": [
          3082.4999999999927
         ],
         "yaxis": "y"
        },
        {
         "hovertemplate": "<b>%{hovertext}</b><br><br>Profile=44<br>Balance=%{x}<br>Drawdown=%{y}<extra></extra>",
         "hovertext": [
          "44"
         ],
         "legendgroup": "44",
         "marker": {
          "color": "#FF97FF",
          "symbol": "circle"
         },
         "mode": "markers",
         "name": "44",
         "orientation": "v",
         "showlegend": true,
         "type": "scatter",
         "x": [
          53511.25
         ],
         "xaxis": "x",
         "y": [
          2167.5
         ],
         "yaxis": "y"
        },
        {
         "hovertemplate": "<b>%{hovertext}</b><br><br>Profile=45<br>Balance=%{x}<br>Drawdown=%{y}<extra></extra>",
         "hovertext": [
          "45"
         ],
         "legendgroup": "45",
         "marker": {
          "color": "#FECB52",
          "symbol": "circle"
         },
         "mode": "markers",
         "name": "45",
         "orientation": "v",
         "showlegend": true,
         "type": "scatter",
         "x": [
          41303.75000000003
         ],
         "xaxis": "x",
         "y": [
          3437.4999999999563
         ],
         "yaxis": "y"
        },
        {
         "hovertemplate": "<b>%{hovertext}</b><br><br>Profile=46<br>Balance=%{x}<br>Drawdown=%{y}<extra></extra>",
         "hovertext": [
          "46"
         ],
         "legendgroup": "46",
         "marker": {
          "color": "#636efa",
          "symbol": "circle"
         },
         "mode": "markers",
         "name": "46",
         "orientation": "v",
         "showlegend": true,
         "type": "scatter",
         "x": [
          41791.25
         ],
         "xaxis": "x",
         "y": [
          2507.5000000000073
         ],
         "yaxis": "y"
        },
        {
         "hovertemplate": "<b>%{hovertext}</b><br><br>Profile=47<br>Balance=%{x}<br>Drawdown=%{y}<extra></extra>",
         "hovertext": [
          "47"
         ],
         "legendgroup": "47",
         "marker": {
          "color": "#EF553B",
          "symbol": "circle"
         },
         "mode": "markers",
         "name": "47",
         "orientation": "v",
         "showlegend": true,
         "type": "scatter",
         "x": [
          39546.25000000002
         ],
         "xaxis": "x",
         "y": [
          4881.249999999956
         ],
         "yaxis": "y"
        },
        {
         "hovertemplate": "<b>%{hovertext}</b><br><br>Profile=48<br>Balance=%{x}<br>Drawdown=%{y}<extra></extra>",
         "hovertext": [
          "48"
         ],
         "legendgroup": "48",
         "marker": {
          "color": "#00cc96",
          "symbol": "circle"
         },
         "mode": "markers",
         "name": "48",
         "orientation": "v",
         "showlegend": true,
         "type": "scatter",
         "x": [
          53416.25000000002
         ],
         "xaxis": "x",
         "y": [
          2164.999999999971
         ],
         "yaxis": "y"
        },
        {
         "hovertemplate": "<b>%{hovertext}</b><br><br>Profile=49<br>Balance=%{x}<br>Drawdown=%{y}<extra></extra>",
         "hovertext": [
          "49"
         ],
         "legendgroup": "49",
         "marker": {
          "color": "#ab63fa",
          "symbol": "circle"
         },
         "mode": "markers",
         "name": "49",
         "orientation": "v",
         "showlegend": true,
         "type": "scatter",
         "x": [
          51794.99999999998
         ],
         "xaxis": "x",
         "y": [
          3886.250000000058
         ],
         "yaxis": "y"
        },
        {
         "hovertemplate": "<b>%{hovertext}</b><br><br>Profile=4_<br>Balance=%{x}<br>Drawdown=%{y}<extra></extra>",
         "hovertext": [
          "4_"
         ],
         "legendgroup": "4_",
         "marker": {
          "color": "#FFA15A",
          "symbol": "circle"
         },
         "mode": "markers",
         "name": "4_",
         "orientation": "v",
         "showlegend": true,
         "type": "scatter",
         "x": [
          551777.4999999995
         ],
         "xaxis": "x",
         "y": [
          26040.000000000233
         ],
         "yaxis": "y"
        },
        {
         "hovertemplate": "<b>%{hovertext}</b><br><br>Profile=50<br>Balance=%{x}<br>Drawdown=%{y}<extra></extra>",
         "hovertext": [
          "50"
         ],
         "legendgroup": "50",
         "marker": {
          "color": "#19d3f3",
          "symbol": "circle"
         },
         "mode": "markers",
         "name": "50",
         "orientation": "v",
         "showlegend": true,
         "type": "scatter",
         "x": [
          51686.25
         ],
         "xaxis": "x",
         "y": [
          3137.5000000000073
         ],
         "yaxis": "y"
        },
        {
         "hovertemplate": "<b>%{hovertext}</b><br><br>Profile=51<br>Balance=%{x}<br>Drawdown=%{y}<extra></extra>",
         "hovertext": [
          "51"
         ],
         "legendgroup": "51",
         "marker": {
          "color": "#FF6692",
          "symbol": "circle"
         },
         "mode": "markers",
         "name": "51",
         "orientation": "v",
         "showlegend": true,
         "type": "scatter",
         "x": [
          38631.24999999999
         ],
         "xaxis": "x",
         "y": [
          2876.2500000000073
         ],
         "yaxis": "y"
        },
        {
         "hovertemplate": "<b>%{hovertext}</b><br><br>Profile=52<br>Balance=%{x}<br>Drawdown=%{y}<extra></extra>",
         "hovertext": [
          "52"
         ],
         "legendgroup": "52",
         "marker": {
          "color": "#B6E880",
          "symbol": "circle"
         },
         "mode": "markers",
         "name": "52",
         "orientation": "v",
         "showlegend": true,
         "type": "scatter",
         "x": [
          43610
         ],
         "xaxis": "x",
         "y": [
          1758.75
         ],
         "yaxis": "y"
        },
        {
         "hovertemplate": "<b>%{hovertext}</b><br><br>Profile=53<br>Balance=%{x}<br>Drawdown=%{y}<extra></extra>",
         "hovertext": [
          "53"
         ],
         "legendgroup": "53",
         "marker": {
          "color": "#FF97FF",
          "symbol": "circle"
         },
         "mode": "markers",
         "name": "53",
         "orientation": "v",
         "showlegend": true,
         "type": "scatter",
         "x": [
          42280.00000000001
         ],
         "xaxis": "x",
         "y": [
          1753.75
         ],
         "yaxis": "y"
        },
        {
         "hovertemplate": "<b>%{hovertext}</b><br><br>Profile=54<br>Balance=%{x}<br>Drawdown=%{y}<extra></extra>",
         "hovertext": [
          "54"
         ],
         "legendgroup": "54",
         "marker": {
          "color": "#FECB52",
          "symbol": "circle"
         },
         "mode": "markers",
         "name": "54",
         "orientation": "v",
         "showlegend": true,
         "type": "scatter",
         "x": [
          66053.75
         ],
         "xaxis": "x",
         "y": [
          3162.5
         ],
         "yaxis": "y"
        },
        {
         "hovertemplate": "<b>%{hovertext}</b><br><br>Profile=55<br>Balance=%{x}<br>Drawdown=%{y}<extra></extra>",
         "hovertext": [
          "55"
         ],
         "legendgroup": "55",
         "marker": {
          "color": "#636efa",
          "symbol": "circle"
         },
         "mode": "markers",
         "name": "55",
         "orientation": "v",
         "showlegend": true,
         "type": "scatter",
         "x": [
          41766.25000000001
         ],
         "xaxis": "x",
         "y": [
          2367.4999999999964
         ],
         "yaxis": "y"
        },
        {
         "hovertemplate": "<b>%{hovertext}</b><br><br>Profile=56<br>Balance=%{x}<br>Drawdown=%{y}<extra></extra>",
         "hovertext": [
          "56"
         ],
         "legendgroup": "56",
         "marker": {
          "color": "#EF553B",
          "symbol": "circle"
         },
         "mode": "markers",
         "name": "56",
         "orientation": "v",
         "showlegend": true,
         "type": "scatter",
         "x": [
          52848.750000000015
         ],
         "xaxis": "x",
         "y": [
          2597.4999999999964
         ],
         "yaxis": "y"
        },
        {
         "hovertemplate": "<b>%{hovertext}</b><br><br>Profile=57<br>Balance=%{x}<br>Drawdown=%{y}<extra></extra>",
         "hovertext": [
          "57"
         ],
         "legendgroup": "57",
         "marker": {
          "color": "#00cc96",
          "symbol": "circle"
         },
         "mode": "markers",
         "name": "57",
         "orientation": "v",
         "showlegend": true,
         "type": "scatter",
         "x": [
          38817.500000000015
         ],
         "xaxis": "x",
         "y": [
          2658.7499999999927
         ],
         "yaxis": "y"
        },
        {
         "hovertemplate": "<b>%{hovertext}</b><br><br>Profile=58<br>Balance=%{x}<br>Drawdown=%{y}<extra></extra>",
         "hovertext": [
          "58"
         ],
         "legendgroup": "58",
         "marker": {
          "color": "#ab63fa",
          "symbol": "circle"
         },
         "mode": "markers",
         "name": "58",
         "orientation": "v",
         "showlegend": true,
         "type": "scatter",
         "x": [
          40188.74999999999
         ],
         "xaxis": "x",
         "y": [
          3157.4999999999854
         ],
         "yaxis": "y"
        },
        {
         "hovertemplate": "<b>%{hovertext}</b><br><br>Profile=59<br>Balance=%{x}<br>Drawdown=%{y}<extra></extra>",
         "hovertext": [
          "59"
         ],
         "legendgroup": "59",
         "marker": {
          "color": "#FFA15A",
          "symbol": "circle"
         },
         "mode": "markers",
         "name": "59",
         "orientation": "v",
         "showlegend": true,
         "type": "scatter",
         "x": [
          27873.750000000004
         ],
         "xaxis": "x",
         "y": [
          1261.2499999999998
         ],
         "yaxis": "y"
        },
        {
         "hovertemplate": "<b>%{hovertext}</b><br><br>Profile=5_<br>Balance=%{x}<br>Drawdown=%{y}<extra></extra>",
         "hovertext": [
          "5_"
         ],
         "legendgroup": "5_",
         "marker": {
          "color": "#19d3f3",
          "symbol": "circle"
         },
         "mode": "markers",
         "name": "5_",
         "orientation": "v",
         "showlegend": true,
         "type": "scatter",
         "x": [
          466275
         ],
         "xaxis": "x",
         "y": [
          17366.25000000029
         ],
         "yaxis": "y"
        },
        {
         "hovertemplate": "<b>%{hovertext}</b><br><br>Profile=60<br>Balance=%{x}<br>Drawdown=%{y}<extra></extra>",
         "hovertext": [
          "60"
         ],
         "legendgroup": "60",
         "marker": {
          "color": "#FF6692",
          "symbol": "circle"
         },
         "mode": "markers",
         "name": "60",
         "orientation": "v",
         "showlegend": true,
         "type": "scatter",
         "x": [
          26780.000000000004
         ],
         "xaxis": "x",
         "y": [
          619.9999999999983
         ],
         "yaxis": "y"
        },
        {
         "hovertemplate": "<b>%{hovertext}</b><br><br>Profile=61<br>Balance=%{x}<br>Drawdown=%{y}<extra></extra>",
         "hovertext": [
          "61"
         ],
         "legendgroup": "61",
         "marker": {
          "color": "#B6E880",
          "symbol": "circle"
         },
         "mode": "markers",
         "name": "61",
         "orientation": "v",
         "showlegend": true,
         "type": "scatter",
         "x": [
          40342.49999999999
         ],
         "xaxis": "x",
         "y": [
          1864.9999999999973
         ],
         "yaxis": "y"
        },
        {
         "hovertemplate": "<b>%{hovertext}</b><br><br>Profile=62<br>Balance=%{x}<br>Drawdown=%{y}<extra></extra>",
         "hovertext": [
          "62"
         ],
         "legendgroup": "62",
         "marker": {
          "color": "#FF97FF",
          "symbol": "circle"
         },
         "mode": "markers",
         "name": "62",
         "orientation": "v",
         "showlegend": true,
         "type": "scatter",
         "x": [
          27021.249999999993
         ],
         "xaxis": "x",
         "y": [
          1876.249999999996
         ],
         "yaxis": "y"
        },
        {
         "hovertemplate": "<b>%{hovertext}</b><br><br>Profile=63<br>Balance=%{x}<br>Drawdown=%{y}<extra></extra>",
         "hovertext": [
          "63"
         ],
         "legendgroup": "63",
         "marker": {
          "color": "#FECB52",
          "symbol": "circle"
         },
         "mode": "markers",
         "name": "63",
         "orientation": "v",
         "showlegend": true,
         "type": "scatter",
         "x": [
          27101.250000000022
         ],
         "xaxis": "x",
         "y": [
          1883.7500000000034
         ],
         "yaxis": "y"
        },
        {
         "hovertemplate": "<b>%{hovertext}</b><br><br>Profile=64<br>Balance=%{x}<br>Drawdown=%{y}<extra></extra>",
         "hovertext": [
          "64"
         ],
         "legendgroup": "64",
         "marker": {
          "color": "#636efa",
          "symbol": "circle"
         },
         "mode": "markers",
         "name": "64",
         "orientation": "v",
         "showlegend": true,
         "type": "scatter",
         "x": [
          13762.499999999995
         ],
         "xaxis": "x",
         "y": [
          1840
         ],
         "yaxis": "y"
        },
        {
         "hovertemplate": "<b>%{hovertext}</b><br><br>Profile=65<br>Balance=%{x}<br>Drawdown=%{y}<extra></extra>",
         "hovertext": [
          "65"
         ],
         "legendgroup": "65",
         "marker": {
          "color": "#EF553B",
          "symbol": "circle"
         },
         "mode": "markers",
         "name": "65",
         "orientation": "v",
         "showlegend": true,
         "type": "scatter",
         "x": [
          1249.9999999999927
         ],
         "xaxis": "x",
         "y": [
          2955.0000000000073
         ],
         "yaxis": "y"
        },
        {
         "hovertemplate": "<b>%{hovertext}</b><br><br>Profile=66<br>Balance=%{x}<br>Drawdown=%{y}<extra></extra>",
         "hovertext": [
          "66"
         ],
         "legendgroup": "66",
         "marker": {
          "color": "#00cc96",
          "symbol": "circle"
         },
         "mode": "markers",
         "name": "66",
         "orientation": "v",
         "showlegend": true,
         "type": "scatter",
         "x": [
          1951.2499999999989
         ],
         "xaxis": "x",
         "y": [
          1427.500000000001
         ],
         "yaxis": "y"
        },
        {
         "hovertemplate": "<b>%{hovertext}</b><br><br>Profile=67<br>Balance=%{x}<br>Drawdown=%{y}<extra></extra>",
         "hovertext": [
          "67"
         ],
         "legendgroup": "67",
         "marker": {
          "color": "#ab63fa",
          "symbol": "circle"
         },
         "mode": "markers",
         "name": "67",
         "orientation": "v",
         "showlegend": true,
         "type": "scatter",
         "x": [
          13443.750000000002
         ],
         "xaxis": "x",
         "y": [
          1255.0000000000005
         ],
         "yaxis": "y"
        },
        {
         "hovertemplate": "<b>%{hovertext}</b><br><br>Profile=68<br>Balance=%{x}<br>Drawdown=%{y}<extra></extra>",
         "hovertext": [
          "68"
         ],
         "legendgroup": "68",
         "marker": {
          "color": "#FFA15A",
          "symbol": "circle"
         },
         "mode": "markers",
         "name": "68",
         "orientation": "v",
         "showlegend": true,
         "type": "scatter",
         "x": [
          14027.500000000004
         ],
         "xaxis": "x",
         "y": [
          609.9999999999994
         ],
         "yaxis": "y"
        },
        {
         "hovertemplate": "<b>%{hovertext}</b><br><br>Profile=69<br>Balance=%{x}<br>Drawdown=%{y}<extra></extra>",
         "hovertext": [
          "69"
         ],
         "legendgroup": "69",
         "marker": {
          "color": "#19d3f3",
          "symbol": "circle"
         },
         "mode": "markers",
         "name": "69",
         "orientation": "v",
         "showlegend": true,
         "type": "scatter",
         "x": [
          -688.7499999999991
         ],
         "xaxis": "x",
         "y": [
          688.7499999999991
         ],
         "yaxis": "y"
        },
        {
         "hovertemplate": "<b>%{hovertext}</b><br><br>Profile=6_<br>Balance=%{x}<br>Drawdown=%{y}<extra></extra>",
         "hovertext": [
          "6_"
         ],
         "legendgroup": "6_",
         "marker": {
          "color": "#FF6692",
          "symbol": "circle"
         },
         "mode": "markers",
         "name": "6_",
         "orientation": "v",
         "showlegend": true,
         "type": "scatter",
         "x": [
          450343.75000000023
         ],
         "xaxis": "x",
         "y": [
          28752.49999999994
         ],
         "yaxis": "y"
        },
        {
         "hovertemplate": "<b>%{hovertext}</b><br><br>Profile=70<br>Balance=%{x}<br>Drawdown=%{y}<extra></extra>",
         "hovertext": [
          "70"
         ],
         "legendgroup": "70",
         "marker": {
          "color": "#B6E880",
          "symbol": "circle"
         },
         "mode": "markers",
         "name": "70",
         "orientation": "v",
         "showlegend": true,
         "type": "scatter",
         "x": [
          1792.4999999999968
         ],
         "xaxis": "x",
         "y": [
          688.7499999999991
         ],
         "yaxis": "y"
        },
        {
         "hovertemplate": "<b>%{hovertext}</b><br><br>Profile=71<br>Balance=%{x}<br>Drawdown=%{y}<extra></extra>",
         "hovertext": [
          "71"
         ],
         "legendgroup": "71",
         "marker": {
          "color": "#FF97FF",
          "symbol": "circle"
         },
         "mode": "markers",
         "name": "71",
         "orientation": "v",
         "showlegend": true,
         "type": "scatter",
         "x": [
          1206.2500000000032
         ],
         "xaxis": "x",
         "y": [
          688.7499999999991
         ],
         "yaxis": "y"
        },
        {
         "hovertemplate": "<b>%{hovertext}</b><br><br>Profile=72<br>Balance=%{x}<br>Drawdown=%{y}<extra></extra>",
         "hovertext": [
          "72"
         ],
         "legendgroup": "72",
         "marker": {
          "color": "#FECB52",
          "symbol": "circle"
         },
         "mode": "markers",
         "name": "72",
         "orientation": "v",
         "showlegend": true,
         "type": "scatter",
         "x": [
          1236.2499999999998
         ],
         "xaxis": "x",
         "y": [
          693.7499999999985
         ],
         "yaxis": "y"
        },
        {
         "hovertemplate": "<b>%{hovertext}</b><br><br>Profile=73<br>Balance=%{x}<br>Drawdown=%{y}<extra></extra>",
         "hovertext": [
          "73"
         ],
         "legendgroup": "73",
         "marker": {
          "color": "#636efa",
          "symbol": "circle"
         },
         "mode": "markers",
         "name": "73",
         "orientation": "v",
         "showlegend": true,
         "type": "scatter",
         "x": [
          10976.25
         ],
         "xaxis": "x",
         "y": [
          1287.4999999999998
         ],
         "yaxis": "y"
        },
        {
         "hovertemplate": "<b>%{hovertext}</b><br><br>Profile=74<br>Balance=%{x}<br>Drawdown=%{y}<extra></extra>",
         "hovertext": [
          "74"
         ],
         "legendgroup": "74",
         "marker": {
          "color": "#EF553B",
          "symbol": "circle"
         },
         "mode": "markers",
         "name": "74",
         "orientation": "v",
         "showlegend": true,
         "type": "scatter",
         "x": [
          2046.2499999999966
         ],
         "xaxis": "x",
         "y": [
          694.9999999999984
         ],
         "yaxis": "y"
        },
        {
         "hovertemplate": "<b>%{hovertext}</b><br><br>Profile=75<br>Balance=%{x}<br>Drawdown=%{y}<extra></extra>",
         "hovertext": [
          "75"
         ],
         "legendgroup": "75",
         "marker": {
          "color": "#00cc96",
          "symbol": "circle"
         },
         "mode": "markers",
         "name": "75",
         "orientation": "v",
         "showlegend": true,
         "type": "scatter",
         "x": [
          2534.9999999999927
         ],
         "xaxis": "x",
         "y": [
          1452.4999999999982
         ],
         "yaxis": "y"
        },
        {
         "hovertemplate": "<b>%{hovertext}</b><br><br>Profile=76<br>Balance=%{x}<br>Drawdown=%{y}<extra></extra>",
         "hovertext": [
          "76"
         ],
         "legendgroup": "76",
         "marker": {
          "color": "#ab63fa",
          "symbol": "circle"
         },
         "mode": "markers",
         "name": "76",
         "orientation": "v",
         "showlegend": true,
         "type": "scatter",
         "x": [
          -1460.0000000000002
         ],
         "xaxis": "x",
         "y": [
          1460.0000000000002
         ],
         "yaxis": "y"
        },
        {
         "hovertemplate": "<b>%{hovertext}</b><br><br>Profile=77<br>Balance=%{x}<br>Drawdown=%{y}<extra></extra>",
         "hovertext": [
          "77"
         ],
         "legendgroup": "77",
         "marker": {
          "color": "#FFA15A",
          "symbol": "circle"
         },
         "mode": "markers",
         "name": "77",
         "orientation": "v",
         "showlegend": true,
         "type": "scatter",
         "x": [
          553.7500000000001
         ],
         "xaxis": "x",
         "y": [
          0
         ],
         "yaxis": "y"
        },
        {
         "hovertemplate": "<b>%{hovertext}</b><br><br>Profile=78<br>Balance=%{x}<br>Drawdown=%{y}<extra></extra>",
         "hovertext": [
          "78"
         ],
         "legendgroup": "78",
         "marker": {
          "color": "#19d3f3",
          "symbol": "circle"
         },
         "mode": "markers",
         "name": "78",
         "orientation": "v",
         "showlegend": true,
         "type": "scatter",
         "x": [
          3376.2499999999973
         ],
         "xaxis": "x",
         "y": [
          1537.4999999999973
         ],
         "yaxis": "y"
        },
        {
         "hovertemplate": "<b>%{hovertext}</b><br><br>Profile=79<br>Balance=%{x}<br>Drawdown=%{y}<extra></extra>",
         "hovertext": [
          "79"
         ],
         "legendgroup": "79",
         "marker": {
          "color": "#FF6692",
          "symbol": "circle"
         },
         "mode": "markers",
         "name": "79",
         "orientation": "v",
         "showlegend": true,
         "type": "scatter",
         "x": [
          -352.50000000000836
         ],
         "xaxis": "x",
         "y": [
          1634.9999999999975
         ],
         "yaxis": "y"
        },
        {
         "hovertemplate": "<b>%{hovertext}</b><br><br>Profile=7_<br>Balance=%{x}<br>Drawdown=%{y}<extra></extra>",
         "hovertext": [
          "7_"
         ],
         "legendgroup": "7_",
         "marker": {
          "color": "#B6E880",
          "symbol": "circle"
         },
         "mode": "markers",
         "name": "7_",
         "orientation": "v",
         "showlegend": true,
         "type": "scatter",
         "x": [
          279833.74999999994
         ],
         "xaxis": "x",
         "y": [
          16055.000000000524
         ],
         "yaxis": "y"
        },
        {
         "hovertemplate": "<b>%{hovertext}</b><br><br>Profile=80<br>Balance=%{x}<br>Drawdown=%{y}<extra></extra>",
         "hovertext": [
          "80"
         ],
         "legendgroup": "80",
         "marker": {
          "color": "#FF97FF",
          "symbol": "circle"
         },
         "mode": "markers",
         "name": "80",
         "orientation": "v",
         "showlegend": true,
         "type": "scatter",
         "x": [
          3575.000000000003
         ],
         "xaxis": "x",
         "y": [
          1507.5000000000005
         ],
         "yaxis": "y"
        },
        {
         "hovertemplate": "<b>%{hovertext}</b><br><br>Profile=81<br>Balance=%{x}<br>Drawdown=%{y}<extra></extra>",
         "hovertext": [
          "81"
         ],
         "legendgroup": "81",
         "marker": {
          "color": "#FECB52",
          "symbol": "circle"
         },
         "mode": "markers",
         "name": "81",
         "orientation": "v",
         "showlegend": true,
         "type": "scatter",
         "x": [
          -757.4999999999999
         ],
         "xaxis": "x",
         "y": [
          757.4999999999999
         ],
         "yaxis": "y"
        },
        {
         "hovertemplate": "<b>%{hovertext}</b><br><br>Profile=82<br>Balance=%{x}<br>Drawdown=%{y}<extra></extra>",
         "hovertext": [
          "82"
         ],
         "legendgroup": "82",
         "marker": {
          "color": "#636efa",
          "symbol": "circle"
         },
         "mode": "markers",
         "name": "82",
         "orientation": "v",
         "showlegend": true,
         "type": "scatter",
         "x": [
          -754.9999999999974
         ],
         "xaxis": "x",
         "y": [
          754.9999999999974
         ],
         "yaxis": "y"
        },
        {
         "hovertemplate": "<b>%{hovertext}</b><br><br>Profile=83<br>Balance=%{x}<br>Drawdown=%{y}<extra></extra>",
         "hovertext": [
          "83"
         ],
         "legendgroup": "83",
         "marker": {
          "color": "#EF553B",
          "symbol": "circle"
         },
         "mode": "markers",
         "name": "83",
         "orientation": "v",
         "showlegend": true,
         "type": "scatter",
         "x": [
          880.000000000003
         ],
         "xaxis": "x",
         "y": [
          0
         ],
         "yaxis": "y"
        },
        {
         "hovertemplate": "<b>%{hovertext}</b><br><br>Profile=84<br>Balance=%{x}<br>Drawdown=%{y}<extra></extra>",
         "hovertext": [
          "84"
         ],
         "legendgroup": "84",
         "marker": {
          "color": "#00cc96",
          "symbol": "circle"
         },
         "mode": "markers",
         "name": "84",
         "orientation": "v",
         "showlegend": true,
         "type": "scatter",
         "x": [
          1366.2500000000077
         ],
         "xaxis": "x",
         "y": [
          2602.4999999999964
         ],
         "yaxis": "y"
        },
        {
         "hovertemplate": "<b>%{hovertext}</b><br><br>Profile=85<br>Balance=%{x}<br>Drawdown=%{y}<extra></extra>",
         "hovertext": [
          "85"
         ],
         "legendgroup": "85",
         "marker": {
          "color": "#ab63fa",
          "symbol": "circle"
         },
         "mode": "markers",
         "name": "85",
         "orientation": "v",
         "showlegend": true,
         "type": "scatter",
         "x": [
          2046.2499999999982
         ],
         "xaxis": "x",
         "y": [
          747.4999999999982
         ],
         "yaxis": "y"
        },
        {
         "hovertemplate": "<b>%{hovertext}</b><br><br>Profile=86<br>Balance=%{x}<br>Drawdown=%{y}<extra></extra>",
         "hovertext": [
          "86"
         ],
         "legendgroup": "86",
         "marker": {
          "color": "#FFA15A",
          "symbol": "circle"
         },
         "mode": "markers",
         "name": "86",
         "orientation": "v",
         "showlegend": true,
         "type": "scatter",
         "x": [
          2980.0000000000064
         ],
         "xaxis": "x",
         "y": [
          749.9999999999978
         ],
         "yaxis": "y"
        },
        {
         "hovertemplate": "<b>%{hovertext}</b><br><br>Profile=87<br>Balance=%{x}<br>Drawdown=%{y}<extra></extra>",
         "hovertext": [
          "87"
         ],
         "legendgroup": "87",
         "marker": {
          "color": "#19d3f3",
          "symbol": "circle"
         },
         "mode": "markers",
         "name": "87",
         "orientation": "v",
         "showlegend": true,
         "type": "scatter",
         "x": [
          1927.4999999999945
         ],
         "xaxis": "x",
         "y": [
          752.4999999999976
         ],
         "yaxis": "y"
        },
        {
         "hovertemplate": "<b>%{hovertext}</b><br><br>Profile=88<br>Balance=%{x}<br>Drawdown=%{y}<extra></extra>",
         "hovertext": [
          "88"
         ],
         "legendgroup": "88",
         "marker": {
          "color": "#FF6692",
          "symbol": "circle"
         },
         "mode": "markers",
         "name": "88",
         "orientation": "v",
         "showlegend": true,
         "type": "scatter",
         "x": [
          250.00000000000298
         ],
         "xaxis": "x",
         "y": [
          312.49999999999886
         ],
         "yaxis": "y"
        },
        {
         "hovertemplate": "<b>%{hovertext}</b><br><br>Profile=89<br>Balance=%{x}<br>Drawdown=%{y}<extra></extra>",
         "hovertext": [
          "89"
         ],
         "legendgroup": "89",
         "marker": {
          "color": "#B6E880",
          "symbol": "circle"
         },
         "mode": "markers",
         "name": "89",
         "orientation": "v",
         "showlegend": true,
         "type": "scatter",
         "x": [
          931.250000000003
         ],
         "xaxis": "x",
         "y": [
          41.25000000000101
         ],
         "yaxis": "y"
        },
        {
         "hovertemplate": "<b>%{hovertext}</b><br><br>Profile=8_<br>Balance=%{x}<br>Drawdown=%{y}<extra></extra>",
         "hovertext": [
          "8_"
         ],
         "legendgroup": "8_",
         "marker": {
          "color": "#FF97FF",
          "symbol": "circle"
         },
         "mode": "markers",
         "name": "8_",
         "orientation": "v",
         "showlegend": true,
         "type": "scatter",
         "x": [
          318877.50000000006
         ],
         "xaxis": "x",
         "y": [
          15173.749999999942
         ],
         "yaxis": "y"
        },
        {
         "hovertemplate": "<b>%{hovertext}</b><br><br>Profile=90<br>Balance=%{x}<br>Drawdown=%{y}<extra></extra>",
         "hovertext": [
          "90"
         ],
         "legendgroup": "90",
         "marker": {
          "color": "#FECB52",
          "symbol": "circle"
         },
         "mode": "markers",
         "name": "90",
         "orientation": "v",
         "showlegend": true,
         "type": "scatter",
         "x": [
          302.5000000000028
         ],
         "xaxis": "x",
         "y": [
          0
         ],
         "yaxis": "y"
        },
        {
         "hovertemplate": "<b>%{hovertext}</b><br><br>Profile=91<br>Balance=%{x}<br>Drawdown=%{y}<extra></extra>",
         "hovertext": [
          "91"
         ],
         "legendgroup": "91",
         "marker": {
          "color": "#636efa",
          "symbol": "circle"
         },
         "mode": "markers",
         "name": "91",
         "orientation": "v",
         "showlegend": true,
         "type": "scatter",
         "x": [
          181.25000000000225
         ],
         "xaxis": "x",
         "y": [
          0
         ],
         "yaxis": "y"
        },
        {
         "hovertemplate": "<b>%{hovertext}</b><br><br>Profile=92<br>Balance=%{x}<br>Drawdown=%{y}<extra></extra>",
         "hovertext": [
          "92"
         ],
         "legendgroup": "92",
         "marker": {
          "color": "#EF553B",
          "symbol": "circle"
         },
         "mode": "markers",
         "name": "92",
         "orientation": "v",
         "showlegend": true,
         "type": "scatter",
         "x": [
          13634.999999999996
         ],
         "xaxis": "x",
         "y": [
          42.50000000000087
         ],
         "yaxis": "y"
        },
        {
         "hovertemplate": "<b>%{hovertext}</b><br><br>Profile=93<br>Balance=%{x}<br>Drawdown=%{y}<extra></extra>",
         "hovertext": [
          "93"
         ],
         "legendgroup": "93",
         "marker": {
          "color": "#00cc96",
          "symbol": "circle"
         },
         "mode": "markers",
         "name": "93",
         "orientation": "v",
         "showlegend": true,
         "type": "scatter",
         "x": [
          -353.75000000000546
         ],
         "xaxis": "x",
         "y": [
          1455.0000000000064
         ],
         "yaxis": "y"
        },
        {
         "hovertemplate": "<b>%{hovertext}</b><br><br>Profile=94<br>Balance=%{x}<br>Drawdown=%{y}<extra></extra>",
         "hovertext": [
          "94"
         ],
         "legendgroup": "94",
         "marker": {
          "color": "#ab63fa",
          "symbol": "circle"
         },
         "mode": "markers",
         "name": "94",
         "orientation": "v",
         "showlegend": true,
         "type": "scatter",
         "x": [
          12971.249999999993
         ],
         "xaxis": "x",
         "y": [
          1734.9999999999977
         ],
         "yaxis": "y"
        },
        {
         "hovertemplate": "<b>%{hovertext}</b><br><br>Profile=95<br>Balance=%{x}<br>Drawdown=%{y}<extra></extra>",
         "hovertext": [
          "95"
         ],
         "legendgroup": "95",
         "marker": {
          "color": "#FFA15A",
          "symbol": "circle"
         },
         "mode": "markers",
         "name": "95",
         "orientation": "v",
         "showlegend": true,
         "type": "scatter",
         "x": [
          1307.5000000000073
         ],
         "xaxis": "x",
         "y": [
          2174.9999999999936
         ],
         "yaxis": "y"
        },
        {
         "hovertemplate": "<b>%{hovertext}</b><br><br>Profile=96<br>Balance=%{x}<br>Drawdown=%{y}<extra></extra>",
         "hovertext": [
          "96"
         ],
         "legendgroup": "96",
         "marker": {
          "color": "#19d3f3",
          "symbol": "circle"
         },
         "mode": "markers",
         "name": "96",
         "orientation": "v",
         "showlegend": true,
         "type": "scatter",
         "x": [
          14627.499999999987
         ],
         "xaxis": "x",
         "y": [
          2572.5
         ],
         "yaxis": "y"
        },
        {
         "hovertemplate": "<b>%{hovertext}</b><br><br>Profile=97<br>Balance=%{x}<br>Drawdown=%{y}<extra></extra>",
         "hovertext": [
          "97"
         ],
         "legendgroup": "97",
         "marker": {
          "color": "#FF6692",
          "symbol": "circle"
         },
         "mode": "markers",
         "name": "97",
         "orientation": "v",
         "showlegend": true,
         "type": "scatter",
         "x": [
          318.75000000000375
         ],
         "xaxis": "x",
         "y": [
          43.75000000000073
         ],
         "yaxis": "y"
        },
        {
         "hovertemplate": "<b>%{hovertext}</b><br><br>Profile=98<br>Balance=%{x}<br>Drawdown=%{y}<extra></extra>",
         "hovertext": [
          "98"
         ],
         "legendgroup": "98",
         "marker": {
          "color": "#B6E880",
          "symbol": "circle"
         },
         "mode": "markers",
         "name": "98",
         "orientation": "v",
         "showlegend": true,
         "type": "scatter",
         "x": [
          12889.99999999999
         ],
         "xaxis": "x",
         "y": [
          2137.5000000000005
         ],
         "yaxis": "y"
        },
        {
         "hovertemplate": "<b>%{hovertext}</b><br><br>Profile=9_<br>Balance=%{x}<br>Drawdown=%{y}<extra></extra>",
         "hovertext": [
          "9_"
         ],
         "legendgroup": "9_",
         "marker": {
          "color": "#FF97FF",
          "symbol": "circle"
         },
         "mode": "markers",
         "name": "9_",
         "orientation": "v",
         "showlegend": true,
         "type": "scatter",
         "x": [
          238272.50000000003
         ],
         "xaxis": "x",
         "y": [
          13218.750000000146
         ],
         "yaxis": "y"
        },
        {
         "marker": {
          "color": "red",
          "size": 20,
          "symbol": "star"
         },
         "mode": "markers+text",
         "name": "Punto Destacado",
         "text": [
          "Punto Destacado"
         ],
         "textposition": "top center",
         "type": "scatter",
         "x": [
          134936.33838383842
         ],
         "y": [
          9131.805555555682
         ]
        }
       ],
       "layout": {
        "legend": {
         "title": {
          "text": "Profile"
         },
         "tracegroupgap": 0
        },
        "margin": {
         "t": 60
        },
        "template": {
         "data": {
          "bar": [
           {
            "error_x": {
             "color": "#2a3f5f"
            },
            "error_y": {
             "color": "#2a3f5f"
            },
            "marker": {
             "line": {
              "color": "white",
              "width": 0.5
             },
             "pattern": {
              "fillmode": "overlay",
              "size": 10,
              "solidity": 0.2
             }
            },
            "type": "bar"
           }
          ],
          "barpolar": [
           {
            "marker": {
             "line": {
              "color": "white",
              "width": 0.5
             },
             "pattern": {
              "fillmode": "overlay",
              "size": 10,
              "solidity": 0.2
             }
            },
            "type": "barpolar"
           }
          ],
          "carpet": [
           {
            "aaxis": {
             "endlinecolor": "#2a3f5f",
             "gridcolor": "#C8D4E3",
             "linecolor": "#C8D4E3",
             "minorgridcolor": "#C8D4E3",
             "startlinecolor": "#2a3f5f"
            },
            "baxis": {
             "endlinecolor": "#2a3f5f",
             "gridcolor": "#C8D4E3",
             "linecolor": "#C8D4E3",
             "minorgridcolor": "#C8D4E3",
             "startlinecolor": "#2a3f5f"
            },
            "type": "carpet"
           }
          ],
          "choropleth": [
           {
            "colorbar": {
             "outlinewidth": 0,
             "ticks": ""
            },
            "type": "choropleth"
           }
          ],
          "contour": [
           {
            "colorbar": {
             "outlinewidth": 0,
             "ticks": ""
            },
            "colorscale": [
             [
              0,
              "#0d0887"
             ],
             [
              0.1111111111111111,
              "#46039f"
             ],
             [
              0.2222222222222222,
              "#7201a8"
             ],
             [
              0.3333333333333333,
              "#9c179e"
             ],
             [
              0.4444444444444444,
              "#bd3786"
             ],
             [
              0.5555555555555556,
              "#d8576b"
             ],
             [
              0.6666666666666666,
              "#ed7953"
             ],
             [
              0.7777777777777778,
              "#fb9f3a"
             ],
             [
              0.8888888888888888,
              "#fdca26"
             ],
             [
              1,
              "#f0f921"
             ]
            ],
            "type": "contour"
           }
          ],
          "contourcarpet": [
           {
            "colorbar": {
             "outlinewidth": 0,
             "ticks": ""
            },
            "type": "contourcarpet"
           }
          ],
          "heatmap": [
           {
            "colorbar": {
             "outlinewidth": 0,
             "ticks": ""
            },
            "colorscale": [
             [
              0,
              "#0d0887"
             ],
             [
              0.1111111111111111,
              "#46039f"
             ],
             [
              0.2222222222222222,
              "#7201a8"
             ],
             [
              0.3333333333333333,
              "#9c179e"
             ],
             [
              0.4444444444444444,
              "#bd3786"
             ],
             [
              0.5555555555555556,
              "#d8576b"
             ],
             [
              0.6666666666666666,
              "#ed7953"
             ],
             [
              0.7777777777777778,
              "#fb9f3a"
             ],
             [
              0.8888888888888888,
              "#fdca26"
             ],
             [
              1,
              "#f0f921"
             ]
            ],
            "type": "heatmap"
           }
          ],
          "heatmapgl": [
           {
            "colorbar": {
             "outlinewidth": 0,
             "ticks": ""
            },
            "colorscale": [
             [
              0,
              "#0d0887"
             ],
             [
              0.1111111111111111,
              "#46039f"
             ],
             [
              0.2222222222222222,
              "#7201a8"
             ],
             [
              0.3333333333333333,
              "#9c179e"
             ],
             [
              0.4444444444444444,
              "#bd3786"
             ],
             [
              0.5555555555555556,
              "#d8576b"
             ],
             [
              0.6666666666666666,
              "#ed7953"
             ],
             [
              0.7777777777777778,
              "#fb9f3a"
             ],
             [
              0.8888888888888888,
              "#fdca26"
             ],
             [
              1,
              "#f0f921"
             ]
            ],
            "type": "heatmapgl"
           }
          ],
          "histogram": [
           {
            "marker": {
             "pattern": {
              "fillmode": "overlay",
              "size": 10,
              "solidity": 0.2
             }
            },
            "type": "histogram"
           }
          ],
          "histogram2d": [
           {
            "colorbar": {
             "outlinewidth": 0,
             "ticks": ""
            },
            "colorscale": [
             [
              0,
              "#0d0887"
             ],
             [
              0.1111111111111111,
              "#46039f"
             ],
             [
              0.2222222222222222,
              "#7201a8"
             ],
             [
              0.3333333333333333,
              "#9c179e"
             ],
             [
              0.4444444444444444,
              "#bd3786"
             ],
             [
              0.5555555555555556,
              "#d8576b"
             ],
             [
              0.6666666666666666,
              "#ed7953"
             ],
             [
              0.7777777777777778,
              "#fb9f3a"
             ],
             [
              0.8888888888888888,
              "#fdca26"
             ],
             [
              1,
              "#f0f921"
             ]
            ],
            "type": "histogram2d"
           }
          ],
          "histogram2dcontour": [
           {
            "colorbar": {
             "outlinewidth": 0,
             "ticks": ""
            },
            "colorscale": [
             [
              0,
              "#0d0887"
             ],
             [
              0.1111111111111111,
              "#46039f"
             ],
             [
              0.2222222222222222,
              "#7201a8"
             ],
             [
              0.3333333333333333,
              "#9c179e"
             ],
             [
              0.4444444444444444,
              "#bd3786"
             ],
             [
              0.5555555555555556,
              "#d8576b"
             ],
             [
              0.6666666666666666,
              "#ed7953"
             ],
             [
              0.7777777777777778,
              "#fb9f3a"
             ],
             [
              0.8888888888888888,
              "#fdca26"
             ],
             [
              1,
              "#f0f921"
             ]
            ],
            "type": "histogram2dcontour"
           }
          ],
          "mesh3d": [
           {
            "colorbar": {
             "outlinewidth": 0,
             "ticks": ""
            },
            "type": "mesh3d"
           }
          ],
          "parcoords": [
           {
            "line": {
             "colorbar": {
              "outlinewidth": 0,
              "ticks": ""
             }
            },
            "type": "parcoords"
           }
          ],
          "pie": [
           {
            "automargin": true,
            "type": "pie"
           }
          ],
          "scatter": [
           {
            "fillpattern": {
             "fillmode": "overlay",
             "size": 10,
             "solidity": 0.2
            },
            "type": "scatter"
           }
          ],
          "scatter3d": [
           {
            "line": {
             "colorbar": {
              "outlinewidth": 0,
              "ticks": ""
             }
            },
            "marker": {
             "colorbar": {
              "outlinewidth": 0,
              "ticks": ""
             }
            },
            "type": "scatter3d"
           }
          ],
          "scattercarpet": [
           {
            "marker": {
             "colorbar": {
              "outlinewidth": 0,
              "ticks": ""
             }
            },
            "type": "scattercarpet"
           }
          ],
          "scattergeo": [
           {
            "marker": {
             "colorbar": {
              "outlinewidth": 0,
              "ticks": ""
             }
            },
            "type": "scattergeo"
           }
          ],
          "scattergl": [
           {
            "marker": {
             "colorbar": {
              "outlinewidth": 0,
              "ticks": ""
             }
            },
            "type": "scattergl"
           }
          ],
          "scattermapbox": [
           {
            "marker": {
             "colorbar": {
              "outlinewidth": 0,
              "ticks": ""
             }
            },
            "type": "scattermapbox"
           }
          ],
          "scatterpolar": [
           {
            "marker": {
             "colorbar": {
              "outlinewidth": 0,
              "ticks": ""
             }
            },
            "type": "scatterpolar"
           }
          ],
          "scatterpolargl": [
           {
            "marker": {
             "colorbar": {
              "outlinewidth": 0,
              "ticks": ""
             }
            },
            "type": "scatterpolargl"
           }
          ],
          "scatterternary": [
           {
            "marker": {
             "colorbar": {
              "outlinewidth": 0,
              "ticks": ""
             }
            },
            "type": "scatterternary"
           }
          ],
          "surface": [
           {
            "colorbar": {
             "outlinewidth": 0,
             "ticks": ""
            },
            "colorscale": [
             [
              0,
              "#0d0887"
             ],
             [
              0.1111111111111111,
              "#46039f"
             ],
             [
              0.2222222222222222,
              "#7201a8"
             ],
             [
              0.3333333333333333,
              "#9c179e"
             ],
             [
              0.4444444444444444,
              "#bd3786"
             ],
             [
              0.5555555555555556,
              "#d8576b"
             ],
             [
              0.6666666666666666,
              "#ed7953"
             ],
             [
              0.7777777777777778,
              "#fb9f3a"
             ],
             [
              0.8888888888888888,
              "#fdca26"
             ],
             [
              1,
              "#f0f921"
             ]
            ],
            "type": "surface"
           }
          ],
          "table": [
           {
            "cells": {
             "fill": {
              "color": "#EBF0F8"
             },
             "line": {
              "color": "white"
             }
            },
            "header": {
             "fill": {
              "color": "#C8D4E3"
             },
             "line": {
              "color": "white"
             }
            },
            "type": "table"
           }
          ]
         },
         "layout": {
          "annotationdefaults": {
           "arrowcolor": "#2a3f5f",
           "arrowhead": 0,
           "arrowwidth": 1
          },
          "autotypenumbers": "strict",
          "coloraxis": {
           "colorbar": {
            "outlinewidth": 0,
            "ticks": ""
           }
          },
          "colorscale": {
           "diverging": [
            [
             0,
             "#8e0152"
            ],
            [
             0.1,
             "#c51b7d"
            ],
            [
             0.2,
             "#de77ae"
            ],
            [
             0.3,
             "#f1b6da"
            ],
            [
             0.4,
             "#fde0ef"
            ],
            [
             0.5,
             "#f7f7f7"
            ],
            [
             0.6,
             "#e6f5d0"
            ],
            [
             0.7,
             "#b8e186"
            ],
            [
             0.8,
             "#7fbc41"
            ],
            [
             0.9,
             "#4d9221"
            ],
            [
             1,
             "#276419"
            ]
           ],
           "sequential": [
            [
             0,
             "#0d0887"
            ],
            [
             0.1111111111111111,
             "#46039f"
            ],
            [
             0.2222222222222222,
             "#7201a8"
            ],
            [
             0.3333333333333333,
             "#9c179e"
            ],
            [
             0.4444444444444444,
             "#bd3786"
            ],
            [
             0.5555555555555556,
             "#d8576b"
            ],
            [
             0.6666666666666666,
             "#ed7953"
            ],
            [
             0.7777777777777778,
             "#fb9f3a"
            ],
            [
             0.8888888888888888,
             "#fdca26"
            ],
            [
             1,
             "#f0f921"
            ]
           ],
           "sequentialminus": [
            [
             0,
             "#0d0887"
            ],
            [
             0.1111111111111111,
             "#46039f"
            ],
            [
             0.2222222222222222,
             "#7201a8"
            ],
            [
             0.3333333333333333,
             "#9c179e"
            ],
            [
             0.4444444444444444,
             "#bd3786"
            ],
            [
             0.5555555555555556,
             "#d8576b"
            ],
            [
             0.6666666666666666,
             "#ed7953"
            ],
            [
             0.7777777777777778,
             "#fb9f3a"
            ],
            [
             0.8888888888888888,
             "#fdca26"
            ],
            [
             1,
             "#f0f921"
            ]
           ]
          },
          "colorway": [
           "#636efa",
           "#EF553B",
           "#00cc96",
           "#ab63fa",
           "#FFA15A",
           "#19d3f3",
           "#FF6692",
           "#B6E880",
           "#FF97FF",
           "#FECB52"
          ],
          "font": {
           "color": "#2a3f5f"
          },
          "geo": {
           "bgcolor": "white",
           "lakecolor": "white",
           "landcolor": "white",
           "showlakes": true,
           "showland": true,
           "subunitcolor": "#C8D4E3"
          },
          "hoverlabel": {
           "align": "left"
          },
          "hovermode": "closest",
          "mapbox": {
           "style": "light"
          },
          "paper_bgcolor": "white",
          "plot_bgcolor": "white",
          "polar": {
           "angularaxis": {
            "gridcolor": "#EBF0F8",
            "linecolor": "#EBF0F8",
            "ticks": ""
           },
           "bgcolor": "white",
           "radialaxis": {
            "gridcolor": "#EBF0F8",
            "linecolor": "#EBF0F8",
            "ticks": ""
           }
          },
          "scene": {
           "xaxis": {
            "backgroundcolor": "white",
            "gridcolor": "#DFE8F3",
            "gridwidth": 2,
            "linecolor": "#EBF0F8",
            "showbackground": true,
            "ticks": "",
            "zerolinecolor": "#EBF0F8"
           },
           "yaxis": {
            "backgroundcolor": "white",
            "gridcolor": "#DFE8F3",
            "gridwidth": 2,
            "linecolor": "#EBF0F8",
            "showbackground": true,
            "ticks": "",
            "zerolinecolor": "#EBF0F8"
           },
           "zaxis": {
            "backgroundcolor": "white",
            "gridcolor": "#DFE8F3",
            "gridwidth": 2,
            "linecolor": "#EBF0F8",
            "showbackground": true,
            "ticks": "",
            "zerolinecolor": "#EBF0F8"
           }
          },
          "shapedefaults": {
           "line": {
            "color": "#2a3f5f"
           }
          },
          "ternary": {
           "aaxis": {
            "gridcolor": "#DFE8F3",
            "linecolor": "#A2B1C6",
            "ticks": ""
           },
           "baxis": {
            "gridcolor": "#DFE8F3",
            "linecolor": "#A2B1C6",
            "ticks": ""
           },
           "bgcolor": "white",
           "caxis": {
            "gridcolor": "#DFE8F3",
            "linecolor": "#A2B1C6",
            "ticks": ""
           }
          },
          "title": {
           "x": 0.05
          },
          "xaxis": {
           "automargin": true,
           "gridcolor": "#EBF0F8",
           "linecolor": "#EBF0F8",
           "ticks": "",
           "title": {
            "standoff": 15
           },
           "zerolinecolor": "#EBF0F8",
           "zerolinewidth": 2
          },
          "yaxis": {
           "automargin": true,
           "gridcolor": "#EBF0F8",
           "linecolor": "#EBF0F8",
           "ticks": "",
           "title": {
            "standoff": 15
           },
           "zerolinecolor": "#EBF0F8",
           "zerolinewidth": 2
          }
         }
        },
        "title": {
         "text": "Drawdown x Balance x Profile"
        },
        "xaxis": {
         "anchor": "y",
         "domain": [
          0,
          1
         ],
         "title": {
          "text": "Balance"
         }
        },
        "yaxis": {
         "anchor": "x",
         "domain": [
          0,
          1
         ],
         "title": {
          "text": "Drawdown"
         }
        }
       }
      }
     },
     "metadata": {},
     "output_type": "display_data"
    }
   ],
   "source": [
    "# Crear la gráfica de dispersión\n",
    "fig = px.scatter(df, \n",
    "                 x=\"Balance\", y=\"Drawdown\", \n",
    "                 color=\"Profile\", \n",
    "                 hover_name=\"Profile\", \n",
    "                 template='plotly_white')\n",
    "\n",
    "\n",
    "\n",
    "# Añadir el título\n",
    "fig.update_layout(title='Drawdown x Balance x Profile')\n",
    "\n",
    "# Añadir punto destacado\n",
    "highlighted_point = {\n",
    "    \"x\": [sum(df['Balance']) / len(df['Balance'])],\n",
    "    \"y\": [sum(df['Drawdown']) / len(df['Drawdown'])],\n",
    "    \"text\": [\"Punto Destacado\"],\n",
    "    \"marker\": {\"color\": \"red\", \"size\": 20, \"symbol\": \"star\"}\n",
    "}\n",
    "\n",
    "fig.add_trace(\n",
    "    go.Scatter(\n",
    "        x=highlighted_point[\"x\"],\n",
    "        y=highlighted_point[\"y\"],\n",
    "        mode='markers+text',\n",
    "        text=highlighted_point[\"text\"],\n",
    "        textposition='top center',\n",
    "        marker=highlighted_point[\"marker\"],\n",
    "        name='Punto Destacado'\n",
    "    )\n",
    ")\n",
    "\n",
    "# Calcular el centroide\n",
    "X = sum(df['Balance']) / len(df['Balance'])\n",
    "Y = sum(df['Drawdown']) / len(df['Drawdown'])\n",
    "print(f'centroide X: {X}, Y: {Y}')\n",
    "\n",
    "# Mostrar la gráfica\n",
    "fig.show()"
   ]
  }
 ],
 "metadata": {
  "kernelspec": {
   "display_name": "venv_py",
   "language": "python",
   "name": "python3"
  },
  "language_info": {
   "codemirror_mode": {
    "name": "ipython",
    "version": 3
   },
   "file_extension": ".py",
   "mimetype": "text/x-python",
   "name": "python",
   "nbconvert_exporter": "python",
   "pygments_lexer": "ipython3",
   "version": "3.9.17"
  }
 },
 "nbformat": 4,
 "nbformat_minor": 2
}
